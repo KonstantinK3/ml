{
 "cells": [
  {
   "cell_type": "code",
   "execution_count": 1,
   "metadata": {
    "collapsed": true
   },
   "outputs": [],
   "source": [
    "import pandas as pd\n",
    "import matplotlib.pyplot as plt\n",
    "import numpy as np\n",
    "import seaborn as sns\n",
    "%matplotlib inline"
   ]
  },
  {
   "cell_type": "code",
   "execution_count": 2,
   "metadata": {
    "collapsed": true
   },
   "outputs": [],
   "source": [
    "data = pd.read_csv('./data/titanic.csv', index_col='PassengerId')"
   ]
  },
  {
   "cell_type": "code",
   "execution_count": 3,
   "metadata": {},
   "outputs": [
    {
     "data": {
      "text/html": [
       "<div>\n",
       "<style>\n",
       "    .dataframe thead tr:only-child th {\n",
       "        text-align: right;\n",
       "    }\n",
       "\n",
       "    .dataframe thead th {\n",
       "        text-align: left;\n",
       "    }\n",
       "\n",
       "    .dataframe tbody tr th {\n",
       "        vertical-align: top;\n",
       "    }\n",
       "</style>\n",
       "<table border=\"1\" class=\"dataframe\">\n",
       "  <thead>\n",
       "    <tr style=\"text-align: right;\">\n",
       "      <th></th>\n",
       "      <th>Survived</th>\n",
       "      <th>Pclass</th>\n",
       "      <th>Name</th>\n",
       "      <th>Sex</th>\n",
       "      <th>Age</th>\n",
       "      <th>SibSp</th>\n",
       "      <th>Parch</th>\n",
       "      <th>Ticket</th>\n",
       "      <th>Fare</th>\n",
       "      <th>Cabin</th>\n",
       "      <th>Embarked</th>\n",
       "    </tr>\n",
       "    <tr>\n",
       "      <th>PassengerId</th>\n",
       "      <th></th>\n",
       "      <th></th>\n",
       "      <th></th>\n",
       "      <th></th>\n",
       "      <th></th>\n",
       "      <th></th>\n",
       "      <th></th>\n",
       "      <th></th>\n",
       "      <th></th>\n",
       "      <th></th>\n",
       "      <th></th>\n",
       "    </tr>\n",
       "  </thead>\n",
       "  <tbody>\n",
       "    <tr>\n",
       "      <th>1</th>\n",
       "      <td>0</td>\n",
       "      <td>3</td>\n",
       "      <td>Braund, Mr. Owen Harris</td>\n",
       "      <td>male</td>\n",
       "      <td>22.0</td>\n",
       "      <td>1</td>\n",
       "      <td>0</td>\n",
       "      <td>A/5 21171</td>\n",
       "      <td>7.2500</td>\n",
       "      <td>NaN</td>\n",
       "      <td>S</td>\n",
       "    </tr>\n",
       "    <tr>\n",
       "      <th>2</th>\n",
       "      <td>1</td>\n",
       "      <td>1</td>\n",
       "      <td>Cumings, Mrs. John Bradley (Florence Briggs Th...</td>\n",
       "      <td>female</td>\n",
       "      <td>38.0</td>\n",
       "      <td>1</td>\n",
       "      <td>0</td>\n",
       "      <td>PC 17599</td>\n",
       "      <td>71.2833</td>\n",
       "      <td>C85</td>\n",
       "      <td>C</td>\n",
       "    </tr>\n",
       "    <tr>\n",
       "      <th>3</th>\n",
       "      <td>1</td>\n",
       "      <td>3</td>\n",
       "      <td>Heikkinen, Miss. Laina</td>\n",
       "      <td>female</td>\n",
       "      <td>26.0</td>\n",
       "      <td>0</td>\n",
       "      <td>0</td>\n",
       "      <td>STON/O2. 3101282</td>\n",
       "      <td>7.9250</td>\n",
       "      <td>NaN</td>\n",
       "      <td>S</td>\n",
       "    </tr>\n",
       "    <tr>\n",
       "      <th>4</th>\n",
       "      <td>1</td>\n",
       "      <td>1</td>\n",
       "      <td>Futrelle, Mrs. Jacques Heath (Lily May Peel)</td>\n",
       "      <td>female</td>\n",
       "      <td>35.0</td>\n",
       "      <td>1</td>\n",
       "      <td>0</td>\n",
       "      <td>113803</td>\n",
       "      <td>53.1000</td>\n",
       "      <td>C123</td>\n",
       "      <td>S</td>\n",
       "    </tr>\n",
       "    <tr>\n",
       "      <th>5</th>\n",
       "      <td>0</td>\n",
       "      <td>3</td>\n",
       "      <td>Allen, Mr. William Henry</td>\n",
       "      <td>male</td>\n",
       "      <td>35.0</td>\n",
       "      <td>0</td>\n",
       "      <td>0</td>\n",
       "      <td>373450</td>\n",
       "      <td>8.0500</td>\n",
       "      <td>NaN</td>\n",
       "      <td>S</td>\n",
       "    </tr>\n",
       "  </tbody>\n",
       "</table>\n",
       "</div>"
      ],
      "text/plain": [
       "             Survived  Pclass  \\\n",
       "PassengerId                     \n",
       "1                   0       3   \n",
       "2                   1       1   \n",
       "3                   1       3   \n",
       "4                   1       1   \n",
       "5                   0       3   \n",
       "\n",
       "                                                          Name     Sex   Age  \\\n",
       "PassengerId                                                                    \n",
       "1                                      Braund, Mr. Owen Harris    male  22.0   \n",
       "2            Cumings, Mrs. John Bradley (Florence Briggs Th...  female  38.0   \n",
       "3                                       Heikkinen, Miss. Laina  female  26.0   \n",
       "4                 Futrelle, Mrs. Jacques Heath (Lily May Peel)  female  35.0   \n",
       "5                                     Allen, Mr. William Henry    male  35.0   \n",
       "\n",
       "             SibSp  Parch            Ticket     Fare Cabin Embarked  \n",
       "PassengerId                                                          \n",
       "1                1      0         A/5 21171   7.2500   NaN        S  \n",
       "2                1      0          PC 17599  71.2833   C85        C  \n",
       "3                0      0  STON/O2. 3101282   7.9250   NaN        S  \n",
       "4                1      0            113803  53.1000  C123        S  \n",
       "5                0      0            373450   8.0500   NaN        S  "
      ]
     },
     "execution_count": 3,
     "metadata": {},
     "output_type": "execute_result"
    }
   ],
   "source": [
    "data.head()"
   ]
  },
  {
   "cell_type": "code",
   "execution_count": 4,
   "metadata": {},
   "outputs": [
    {
     "data": {
      "text/html": [
       "<div>\n",
       "<style>\n",
       "    .dataframe thead tr:only-child th {\n",
       "        text-align: right;\n",
       "    }\n",
       "\n",
       "    .dataframe thead th {\n",
       "        text-align: left;\n",
       "    }\n",
       "\n",
       "    .dataframe tbody tr th {\n",
       "        vertical-align: top;\n",
       "    }\n",
       "</style>\n",
       "<table border=\"1\" class=\"dataframe\">\n",
       "  <thead>\n",
       "    <tr style=\"text-align: right;\">\n",
       "      <th></th>\n",
       "      <th>Survived</th>\n",
       "      <th>Pclass</th>\n",
       "      <th>Age</th>\n",
       "      <th>SibSp</th>\n",
       "      <th>Parch</th>\n",
       "      <th>Fare</th>\n",
       "    </tr>\n",
       "  </thead>\n",
       "  <tbody>\n",
       "    <tr>\n",
       "      <th>count</th>\n",
       "      <td>891.000000</td>\n",
       "      <td>891.000000</td>\n",
       "      <td>714.000000</td>\n",
       "      <td>891.000000</td>\n",
       "      <td>891.000000</td>\n",
       "      <td>891.000000</td>\n",
       "    </tr>\n",
       "    <tr>\n",
       "      <th>mean</th>\n",
       "      <td>0.383838</td>\n",
       "      <td>2.308642</td>\n",
       "      <td>29.699118</td>\n",
       "      <td>0.523008</td>\n",
       "      <td>0.381594</td>\n",
       "      <td>32.204208</td>\n",
       "    </tr>\n",
       "    <tr>\n",
       "      <th>std</th>\n",
       "      <td>0.486592</td>\n",
       "      <td>0.836071</td>\n",
       "      <td>14.526497</td>\n",
       "      <td>1.102743</td>\n",
       "      <td>0.806057</td>\n",
       "      <td>49.693429</td>\n",
       "    </tr>\n",
       "    <tr>\n",
       "      <th>min</th>\n",
       "      <td>0.000000</td>\n",
       "      <td>1.000000</td>\n",
       "      <td>0.420000</td>\n",
       "      <td>0.000000</td>\n",
       "      <td>0.000000</td>\n",
       "      <td>0.000000</td>\n",
       "    </tr>\n",
       "    <tr>\n",
       "      <th>25%</th>\n",
       "      <td>0.000000</td>\n",
       "      <td>2.000000</td>\n",
       "      <td>20.125000</td>\n",
       "      <td>0.000000</td>\n",
       "      <td>0.000000</td>\n",
       "      <td>7.910400</td>\n",
       "    </tr>\n",
       "    <tr>\n",
       "      <th>50%</th>\n",
       "      <td>0.000000</td>\n",
       "      <td>3.000000</td>\n",
       "      <td>28.000000</td>\n",
       "      <td>0.000000</td>\n",
       "      <td>0.000000</td>\n",
       "      <td>14.454200</td>\n",
       "    </tr>\n",
       "    <tr>\n",
       "      <th>75%</th>\n",
       "      <td>1.000000</td>\n",
       "      <td>3.000000</td>\n",
       "      <td>38.000000</td>\n",
       "      <td>1.000000</td>\n",
       "      <td>0.000000</td>\n",
       "      <td>31.000000</td>\n",
       "    </tr>\n",
       "    <tr>\n",
       "      <th>max</th>\n",
       "      <td>1.000000</td>\n",
       "      <td>3.000000</td>\n",
       "      <td>80.000000</td>\n",
       "      <td>8.000000</td>\n",
       "      <td>6.000000</td>\n",
       "      <td>512.329200</td>\n",
       "    </tr>\n",
       "  </tbody>\n",
       "</table>\n",
       "</div>"
      ],
      "text/plain": [
       "         Survived      Pclass         Age       SibSp       Parch        Fare\n",
       "count  891.000000  891.000000  714.000000  891.000000  891.000000  891.000000\n",
       "mean     0.383838    2.308642   29.699118    0.523008    0.381594   32.204208\n",
       "std      0.486592    0.836071   14.526497    1.102743    0.806057   49.693429\n",
       "min      0.000000    1.000000    0.420000    0.000000    0.000000    0.000000\n",
       "25%      0.000000    2.000000   20.125000    0.000000    0.000000    7.910400\n",
       "50%      0.000000    3.000000   28.000000    0.000000    0.000000   14.454200\n",
       "75%      1.000000    3.000000   38.000000    1.000000    0.000000   31.000000\n",
       "max      1.000000    3.000000   80.000000    8.000000    6.000000  512.329200"
      ]
     },
     "execution_count": 4,
     "metadata": {},
     "output_type": "execute_result"
    }
   ],
   "source": [
    "data.describe()"
   ]
  },
  {
   "cell_type": "code",
   "execution_count": 5,
   "metadata": {},
   "outputs": [
    {
     "name": "stdout",
     "output_type": "stream",
     "text": [
      "<class 'pandas.core.frame.DataFrame'>\n",
      "Int64Index: 891 entries, 1 to 891\n",
      "Data columns (total 11 columns):\n",
      "Survived    891 non-null int64\n",
      "Pclass      891 non-null int64\n",
      "Name        891 non-null object\n",
      "Sex         891 non-null object\n",
      "Age         714 non-null float64\n",
      "SibSp       891 non-null int64\n",
      "Parch       891 non-null int64\n",
      "Ticket      891 non-null object\n",
      "Fare        891 non-null float64\n",
      "Cabin       204 non-null object\n",
      "Embarked    889 non-null object\n",
      "dtypes: float64(2), int64(4), object(5)\n",
      "memory usage: 83.5+ KB\n"
     ]
    }
   ],
   "source": [
    "data.info()"
   ]
  },
  {
   "cell_type": "markdown",
   "metadata": {},
   "source": [
    "Lesson 2"
   ]
  },
  {
   "cell_type": "code",
   "execution_count": 6,
   "metadata": {
    "collapsed": true
   },
   "outputs": [],
   "source": [
    "import numpy as np\n",
    "from sklearn.tree import DecisionTreeClassifier"
   ]
  },
  {
   "cell_type": "code",
   "execution_count": 28,
   "metadata": {
    "collapsed": true
   },
   "outputs": [],
   "source": [
    "df = data[[\"Pclass\", \"Fare\", \"Age\", \"Sex\", \"Survived\"]]"
   ]
  },
  {
   "cell_type": "code",
   "execution_count": 29,
   "metadata": {
    "collapsed": true
   },
   "outputs": [],
   "source": [
    "df = df.dropna()"
   ]
  },
  {
   "cell_type": "code",
   "execution_count": 30,
   "metadata": {
    "collapsed": true
   },
   "outputs": [],
   "source": [
    "y = df.Survived"
   ]
  },
  {
   "cell_type": "code",
   "execution_count": 35,
   "metadata": {
    "scrolled": true
   },
   "outputs": [],
   "source": [
    "df = df.drop([\"Survived\"], axis=1)"
   ]
  },
  {
   "cell_type": "code",
   "execution_count": 36,
   "metadata": {
    "collapsed": true
   },
   "outputs": [],
   "source": [
    "df = pd.get_dummies(df, columns=[\"Sex\"])"
   ]
  },
  {
   "cell_type": "code",
   "execution_count": 37,
   "metadata": {
    "collapsed": true
   },
   "outputs": [],
   "source": [
    "df = df.drop([\"Sex_female\"], axis=1)"
   ]
  },
  {
   "cell_type": "code",
   "execution_count": 38,
   "metadata": {},
   "outputs": [],
   "source": [
    "X = df"
   ]
  },
  {
   "cell_type": "code",
   "execution_count": 48,
   "metadata": {},
   "outputs": [
    {
     "data": {
      "text/plain": [
       "DecisionTreeClassifier(class_weight=None, criterion='gini', max_depth=None,\n",
       "            max_features=None, max_leaf_nodes=None,\n",
       "            min_impurity_split=1e-07, min_samples_leaf=1,\n",
       "            min_samples_split=2, min_weight_fraction_leaf=0.0,\n",
       "            presort=False, random_state=None, splitter='best')"
      ]
     },
     "execution_count": 48,
     "metadata": {},
     "output_type": "execute_result"
    }
   ],
   "source": [
    "clf = DecisionTreeClassifier()\n",
    "clf.fit(X, y)"
   ]
  },
  {
   "cell_type": "code",
   "execution_count": 49,
   "metadata": {},
   "outputs": [
    {
     "data": {
      "text/plain": [
       "array([ 0.1430104 ,  0.30312328,  0.25335411,  0.30051221])"
      ]
     },
     "execution_count": 49,
     "metadata": {},
     "output_type": "execute_result"
    }
   ],
   "source": [
    "importances = clf.feature_importances_\n",
    "importances"
   ]
  },
  {
   "cell_type": "code",
   "execution_count": 50,
   "metadata": {},
   "outputs": [
    {
     "data": {
      "text/html": [
       "<div>\n",
       "<style>\n",
       "    .dataframe thead tr:only-child th {\n",
       "        text-align: right;\n",
       "    }\n",
       "\n",
       "    .dataframe thead th {\n",
       "        text-align: left;\n",
       "    }\n",
       "\n",
       "    .dataframe tbody tr th {\n",
       "        vertical-align: top;\n",
       "    }\n",
       "</style>\n",
       "<table border=\"1\" class=\"dataframe\">\n",
       "  <thead>\n",
       "    <tr style=\"text-align: right;\">\n",
       "      <th></th>\n",
       "      <th>Pclass</th>\n",
       "      <th>Fare</th>\n",
       "      <th>Age</th>\n",
       "      <th>Sex_male</th>\n",
       "    </tr>\n",
       "    <tr>\n",
       "      <th>PassengerId</th>\n",
       "      <th></th>\n",
       "      <th></th>\n",
       "      <th></th>\n",
       "      <th></th>\n",
       "    </tr>\n",
       "  </thead>\n",
       "  <tbody>\n",
       "    <tr>\n",
       "      <th>1</th>\n",
       "      <td>3</td>\n",
       "      <td>7.2500</td>\n",
       "      <td>22.0</td>\n",
       "      <td>1</td>\n",
       "    </tr>\n",
       "    <tr>\n",
       "      <th>2</th>\n",
       "      <td>1</td>\n",
       "      <td>71.2833</td>\n",
       "      <td>38.0</td>\n",
       "      <td>0</td>\n",
       "    </tr>\n",
       "    <tr>\n",
       "      <th>3</th>\n",
       "      <td>3</td>\n",
       "      <td>7.9250</td>\n",
       "      <td>26.0</td>\n",
       "      <td>0</td>\n",
       "    </tr>\n",
       "    <tr>\n",
       "      <th>4</th>\n",
       "      <td>1</td>\n",
       "      <td>53.1000</td>\n",
       "      <td>35.0</td>\n",
       "      <td>0</td>\n",
       "    </tr>\n",
       "    <tr>\n",
       "      <th>5</th>\n",
       "      <td>3</td>\n",
       "      <td>8.0500</td>\n",
       "      <td>35.0</td>\n",
       "      <td>1</td>\n",
       "    </tr>\n",
       "  </tbody>\n",
       "</table>\n",
       "</div>"
      ],
      "text/plain": [
       "             Pclass     Fare   Age  Sex_male\n",
       "PassengerId                                 \n",
       "1                 3   7.2500  22.0         1\n",
       "2                 1  71.2833  38.0         0\n",
       "3                 3   7.9250  26.0         0\n",
       "4                 1  53.1000  35.0         0\n",
       "5                 3   8.0500  35.0         1"
      ]
     },
     "execution_count": 50,
     "metadata": {},
     "output_type": "execute_result"
    }
   ],
   "source": [
    "df.head()"
   ]
  },
  {
   "cell_type": "code",
   "execution_count": null,
   "metadata": {
    "collapsed": true
   },
   "outputs": [],
   "source": []
  },
  {
   "cell_type": "markdown",
   "metadata": {},
   "source": [
    "Lesson 1"
   ]
  },
  {
   "cell_type": "code",
   "execution_count": 14,
   "metadata": {},
   "outputs": [
    {
     "data": {
      "text/plain": [
       "male      577\n",
       "female    314\n",
       "Name: Sex, dtype: int64"
      ]
     },
     "execution_count": 14,
     "metadata": {},
     "output_type": "execute_result"
    }
   ],
   "source": [
    "data[\"Sex\"].value_counts()"
   ]
  },
  {
   "cell_type": "code",
   "execution_count": 15,
   "metadata": {},
   "outputs": [
    {
     "data": {
      "text/plain": [
       "0    549\n",
       "1    342\n",
       "Name: Survived, dtype: int64"
      ]
     },
     "execution_count": 15,
     "metadata": {},
     "output_type": "execute_result"
    }
   ],
   "source": [
    "data[\"Survived\"].value_counts()"
   ]
  },
  {
   "cell_type": "code",
   "execution_count": 16,
   "metadata": {},
   "outputs": [
    {
     "data": {
      "text/plain": [
       "38.38383838383838"
      ]
     },
     "execution_count": 16,
     "metadata": {},
     "output_type": "execute_result"
    }
   ],
   "source": [
    "342/(549+342)*100"
   ]
  },
  {
   "cell_type": "code",
   "execution_count": 19,
   "metadata": {
    "collapsed": true
   },
   "outputs": [],
   "source": [
    "cl = data[\"Pclass\"].value_counts()"
   ]
  },
  {
   "cell_type": "code",
   "execution_count": 22,
   "metadata": {},
   "outputs": [
    {
     "data": {
      "text/plain": [
       "3    491\n",
       "1    216\n",
       "2    184\n",
       "Name: Pclass, dtype: int64"
      ]
     },
     "execution_count": 22,
     "metadata": {},
     "output_type": "execute_result"
    }
   ],
   "source": [
    "cl"
   ]
  },
  {
   "cell_type": "code",
   "execution_count": 23,
   "metadata": {},
   "outputs": [
    {
     "data": {
      "text/plain": [
       "24.242424242424242"
      ]
     },
     "execution_count": 23,
     "metadata": {},
     "output_type": "execute_result"
    }
   ],
   "source": [
    "216/sum(cl)*100"
   ]
  },
  {
   "cell_type": "code",
   "execution_count": 26,
   "metadata": {},
   "outputs": [
    {
     "data": {
      "text/plain": [
       "29.69911764705882"
      ]
     },
     "execution_count": 26,
     "metadata": {},
     "output_type": "execute_result"
    }
   ],
   "source": [
    "data.Age.mean()"
   ]
  },
  {
   "cell_type": "code",
   "execution_count": 27,
   "metadata": {},
   "outputs": [
    {
     "data": {
      "text/plain": [
       "28.0"
      ]
     },
     "execution_count": 27,
     "metadata": {},
     "output_type": "execute_result"
    }
   ],
   "source": [
    "data.Age.median()"
   ]
  },
  {
   "cell_type": "code",
   "execution_count": 30,
   "metadata": {},
   "outputs": [
    {
     "data": {
      "text/html": [
       "<div>\n",
       "<style>\n",
       "    .dataframe thead tr:only-child th {\n",
       "        text-align: right;\n",
       "    }\n",
       "\n",
       "    .dataframe thead th {\n",
       "        text-align: left;\n",
       "    }\n",
       "\n",
       "    .dataframe tbody tr th {\n",
       "        vertical-align: top;\n",
       "    }\n",
       "</style>\n",
       "<table border=\"1\" class=\"dataframe\">\n",
       "  <thead>\n",
       "    <tr style=\"text-align: right;\">\n",
       "      <th></th>\n",
       "      <th>SibSp</th>\n",
       "      <th>Parch</th>\n",
       "    </tr>\n",
       "  </thead>\n",
       "  <tbody>\n",
       "    <tr>\n",
       "      <th>SibSp</th>\n",
       "      <td>1.000000</td>\n",
       "      <td>0.414838</td>\n",
       "    </tr>\n",
       "    <tr>\n",
       "      <th>Parch</th>\n",
       "      <td>0.414838</td>\n",
       "      <td>1.000000</td>\n",
       "    </tr>\n",
       "  </tbody>\n",
       "</table>\n",
       "</div>"
      ],
      "text/plain": [
       "          SibSp     Parch\n",
       "SibSp  1.000000  0.414838\n",
       "Parch  0.414838  1.000000"
      ]
     },
     "execution_count": 30,
     "metadata": {},
     "output_type": "execute_result"
    }
   ],
   "source": [
    "data[[\"SibSp\", \"Parch\"]].corr()"
   ]
  },
  {
   "cell_type": "code",
   "execution_count": 31,
   "metadata": {
    "collapsed": true
   },
   "outputs": [],
   "source": [
    "women = data[data.Sex == \"female\"]"
   ]
  },
  {
   "cell_type": "code",
   "execution_count": 37,
   "metadata": {
    "collapsed": true
   },
   "outputs": [],
   "source": [
    "women_names = list(women.Name)"
   ]
  },
  {
   "cell_type": "code",
   "execution_count": 46,
   "metadata": {
    "collapsed": true,
    "scrolled": true
   },
   "outputs": [],
   "source": [
    "from nltk.tokenize import word_tokenize\n",
    "from nltk.tokenize import sent_tokenize\n",
    "from collections import Counter\n",
    "from nltk.corpus import stopwords"
   ]
  },
  {
   "cell_type": "code",
   "execution_count": 45,
   "metadata": {},
   "outputs": [
    {
     "data": {
      "text/plain": [
       "['Cumings, Mrs. John Bradley (Florence Briggs Thayer)',\n",
       " 'Heikkinen, Miss. Laina',\n",
       " 'Futrelle, Mrs. Jacques Heath (Lily May Peel)',\n",
       " 'Johnson, Mrs. Oscar W (Elisabeth Vilhelmina Berg)',\n",
       " 'Nasser, Mrs. Nicholas (Adele Achem)',\n",
       " 'Sandstrom, Miss. Marguerite Rut',\n",
       " 'Bonnell, Miss. Elizabeth',\n",
       " 'Vestrom, Miss. Hulda Amanda Adolfina',\n",
       " 'Hewlett, Mrs. (Mary D Kingcome) ',\n",
       " 'Vander Planke, Mrs. Julius (Emelia Maria Vandemoortele)',\n",
       " 'Masselmani, Mrs. Fatima',\n",
       " 'McGowan, Miss. Anna \"Annie\"',\n",
       " 'Palsson, Miss. Torborg Danira',\n",
       " 'Asplund, Mrs. Carl Oscar (Selma Augusta Emilia Johansson)',\n",
       " 'O\\'Dwyer, Miss. Ellen \"Nellie\"',\n",
       " 'Spencer, Mrs. William Augustus (Marie Eugenie)',\n",
       " 'Glynn, Miss. Mary Agatha',\n",
       " 'Vander Planke, Miss. Augusta Maria',\n",
       " 'Nicola-Yarred, Miss. Jamila',\n",
       " 'Ahlin, Mrs. Johan (Johanna Persdotter Larsson)',\n",
       " 'Turpin, Mrs. William John Robert (Dorothy Ann Wonnacott)',\n",
       " 'Laroche, Miss. Simonne Marie Anne Andree',\n",
       " 'Devaney, Miss. Margaret Delia',\n",
       " \"O'Driscoll, Miss. Bridget\",\n",
       " 'Arnold-Franchi, Mrs. Josef (Josefine Franchi)',\n",
       " 'Harper, Mrs. Henry Sleeper (Myna Haxtun)',\n",
       " 'Faunthorpe, Mrs. Lizzie (Elizabeth Anne Wilkinson)',\n",
       " 'Rugg, Miss. Emily',\n",
       " 'West, Miss. Constance Mirium',\n",
       " 'Icard, Miss. Amelie',\n",
       " 'Nye, Mrs. (Elizabeth Ramell)',\n",
       " 'Andersson, Miss. Erna Alexandra',\n",
       " 'Goodwin, Miss. Lillian Amy',\n",
       " 'Dowdell, Miss. Elizabeth',\n",
       " 'McDermott, Miss. Brigdet Delia',\n",
       " 'Ilett, Miss. Bertha',\n",
       " 'Backstrom, Mrs. Karl Alfred (Maria Mathilda Gustafsson)',\n",
       " 'Fortune, Miss. Mabel Helen',\n",
       " 'Doling, Mrs. John T (Ada Julia Bone)',\n",
       " 'Petranec, Miss. Matilda',\n",
       " 'Salkjelsvik, Miss. Anna Kristine',\n",
       " 'Moran, Miss. Bertha',\n",
       " 'Zabour, Miss. Hileni',\n",
       " 'Jussila, Miss. Katriina',\n",
       " 'Attalah, Miss. Malake',\n",
       " 'Andersson, Miss. Ellis Anna Maria',\n",
       " 'Webber, Miss. Susan',\n",
       " 'Peter, Miss. Anna',\n",
       " 'Robins, Mrs. Alexander A (Grace Charity Laury)',\n",
       " 'Weisz, Mrs. Leopold (Mathilde Francoise Pede)',\n",
       " 'Newsom, Miss. Helen Monypeny',\n",
       " 'Boulos, Mrs. Joseph (Sultana)',\n",
       " 'Nysten, Miss. Anna Sofia',\n",
       " 'Hakkarainen, Mrs. Pekka Pietari (Elin Matilda Dolck)',\n",
       " 'Ford, Miss. Robina Maggie \"Ruby\"',\n",
       " 'Pears, Mrs. Thomas (Edith Wearne)',\n",
       " 'Gilnagh, Miss. Katherine \"Katie\"',\n",
       " 'Watt, Mrs. James (Elizabeth \"Bessie\" Inglis Milne)',\n",
       " 'Chibnall, Mrs. (Edith Martha Bowerman)',\n",
       " 'Skoog, Mrs. William (Anna Bernhardina Karlsson)',\n",
       " 'Johnson, Miss. Eleanor Ileen',\n",
       " 'Isham, Miss. Ann Elizabeth',\n",
       " 'Sage, Miss. Constance Gladys',\n",
       " 'Kink-Heilmann, Miss. Luise Gretchen',\n",
       " 'O\\'Brien, Mrs. Thomas (Johanna \"Hannah\" Godfrey)',\n",
       " 'Pinsky, Mrs. (Rosa)',\n",
       " 'Andersen-Jensen, Miss. Carla Christine Nielsine',\n",
       " 'Brown, Mrs. James Joseph (Margaret Tobin)',\n",
       " 'Lurette, Miss. Elise',\n",
       " 'Madigan, Miss. Margaret \"Maggie\"',\n",
       " 'Yrois, Miss. Henriette (\"Mrs Harbeck\")',\n",
       " 'Strom, Miss. Telma Matilda',\n",
       " 'Carr, Miss. Helen \"Ellen\"',\n",
       " 'Cameron, Miss. Clear Annie',\n",
       " 'Newell, Miss. Madeleine',\n",
       " 'Honkanen, Miss. Eliina',\n",
       " 'Bazzani, Miss. Albina',\n",
       " 'Lefebre, Miss. Mathilde',\n",
       " 'Harris, Mrs. Henry Birkhardt (Irene Wallach)',\n",
       " 'Asplund, Miss. Lillian Gertrud',\n",
       " 'Harknett, Miss. Alice Phoebe',\n",
       " 'Collyer, Miss. Marjorie \"Lottie\"',\n",
       " 'Zabour, Miss. Thamine',\n",
       " 'Murphy, Miss. Katherine \"Kate\"',\n",
       " 'Lindahl, Miss. Agda Thorilda Viktoria',\n",
       " 'Hamalainen, Mrs. William (Anna)',\n",
       " 'Strom, Mrs. Wilhelm (Elna Matilda Persson)',\n",
       " 'Rosblom, Mrs. Viktor (Helena Wilhelmina)',\n",
       " 'Touma, Mrs. Darwis (Hanne Youssef Razi)',\n",
       " 'Thorne, Mrs. Gertrude Maybelle',\n",
       " 'Cherry, Miss. Gladys',\n",
       " 'Ward, Miss. Anna',\n",
       " 'Parrish, Mrs. (Lutie Davis)',\n",
       " 'Henry, Miss. Delia',\n",
       " 'Graham, Mrs. William Thompson (Edith Junkins)',\n",
       " 'Bissette, Miss. Amelia',\n",
       " 'Mellinger, Mrs. (Elizabeth Anne Maidment)',\n",
       " 'Healy, Miss. Hanora \"Nora\"',\n",
       " 'Andrews, Miss. Kornelia Theodosia',\n",
       " 'Lindblom, Miss. Augusta Charlotta',\n",
       " 'Abbott, Mrs. Stanton (Rosa Hunt)',\n",
       " 'Connolly, Miss. Kate',\n",
       " 'Barber, Miss. Ellen \"Nellie\"',\n",
       " 'Bishop, Mrs. Dickinson H (Helen Walton)',\n",
       " 'Haas, Miss. Aloisia',\n",
       " 'Allison, Miss. Helen Loraine',\n",
       " 'Baxter, Mrs. James (Helene DeLaudeniere Chaput)',\n",
       " 'Kelly, Miss. Anna Katherine \"Annie Kate\"',\n",
       " 'Keane, Miss. Nora A',\n",
       " 'Fleming, Miss. Margaret',\n",
       " 'Penasco y Castellana, Mrs. Victor de Satode (Maria Josefa Perez de Soto y Vallejo)',\n",
       " 'Francatelli, Miss. Laura Mabel',\n",
       " 'Hays, Miss. Margaret Bechstein',\n",
       " 'Ryerson, Miss. Emily Borie',\n",
       " 'Lahtinen, Mrs. William (Anna Sylfven)',\n",
       " 'Nilsson, Miss. Helmina Josefina',\n",
       " 'Kantor, Mrs. Sinai (Miriam Sternin)',\n",
       " 'Wick, Miss. Mary Natalie',\n",
       " 'Spedden, Mrs. Frederic Oakley (Margaretta Corning Stone)',\n",
       " 'Slayter, Miss. Hilda Mary',\n",
       " 'Caldwell, Mrs. Albert Francis (Sylvia Mae Harbaugh)',\n",
       " 'Young, Miss. Marie Grice',\n",
       " 'Ball, Mrs. (Ada E Hall)',\n",
       " 'Goldsmith, Mrs. Frank John (Emily Alice Brown)',\n",
       " 'Hippach, Miss. Jean Gertrude',\n",
       " 'McCoy, Miss. Agnes',\n",
       " 'Frauenthal, Mrs. Henry William (Clara Heinsheimer)',\n",
       " 'Burns, Miss. Elizabeth Margaret',\n",
       " 'Fortune, Miss. Alice Elizabeth',\n",
       " 'Brown, Miss. Amelia \"Mildred\"',\n",
       " 'Smith, Miss. Marion Elsie',\n",
       " 'Davison, Mrs. Thomas Henry (Mary E Finck)',\n",
       " 'Bowerman, Miss. Elsie Edith',\n",
       " 'Funk, Miss. Annie Clemmer',\n",
       " 'McGovern, Miss. Mary',\n",
       " 'Mockler, Miss. Helen Mary \"Ellie\"',\n",
       " 'Barbara, Mrs. (Catherine David)',\n",
       " 'Warren, Mrs. Frank Manley (Anna Sophia Atkinson)',\n",
       " 'Moussa, Mrs. (Mantoura Boulos)',\n",
       " 'Jermyn, Miss. Annie',\n",
       " 'Aubart, Mme. Leontine Pauline',\n",
       " 'Palsson, Miss. Stina Viola',\n",
       " 'Meyer, Mrs. Edgar Joseph (Leila Saks)',\n",
       " 'Landergren, Miss. Aurora Adelia',\n",
       " 'Bidois, Miss. Rosalie',\n",
       " 'Nakid, Miss. Maria (\"Mary\")',\n",
       " 'Holverson, Mrs. Alexander Oskar (Mary Aline Towner)',\n",
       " 'Buss, Miss. Kate',\n",
       " 'Lehmann, Miss. Bertha',\n",
       " 'Newell, Miss. Marjorie',\n",
       " 'Sandstrom, Mrs. Hjalmar (Agnes Charlotta Bengtsson)',\n",
       " 'Olsson, Miss. Elina',\n",
       " 'Trout, Mrs. William H (Jessie L)',\n",
       " 'Jussila, Miss. Mari Aina',\n",
       " 'Oreskovic, Miss. Marija',\n",
       " 'Lefebre, Miss. Ida',\n",
       " 'Minahan, Miss. Daisy E',\n",
       " 'Meek, Mrs. Thomas (Annie Louise Rowley)',\n",
       " 'Drew, Mrs. James Vivian (Lulu Thorne Christian)',\n",
       " 'Silven, Miss. Lyyli Karoliina',\n",
       " 'Van Impe, Miss. Catharina',\n",
       " 'Danbom, Mrs. Ernst Gilbert (Anna Sigrid Maria Brogren)',\n",
       " 'Clarke, Mrs. Charles V (Ada Maria Winfield)',\n",
       " 'Phillips, Miss. Kate Florence (\"Mrs Kate Louise Phillips Marshall\")',\n",
       " 'Thorneycroft, Mrs. Percival (Florence Kate White)',\n",
       " 'Louch, Mrs. Charles Alexander (Alice Adelaide Slow)',\n",
       " 'Carter, Miss. Lucile Polk',\n",
       " 'Ford, Miss. Doolina Margaret \"Daisy\"',\n",
       " 'Richards, Mrs. Sidney (Emily Hocking)',\n",
       " 'Hart, Mrs. Benjamin (Esther Ada Bloomfield)',\n",
       " 'Reynaldo, Ms. Encarnacion',\n",
       " 'Mellinger, Miss. Madeleine Violet',\n",
       " 'Baclini, Miss. Marie Catherine',\n",
       " 'Kenyon, Mrs. Frederick R (Marion)',\n",
       " 'Toomey, Miss. Ellen',\n",
       " 'Baclini, Miss. Helene Barbara',\n",
       " 'West, Mrs. Edwy Arthur (Ada Mary Worth)',\n",
       " 'Jerwan, Mrs. Amin S (Marie Marthe Thuillard)',\n",
       " 'Strandberg, Miss. Ida Sofia',\n",
       " 'Hirvonen, Miss. Hildur E',\n",
       " 'Turkula, Mrs. (Hedwig)',\n",
       " 'Lefebre, Miss. Jeannie',\n",
       " 'Hoyt, Mrs. Frederick Maxfield (Jane Anne Forby)',\n",
       " 'Eustis, Miss. Elizabeth Mussey',\n",
       " 'Allison, Mrs. Hudson J C (Bessie Waldo Daniels)',\n",
       " 'Canavan, Miss. Mary',\n",
       " \"O'Sullivan, Miss. Bridget Mary\",\n",
       " 'Laitinen, Miss. Kristina Sofia',\n",
       " 'Maioni, Miss. Roberta',\n",
       " 'Quick, Mrs. Frederick Charles (Jane Richards)',\n",
       " 'Rothschild, Mrs. Martin (Elizabeth L. Barrett)',\n",
       " 'Lemore, Mrs. (Amelia Milley)',\n",
       " 'Angle, Mrs. William A (Florence \"Mary\" Agnes Hughes)',\n",
       " 'Perreault, Miss. Anne',\n",
       " 'Hippach, Mrs. Louis Albert (Ida Sophia Fischer)',\n",
       " 'Ridsdale, Miss. Lucy',\n",
       " 'Quick, Miss. Phyllis May',\n",
       " 'Peter, Mrs. Catherine (Catherine Rizk)',\n",
       " 'Cacic, Miss. Marija',\n",
       " 'Hart, Miss. Eva Miriam',\n",
       " 'LeRoy, Miss. Bertha',\n",
       " 'Frolicher, Miss. Hedwig Margaritha',\n",
       " 'Crosby, Miss. Harriet R',\n",
       " 'Andersson, Miss. Ingeborg Constanzia',\n",
       " 'Andersson, Miss. Sigrid Elisabeth',\n",
       " 'Beane, Mrs. Edward (Ethel Clarke)',\n",
       " 'Ohman, Miss. Velin',\n",
       " 'Duff Gordon, Lady. (Lucille Christiana Sutherland) (\"Mrs Morgan\")',\n",
       " 'Taussig, Mrs. Emil (Tillie Mandelbaum)',\n",
       " 'de Messemaeker, Mrs. Guillaume Joseph (Emma)',\n",
       " 'Meanwell, Miss. (Marion Ogden)',\n",
       " 'Palsson, Mrs. Nils (Alma Cornelia Berglund)',\n",
       " 'Appleton, Mrs. Edward Dale (Charlotte Lamson)',\n",
       " 'Kelly, Miss. Mary',\n",
       " 'Garside, Miss. Ethel',\n",
       " 'Silvey, Mrs. William Baird (Alice Munger)',\n",
       " 'Caram, Mrs. Joseph (Maria Elias)',\n",
       " 'Christy, Miss. Julie Rachel',\n",
       " 'Thayer, Mrs. John Borland (Marian Longstreth Morris)',\n",
       " 'Taussig, Miss. Ruth',\n",
       " 'Stephenson, Mrs. Walter Bertram (Martha Eustis)',\n",
       " 'Bourke, Miss. Mary',\n",
       " 'Leitch, Miss. Jessie Wills',\n",
       " 'Jacobsohn, Mrs. Sidney Samuel (Amy Frances Christy)',\n",
       " 'Laroche, Mrs. Joseph (Juliette Marie Louise Lafargue)',\n",
       " 'Shutes, Miss. Elizabeth W',\n",
       " 'Andersson, Mrs. Anders Johan (Alfrida Konstantia Brogren)',\n",
       " 'Murphy, Miss. Margaret Jane',\n",
       " 'Herman, Miss. Alice',\n",
       " 'Lobb, Mrs. William Arthur (Cordelia K Stanlick)',\n",
       " 'Becker, Miss. Marion Louise',\n",
       " 'Longley, Miss. Gretchen Fiske',\n",
       " 'Skoog, Miss. Mabel',\n",
       " 'Davis, Miss. Mary',\n",
       " 'Panula, Mrs. Juha (Maria Emilia Ojala)',\n",
       " 'Sagesser, Mlle. Emma',\n",
       " 'Skoog, Miss. Margit Elizabeth',\n",
       " 'Baclini, Miss. Eugenie',\n",
       " 'Stanley, Miss. Amy Zillah Elsie',\n",
       " 'Doling, Miss. Elsie',\n",
       " 'O\\'Leary, Miss. Hanora \"Norah\"',\n",
       " 'Hegarty, Miss. Hanora \"Nora\"',\n",
       " 'Bourke, Mrs. John (Catherine)',\n",
       " 'Taylor, Mrs. Elmer Zebley (Juliet Cummins Wright)',\n",
       " 'Brown, Mrs. Thomas William Solomon (Elizabeth Catherine Ford)',\n",
       " 'Turja, Miss. Anna Sofia',\n",
       " 'Goodwin, Mrs. Frederick (Augusta Tyler)',\n",
       " 'Peters, Miss. Katie',\n",
       " 'Madill, Miss. Georgette Alexandra',\n",
       " 'Karun, Miss. Manca',\n",
       " 'Mullens, Miss. Katherine \"Katie\"',\n",
       " 'Astor, Mrs. John Jacob (Madeleine Talmadge Force)',\n",
       " 'Barbara, Miss. Saiide',\n",
       " 'Kelly, Mrs. Florence \"Fannie\"',\n",
       " 'Cleaver, Miss. Alice',\n",
       " 'Mayne, Mlle. Berthe Antonine (\"Mrs de Villiers\")',\n",
       " 'Endres, Miss. Caroline Louise',\n",
       " 'Troutt, Miss. Edwina Celia \"Winnie\"',\n",
       " 'Harper, Miss. Annie Jessie \"Nina\"',\n",
       " 'Renouf, Mrs. Peter Henry (Lillian Jefferys)',\n",
       " 'Mannion, Miss. Margareth',\n",
       " 'Ilmakangas, Miss. Pieta Sofia',\n",
       " 'Allen, Miss. Elisabeth Walton',\n",
       " 'Ford, Mrs. Edward (Margaret Ann Watson)',\n",
       " 'Ryerson, Miss. Susan Parker \"Suzette\"',\n",
       " 'Sinkkonen, Miss. Anna',\n",
       " 'Wells, Miss. Joan',\n",
       " 'Herman, Mrs. Samuel (Jane Laver)',\n",
       " 'Rothes, the Countess. of (Lucy Noel Martha Dyer-Edwards)',\n",
       " 'Carter, Mrs. William Ernest (Lucile Polk)',\n",
       " 'Hogeboom, Mrs. John C (Anna Andrews)',\n",
       " 'Mangan, Miss. Mary',\n",
       " 'Mack, Mrs. (Mary)',\n",
       " 'Hocking, Mrs. Elizabeth (Eliza Needs)',\n",
       " 'Emanuel, Miss. Virginia Ethel',\n",
       " 'Robert, Mrs. Edward Scott (Elisabeth Walton McMillan)',\n",
       " 'Ayoub, Miss. Banoura',\n",
       " 'Dick, Mrs. Albert Adrian (Vera Gillespie)',\n",
       " 'Sjoblom, Miss. Anna Sofia',\n",
       " 'Sage, Miss. Stella Anna',\n",
       " 'Leader, Dr. Alice (Farnham)',\n",
       " 'Osman, Mrs. Mara',\n",
       " 'Van Impe, Mrs. Jean Baptiste (Rosalie Paula Govaert)',\n",
       " 'Collyer, Mrs. Harvey (Charlotte Annie Tate)',\n",
       " 'Pettersson, Miss. Ellen Natalia',\n",
       " 'Chambers, Mrs. Norman Campbell (Bertha Griggs)',\n",
       " 'Andersson, Miss. Ebba Iris Alfrida',\n",
       " 'Heininen, Miss. Wendla Maria',\n",
       " 'Hays, Mrs. Charles Melville (Clara Jennings Gregg)',\n",
       " 'Moor, Mrs. (Beila)',\n",
       " 'Stone, Mrs. George Nelson (Martha Evelyn)',\n",
       " 'Yasbeck, Mrs. Antoni (Selini Alexander)',\n",
       " 'Compton, Miss. Sara Rebecca',\n",
       " 'Serepeca, Miss. Augusta',\n",
       " 'Goldenberg, Mrs. Samuel L (Edwiga Grabowska)',\n",
       " 'Boulos, Miss. Nourelain',\n",
       " 'Lines, Miss. Mary Conover',\n",
       " 'Carter, Mrs. Ernest Courtenay (Lilian Hughes)',\n",
       " 'Aks, Mrs. Sam (Leah Rosen)',\n",
       " 'Wick, Mrs. George Dennick (Mary Hitchcock)',\n",
       " 'Baclini, Mrs. Solomon (Latifa Qurban)',\n",
       " 'Swift, Mrs. Frederick Joel (Margaret Welles Barron)',\n",
       " 'Sage, Miss. Dorothy Edith \"Dolly\"',\n",
       " 'Bystrom, Mrs. (Karolina)',\n",
       " 'Duran y More, Miss. Asuncion',\n",
       " 'Beckwith, Mrs. Richard Leonard (Sallie Monypeny)',\n",
       " 'Abelson, Mrs. Samuel (Hannah Wizosky)',\n",
       " 'Najib, Miss. Adele Kiamie \"Jane\"',\n",
       " 'Potter, Mrs. Thomas Jr (Lily Alexenia Wilson)',\n",
       " 'Shelley, Mrs. William (Imanita Parrish Hall)',\n",
       " 'Dahlberg, Miss. Gerda Ulrika',\n",
       " 'Rice, Mrs. William (Margaret Norton)',\n",
       " 'Graham, Miss. Margaret Edith',\n",
       " 'Johnston, Miss. Catherine Helen \"Carrie\"']"
      ]
     },
     "execution_count": 45,
     "metadata": {},
     "output_type": "execute_result"
    }
   ],
   "source": [
    "women_names"
   ]
  },
  {
   "cell_type": "code",
   "execution_count": 42,
   "metadata": {},
   "outputs": [
    {
     "data": {
      "text/plain": [
       "'Cumings, Mrs. John Bradley (Florence Briggs Thayer) Heikkinen, Miss. Laina Futrelle, Mrs. Jacques Heath (Lily May Peel) Johnson, Mrs. Oscar W (Elisabeth Vilhelmina Berg) Nasser, Mrs. Nicholas (Adele Achem) Sandstrom, Miss. Marguerite Rut Bonnell, Miss. Elizabeth Vestrom, Miss. Hulda Amanda Adolfina Hewlett, Mrs. (Mary D Kingcome)  Vander Planke, Mrs. Julius (Emelia Maria Vandemoortele) Masselmani, Mrs. Fatima McGowan, Miss. Anna \"Annie\" Palsson, Miss. Torborg Danira Asplund, Mrs. Carl Oscar (Selma Augusta Emilia Johansson) O\\'Dwyer, Miss. Ellen \"Nellie\" Spencer, Mrs. William Augustus (Marie Eugenie) Glynn, Miss. Mary Agatha Vander Planke, Miss. Augusta Maria Nicola-Yarred, Miss. Jamila Ahlin, Mrs. Johan (Johanna Persdotter Larsson) Turpin, Mrs. William John Robert (Dorothy Ann Wonnacott) Laroche, Miss. Simonne Marie Anne Andree Devaney, Miss. Margaret Delia O\\'Driscoll, Miss. Bridget Arnold-Franchi, Mrs. Josef (Josefine Franchi) Harper, Mrs. Henry Sleeper (Myna Haxtun) Faunthorpe, Mrs. Lizzie (Elizabeth Anne Wilkinson) Rugg, Miss. Emily West, Miss. Constance Mirium Icard, Miss. Amelie Nye, Mrs. (Elizabeth Ramell) Andersson, Miss. Erna Alexandra Goodwin, Miss. Lillian Amy Dowdell, Miss. Elizabeth McDermott, Miss. Brigdet Delia Ilett, Miss. Bertha Backstrom, Mrs. Karl Alfred (Maria Mathilda Gustafsson) Fortune, Miss. Mabel Helen Doling, Mrs. John T (Ada Julia Bone) Petranec, Miss. Matilda Salkjelsvik, Miss. Anna Kristine Moran, Miss. Bertha Zabour, Miss. Hileni Jussila, Miss. Katriina Attalah, Miss. Malake Andersson, Miss. Ellis Anna Maria Webber, Miss. Susan Peter, Miss. Anna Robins, Mrs. Alexander A (Grace Charity Laury) Weisz, Mrs. Leopold (Mathilde Francoise Pede) Newsom, Miss. Helen Monypeny Boulos, Mrs. Joseph (Sultana) Nysten, Miss. Anna Sofia Hakkarainen, Mrs. Pekka Pietari (Elin Matilda Dolck) Ford, Miss. Robina Maggie \"Ruby\" Pears, Mrs. Thomas (Edith Wearne) Gilnagh, Miss. Katherine \"Katie\" Watt, Mrs. James (Elizabeth \"Bessie\" Inglis Milne) Chibnall, Mrs. (Edith Martha Bowerman) Skoog, Mrs. William (Anna Bernhardina Karlsson) Johnson, Miss. Eleanor Ileen Isham, Miss. Ann Elizabeth Sage, Miss. Constance Gladys Kink-Heilmann, Miss. Luise Gretchen O\\'Brien, Mrs. Thomas (Johanna \"Hannah\" Godfrey) Pinsky, Mrs. (Rosa) Andersen-Jensen, Miss. Carla Christine Nielsine Brown, Mrs. James Joseph (Margaret Tobin) Lurette, Miss. Elise Madigan, Miss. Margaret \"Maggie\" Yrois, Miss. Henriette (\"Mrs Harbeck\") Strom, Miss. Telma Matilda Carr, Miss. Helen \"Ellen\" Cameron, Miss. Clear Annie Newell, Miss. Madeleine Honkanen, Miss. Eliina Bazzani, Miss. Albina Lefebre, Miss. Mathilde Harris, Mrs. Henry Birkhardt (Irene Wallach) Asplund, Miss. Lillian Gertrud Harknett, Miss. Alice Phoebe Collyer, Miss. Marjorie \"Lottie\" Zabour, Miss. Thamine Murphy, Miss. Katherine \"Kate\" Lindahl, Miss. Agda Thorilda Viktoria Hamalainen, Mrs. William (Anna) Strom, Mrs. Wilhelm (Elna Matilda Persson) Rosblom, Mrs. Viktor (Helena Wilhelmina) Touma, Mrs. Darwis (Hanne Youssef Razi) Thorne, Mrs. Gertrude Maybelle Cherry, Miss. Gladys Ward, Miss. Anna Parrish, Mrs. (Lutie Davis) Henry, Miss. Delia Graham, Mrs. William Thompson (Edith Junkins) Bissette, Miss. Amelia Mellinger, Mrs. (Elizabeth Anne Maidment) Healy, Miss. Hanora \"Nora\" Andrews, Miss. Kornelia Theodosia Lindblom, Miss. Augusta Charlotta Abbott, Mrs. Stanton (Rosa Hunt) Connolly, Miss. Kate Barber, Miss. Ellen \"Nellie\" Bishop, Mrs. Dickinson H (Helen Walton) Haas, Miss. Aloisia Allison, Miss. Helen Loraine Baxter, Mrs. James (Helene DeLaudeniere Chaput) Kelly, Miss. Anna Katherine \"Annie Kate\" Keane, Miss. Nora A Fleming, Miss. Margaret Penasco y Castellana, Mrs. Victor de Satode (Maria Josefa Perez de Soto y Vallejo) Francatelli, Miss. Laura Mabel Hays, Miss. Margaret Bechstein Ryerson, Miss. Emily Borie Lahtinen, Mrs. William (Anna Sylfven) Nilsson, Miss. Helmina Josefina Kantor, Mrs. Sinai (Miriam Sternin) Wick, Miss. Mary Natalie Spedden, Mrs. Frederic Oakley (Margaretta Corning Stone) Slayter, Miss. Hilda Mary Caldwell, Mrs. Albert Francis (Sylvia Mae Harbaugh) Young, Miss. Marie Grice Ball, Mrs. (Ada E Hall) Goldsmith, Mrs. Frank John (Emily Alice Brown) Hippach, Miss. Jean Gertrude McCoy, Miss. Agnes Frauenthal, Mrs. Henry William (Clara Heinsheimer) Burns, Miss. Elizabeth Margaret Fortune, Miss. Alice Elizabeth Brown, Miss. Amelia \"Mildred\" Smith, Miss. Marion Elsie Davison, Mrs. Thomas Henry (Mary E Finck) Bowerman, Miss. Elsie Edith Funk, Miss. Annie Clemmer McGovern, Miss. Mary Mockler, Miss. Helen Mary \"Ellie\" Barbara, Mrs. (Catherine David) Warren, Mrs. Frank Manley (Anna Sophia Atkinson) Moussa, Mrs. (Mantoura Boulos) Jermyn, Miss. Annie Aubart, Mme. Leontine Pauline Palsson, Miss. Stina Viola Meyer, Mrs. Edgar Joseph (Leila Saks) Landergren, Miss. Aurora Adelia Bidois, Miss. Rosalie Nakid, Miss. Maria (\"Mary\") Holverson, Mrs. Alexander Oskar (Mary Aline Towner) Buss, Miss. Kate Lehmann, Miss. Bertha Newell, Miss. Marjorie Sandstrom, Mrs. Hjalmar (Agnes Charlotta Bengtsson) Olsson, Miss. Elina Trout, Mrs. William H (Jessie L) Jussila, Miss. Mari Aina Oreskovic, Miss. Marija Lefebre, Miss. Ida Minahan, Miss. Daisy E Meek, Mrs. Thomas (Annie Louise Rowley) Drew, Mrs. James Vivian (Lulu Thorne Christian) Silven, Miss. Lyyli Karoliina Van Impe, Miss. Catharina Danbom, Mrs. Ernst Gilbert (Anna Sigrid Maria Brogren) Clarke, Mrs. Charles V (Ada Maria Winfield) Phillips, Miss. Kate Florence (\"Mrs Kate Louise Phillips Marshall\") Thorneycroft, Mrs. Percival (Florence Kate White) Louch, Mrs. Charles Alexander (Alice Adelaide Slow) Carter, Miss. Lucile Polk Ford, Miss. Doolina Margaret \"Daisy\" Richards, Mrs. Sidney (Emily Hocking) Hart, Mrs. Benjamin (Esther Ada Bloomfield) Reynaldo, Ms. Encarnacion Mellinger, Miss. Madeleine Violet Baclini, Miss. Marie Catherine Kenyon, Mrs. Frederick R (Marion) Toomey, Miss. Ellen Baclini, Miss. Helene Barbara West, Mrs. Edwy Arthur (Ada Mary Worth) Jerwan, Mrs. Amin S (Marie Marthe Thuillard) Strandberg, Miss. Ida Sofia Hirvonen, Miss. Hildur E Turkula, Mrs. (Hedwig) Lefebre, Miss. Jeannie Hoyt, Mrs. Frederick Maxfield (Jane Anne Forby) Eustis, Miss. Elizabeth Mussey Allison, Mrs. Hudson J C (Bessie Waldo Daniels) Canavan, Miss. Mary O\\'Sullivan, Miss. Bridget Mary Laitinen, Miss. Kristina Sofia Maioni, Miss. Roberta Quick, Mrs. Frederick Charles (Jane Richards) Rothschild, Mrs. Martin (Elizabeth L. Barrett) Lemore, Mrs. (Amelia Milley) Angle, Mrs. William A (Florence \"Mary\" Agnes Hughes) Perreault, Miss. Anne Hippach, Mrs. Louis Albert (Ida Sophia Fischer) Ridsdale, Miss. Lucy Quick, Miss. Phyllis May Peter, Mrs. Catherine (Catherine Rizk) Cacic, Miss. Marija Hart, Miss. Eva Miriam LeRoy, Miss. Bertha Frolicher, Miss. Hedwig Margaritha Crosby, Miss. Harriet R Andersson, Miss. Ingeborg Constanzia Andersson, Miss. Sigrid Elisabeth Beane, Mrs. Edward (Ethel Clarke) Ohman, Miss. Velin Duff Gordon, Lady. (Lucille Christiana Sutherland) (\"Mrs Morgan\") Taussig, Mrs. Emil (Tillie Mandelbaum) de Messemaeker, Mrs. Guillaume Joseph (Emma) Meanwell, Miss. (Marion Ogden) Palsson, Mrs. Nils (Alma Cornelia Berglund) Appleton, Mrs. Edward Dale (Charlotte Lamson) Kelly, Miss. Mary Garside, Miss. Ethel Silvey, Mrs. William Baird (Alice Munger) Caram, Mrs. Joseph (Maria Elias) Christy, Miss. Julie Rachel Thayer, Mrs. John Borland (Marian Longstreth Morris) Taussig, Miss. Ruth Stephenson, Mrs. Walter Bertram (Martha Eustis) Bourke, Miss. Mary Leitch, Miss. Jessie Wills Jacobsohn, Mrs. Sidney Samuel (Amy Frances Christy) Laroche, Mrs. Joseph (Juliette Marie Louise Lafargue) Shutes, Miss. Elizabeth W Andersson, Mrs. Anders Johan (Alfrida Konstantia Brogren) Murphy, Miss. Margaret Jane Herman, Miss. Alice Lobb, Mrs. William Arthur (Cordelia K Stanlick) Becker, Miss. Marion Louise Longley, Miss. Gretchen Fiske Skoog, Miss. Mabel Davis, Miss. Mary Panula, Mrs. Juha (Maria Emilia Ojala) Sagesser, Mlle. Emma Skoog, Miss. Margit Elizabeth Baclini, Miss. Eugenie Stanley, Miss. Amy Zillah Elsie Doling, Miss. Elsie O\\'Leary, Miss. Hanora \"Norah\" Hegarty, Miss. Hanora \"Nora\" Bourke, Mrs. John (Catherine) Taylor, Mrs. Elmer Zebley (Juliet Cummins Wright) Brown, Mrs. Thomas William Solomon (Elizabeth Catherine Ford) Turja, Miss. Anna Sofia Goodwin, Mrs. Frederick (Augusta Tyler) Peters, Miss. Katie Madill, Miss. Georgette Alexandra Karun, Miss. Manca Mullens, Miss. Katherine \"Katie\" Astor, Mrs. John Jacob (Madeleine Talmadge Force) Barbara, Miss. Saiide Kelly, Mrs. Florence \"Fannie\" Cleaver, Miss. Alice Mayne, Mlle. Berthe Antonine (\"Mrs de Villiers\") Endres, Miss. Caroline Louise Troutt, Miss. Edwina Celia \"Winnie\" Harper, Miss. Annie Jessie \"Nina\" Renouf, Mrs. Peter Henry (Lillian Jefferys) Mannion, Miss. Margareth Ilmakangas, Miss. Pieta Sofia Allen, Miss. Elisabeth Walton Ford, Mrs. Edward (Margaret Ann Watson) Ryerson, Miss. Susan Parker \"Suzette\" Sinkkonen, Miss. Anna Wells, Miss. Joan Herman, Mrs. Samuel (Jane Laver) Rothes, the Countess. of (Lucy Noel Martha Dyer-Edwards) Carter, Mrs. William Ernest (Lucile Polk) Hogeboom, Mrs. John C (Anna Andrews) Mangan, Miss. Mary Mack, Mrs. (Mary) Hocking, Mrs. Elizabeth (Eliza Needs) Emanuel, Miss. Virginia Ethel Robert, Mrs. Edward Scott (Elisabeth Walton McMillan) Ayoub, Miss. Banoura Dick, Mrs. Albert Adrian (Vera Gillespie) Sjoblom, Miss. Anna Sofia Sage, Miss. Stella Anna Leader, Dr. Alice (Farnham) Osman, Mrs. Mara Van Impe, Mrs. Jean Baptiste (Rosalie Paula Govaert) Collyer, Mrs. Harvey (Charlotte Annie Tate) Pettersson, Miss. Ellen Natalia Chambers, Mrs. Norman Campbell (Bertha Griggs) Andersson, Miss. Ebba Iris Alfrida Heininen, Miss. Wendla Maria Hays, Mrs. Charles Melville (Clara Jennings Gregg) Moor, Mrs. (Beila) Stone, Mrs. George Nelson (Martha Evelyn) Yasbeck, Mrs. Antoni (Selini Alexander) Compton, Miss. Sara Rebecca Serepeca, Miss. Augusta Goldenberg, Mrs. Samuel L (Edwiga Grabowska) Boulos, Miss. Nourelain Lines, Miss. Mary Conover Carter, Mrs. Ernest Courtenay (Lilian Hughes) Aks, Mrs. Sam (Leah Rosen) Wick, Mrs. George Dennick (Mary Hitchcock) Baclini, Mrs. Solomon (Latifa Qurban) Swift, Mrs. Frederick Joel (Margaret Welles Barron) Sage, Miss. Dorothy Edith \"Dolly\" Bystrom, Mrs. (Karolina) Duran y More, Miss. Asuncion Beckwith, Mrs. Richard Leonard (Sallie Monypeny) Abelson, Mrs. Samuel (Hannah Wizosky) Najib, Miss. Adele Kiamie \"Jane\" Potter, Mrs. Thomas Jr (Lily Alexenia Wilson) Shelley, Mrs. William (Imanita Parrish Hall) Dahlberg, Miss. Gerda Ulrika Rice, Mrs. William (Margaret Norton) Graham, Miss. Margaret Edith Johnston, Miss. Catherine Helen \"Carrie\" '"
      ]
     },
     "execution_count": 42,
     "metadata": {},
     "output_type": "execute_result"
    }
   ],
   "source": [
    "text = \"\"\n",
    "\n",
    "for i in women_names:\n",
    "    text += i\n",
    "    text += \" \"\n",
    "\n",
    "text"
   ]
  },
  {
   "cell_type": "code",
   "execution_count": 49,
   "metadata": {
    "collapsed": true
   },
   "outputs": [],
   "source": [
    "tokenized = word_tokenize(text)\n"
   ]
  },
  {
   "cell_type": "code",
   "execution_count": 50,
   "metadata": {},
   "outputs": [
    {
     "data": {
      "text/plain": [
       "[(',', 314),\n",
       " ('.', 187),\n",
       " ('Miss', 182),\n",
       " ('(', 130),\n",
       " (')', 130),\n",
       " ('Mrs.', 125),\n",
       " ('``', 32),\n",
       " (\"''\", 32),\n",
       " ('Mary', 20),\n",
       " ('Anna', 17),\n",
       " ('Elizabeth', 15),\n",
       " ('William', 15),\n",
       " ('Margaret', 12),\n",
       " ('Maria', 11),\n",
       " ('John', 8),\n",
       " ('Annie', 8),\n",
       " ('Alice', 8),\n",
       " ('Helen', 7),\n",
       " ('Kate', 7),\n",
       " ('Catherine', 7),\n",
       " ('Marie', 6),\n",
       " ('Henry', 6),\n",
       " ('Andersson', 6),\n",
       " ('Joseph', 6),\n",
       " ('Sofia', 6),\n",
       " ('Thomas', 6),\n",
       " ('Edith', 6),\n",
       " ('Florence', 5),\n",
       " ('Augusta', 5),\n",
       " ('Ellen', 5),\n",
       " ('Anne', 5),\n",
       " ('Bertha', 5),\n",
       " ('Ada', 5),\n",
       " ('Louise', 5),\n",
       " ('Frederick', 5),\n",
       " ('Jane', 5),\n",
       " ('Elisabeth', 4),\n",
       " ('Emily', 4),\n",
       " ('Matilda', 4),\n",
       " ('Alexander', 4),\n",
       " ('Ford', 4),\n",
       " ('Katherine', 4),\n",
       " ('James', 4),\n",
       " ('Martha', 4),\n",
       " ('Brown', 4),\n",
       " ('Mrs', 4),\n",
       " ('de', 4),\n",
       " ('E', 4),\n",
       " ('Marion', 4),\n",
       " ('Elsie', 4),\n",
       " ('Charles', 4),\n",
       " ('Baclini', 4),\n",
       " ('Edward', 4),\n",
       " ('Samuel', 4),\n",
       " ('Palsson', 3),\n",
       " ('Ann', 3),\n",
       " ('Delia', 3),\n",
       " ('Lillian', 3),\n",
       " ('Amy', 3),\n",
       " ('Mabel', 3),\n",
       " ('Peter', 3),\n",
       " ('A', 3),\n",
       " ('Boulos', 3),\n",
       " ('Katie', 3),\n",
       " ('Skoog', 3),\n",
       " ('Sage', 3),\n",
       " ('Madeleine', 3),\n",
       " ('Lefebre', 3),\n",
       " ('Amelia', 3),\n",
       " ('Hanora', 3),\n",
       " ('Nora', 3),\n",
       " ('Walton', 3),\n",
       " ('Kelly', 3),\n",
       " ('y', 3),\n",
       " ('Albert', 3),\n",
       " ('Agnes', 3),\n",
       " ('Barbara', 3),\n",
       " ('Jessie', 3),\n",
       " ('Ida', 3),\n",
       " ('Carter', 3),\n",
       " ('Ethel', 3),\n",
       " ('Thayer', 2),\n",
       " ('Lily', 2),\n",
       " ('May', 2),\n",
       " ('Johnson', 2),\n",
       " ('Oscar', 2),\n",
       " ('W', 2),\n",
       " ('Adele', 2),\n",
       " ('Sandstrom', 2),\n",
       " ('Vander', 2),\n",
       " ('Planke', 2),\n",
       " ('Asplund', 2),\n",
       " ('Emilia', 2),\n",
       " ('Nellie', 2),\n",
       " ('Eugenie', 2),\n",
       " ('Johan', 2),\n",
       " ('Johanna', 2),\n",
       " ('Robert', 2),\n",
       " ('Dorothy', 2),\n",
       " ('Laroche', 2)]"
      ]
     },
     "execution_count": 50,
     "metadata": {},
     "output_type": "execute_result"
    }
   ],
   "source": [
    "count = Counter(tokenized)\n",
    "count.most_common(100)"
   ]
  },
  {
   "cell_type": "code",
   "execution_count": null,
   "metadata": {
    "collapsed": true
   },
   "outputs": [],
   "source": []
  },
  {
   "cell_type": "code",
   "execution_count": null,
   "metadata": {
    "collapsed": true
   },
   "outputs": [],
   "source": []
  }
 ],
 "metadata": {
  "kernelspec": {
   "display_name": "Python 3",
   "language": "python",
   "name": "python3"
  },
  "language_info": {
   "codemirror_mode": {
    "name": "ipython",
    "version": 3
   },
   "file_extension": ".py",
   "mimetype": "text/x-python",
   "name": "python",
   "nbconvert_exporter": "python",
   "pygments_lexer": "ipython3",
   "version": "3.6.1"
  }
 },
 "nbformat": 4,
 "nbformat_minor": 2
}
