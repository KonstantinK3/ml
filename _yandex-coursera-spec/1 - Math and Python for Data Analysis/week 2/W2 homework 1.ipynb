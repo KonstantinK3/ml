{
 "cells": [
  {
   "cell_type": "code",
   "execution_count": 1,
   "metadata": {},
   "outputs": [
    {
     "name": "stdout",
     "output_type": "stream",
     "text": [
      "in comparison to dogs, cats have not undergone major changes during the domestication process.\n"
     ]
    }
   ],
   "source": [
    "filename = 'sentences.txt'\n",
    "text_lines=[]\n",
    "with open(filename) as f:\n",
    "    for line in f:\n",
    "        l =  line.strip().lower()\n",
    "        text_lines.append(l)\n",
    "print(text_lines[0])\n",
    "\n",
    "with open(filename) as f:\n",
    "    text_raw = f.read()"
   ]
  },
  {
   "cell_type": "code",
   "execution_count": null,
   "metadata": {},
   "outputs": [],
   "source": []
  },
  {
   "cell_type": "code",
   "execution_count": 5,
   "metadata": {
    "collapsed": true
   },
   "outputs": [],
   "source": [
    "import re\n",
    "text_words = re.split('[^a-z]', text_raw)"
   ]
  },
  {
   "cell_type": "code",
   "execution_count": null,
   "metadata": {},
   "outputs": [],
   "source": []
  },
  {
   "cell_type": "code",
   "execution_count": 37,
   "metadata": {},
   "outputs": [
    {
     "data": {
      "text/plain": [
       "467"
      ]
     },
     "execution_count": 37,
     "metadata": {},
     "output_type": "execute_result"
    }
   ],
   "source": [
    "text_words = [i for i in text_words if i != '']\n",
    "len(text_words)"
   ]
  },
  {
   "cell_type": "code",
   "execution_count": 7,
   "metadata": {},
   "outputs": [
    {
     "name": "stdout",
     "output_type": "stream",
     "text": [
      "n\n",
      "x\n",
      "s\n",
      "t\n",
      "a\n"
     ]
    }
   ],
   "source": [
    "unique_words = list(set(text_words))\n",
    "for i in unique_words:\n",
    "    if len(i) == 1:\n",
    "        print(i)\n",
    "        unique_words.remove(i)"
   ]
  },
  {
   "cell_type": "code",
   "execution_count": 8,
   "metadata": {},
   "outputs": [
    {
     "data": {
      "text/plain": [
       "255"
      ]
     },
     "execution_count": 8,
     "metadata": {},
     "output_type": "execute_result"
    }
   ],
   "source": [
    "len(unique_words)"
   ]
  },
  {
   "cell_type": "markdown",
   "metadata": {},
   "source": [
    "итого имеем:\n",
    "unique_words - 254 уникальных слова\n",
    "text_lines - лист предложений\n",
    "text_raw - голый текст\n",
    "text_words - лист всех слов"
   ]
  },
  {
   "cell_type": "code",
   "execution_count": 9,
   "metadata": {},
   "outputs": [
    {
     "data": {
      "text/plain": [
       "{0: '',\n",
       " 1: 'selection',\n",
       " 2: 'just',\n",
       " 3: 'developed',\n",
       " 4: 'over',\n",
       " 5: 'vermin',\n",
       " 6: 'named',\n",
       " 7: 'installed',\n",
       " 8: 'symbols',\n",
       " 9: 'through',\n",
       " 10: 'human',\n",
       " 11: 'elis',\n",
       " 12: 'longer',\n",
       " 13: 'its',\n",
       " 14: 'fifth',\n",
       " 15: 'based',\n",
       " 16: 'tamed',\n",
       " 17: 'upgrade',\n",
       " 18: 'lb',\n",
       " 19: 'drive',\n",
       " 20: 'to',\n",
       " 21: 'won',\n",
       " 22: 'deliberately',\n",
       " 23: 'ntel',\n",
       " 24: 'marks',\n",
       " 25: 'has',\n",
       " 26: 'ince',\n",
       " 27: 'predecessor',\n",
       " 28: 'non',\n",
       " 29: 'ctober',\n",
       " 30: 'read',\n",
       " 31: 'uly',\n",
       " 32: 'every',\n",
       " 33: 'they',\n",
       " 34: 'not',\n",
       " 35: 'during',\n",
       " 36: 'now',\n",
       " 37: 'possess',\n",
       " 38: 'keyboards',\n",
       " 39: 'bytes',\n",
       " 40: 'unnecessary',\n",
       " 41: 'patch',\n",
       " 42: 'predators',\n",
       " 43: 'small',\n",
       " 44: 'output',\n",
       " 45: 'entirely',\n",
       " 46: 'where',\n",
       " 47: 'ears',\n",
       " 48: 'available',\n",
       " 49: 'right',\n",
       " 50: 'afari',\n",
       " 51: 'often',\n",
       " 52: 'sequence',\n",
       " 53: 'some',\n",
       " 54: 'second',\n",
       " 55: 'frequency',\n",
       " 56: 'are',\n",
       " 57: 'year',\n",
       " 58: 'download',\n",
       " 59: 'terms',\n",
       " 60: 'firmware',\n",
       " 61: 'pple',\n",
       " 62: 'concern',\n",
       " 63: 'error',\n",
       " 64: 'for',\n",
       " 65: 'pipes',\n",
       " 66: 'separate',\n",
       " 67: 'factory',\n",
       " 68: 'artificial',\n",
       " 69: 'content',\n",
       " 70: 'version',\n",
       " 71: 'run',\n",
       " 72: 'between',\n",
       " 73: 'new',\n",
       " 74: 'learned',\n",
       " 75: 'three',\n",
       " 76: 'piped',\n",
       " 77: 'common',\n",
       " 78: 'concatenate',\n",
       " 79: 'be',\n",
       " 80: 'weighing',\n",
       " 81: 'genes',\n",
       " 82: 'use',\n",
       " 83: 'standard',\n",
       " 84: 'if',\n",
       " 85: 'release',\n",
       " 86: 'diploid',\n",
       " 87: 'members',\n",
       " 88: 'sing',\n",
       " 89: 'safer',\n",
       " 90: 'ccording',\n",
       " 91: 'by',\n",
       " 92: 'enhancements',\n",
       " 93: 'both',\n",
       " 94: 'commands',\n",
       " 95: 'installation',\n",
       " 96: 'world',\n",
       " 97: 'most',\n",
       " 98: 'installs',\n",
       " 99: 'of',\n",
       " 100: 'needing',\n",
       " 101: 'allows',\n",
       " 102: 'nix',\n",
       " 103: 'later',\n",
       " 104: 'streams',\n",
       " 105: 'ats',\n",
       " 106: 'receives',\n",
       " 107: 'owever',\n",
       " 108: 'successor',\n",
       " 109: 'catenates',\n",
       " 110: 'changes',\n",
       " 111: 'or',\n",
       " 112: 'osemite',\n",
       " 113: 'major',\n",
       " 114: 'faint',\n",
       " 115: 'useful',\n",
       " 116: 'features',\n",
       " 117: 'community',\n",
       " 118: 'one',\n",
       " 119: 'running',\n",
       " 120: 'simply',\n",
       " 121: 'pp',\n",
       " 122: 'sounds',\n",
       " 123: 'size',\n",
       " 124: 'undergone',\n",
       " 125: 'delete',\n",
       " 126: 'from',\n",
       " 127: 'iger',\n",
       " 128: 'their',\n",
       " 129: 'create',\n",
       " 130: 'people',\n",
       " 131: 'two',\n",
       " 132: 'redirection',\n",
       " 133: 'cats',\n",
       " 134: 'too',\n",
       " 135: 'basic',\n",
       " 136: 'permanently',\n",
       " 137: 'hen',\n",
       " 138: 'type',\n",
       " 139: 'dogs',\n",
       " 140: 'more',\n",
       " 141: 'files',\n",
       " 142: 'releases',\n",
       " 143: 'comparison',\n",
       " 144: 'started',\n",
       " 145: 'displays',\n",
       " 146: 'contains',\n",
       " 147: 'releasing',\n",
       " 148: 'disk',\n",
       " 149: 'released',\n",
       " 150: 'part',\n",
       " 151: 'hear',\n",
       " 152: 'external',\n",
       " 153: 'editions',\n",
       " 154: 'off',\n",
       " 155: 'mice',\n",
       " 156: 'with',\n",
       " 157: 'than',\n",
       " 158: 'those',\n",
       " 159: 'he',\n",
       " 160: 'count',\n",
       " 161: 'inux',\n",
       " 162: 'made',\n",
       " 163: 'animals',\n",
       " 164: 'versions',\n",
       " 165: 'default',\n",
       " 166: 'was',\n",
       " 167: 'avericks',\n",
       " 168: 'as',\n",
       " 169: 'cat',\n",
       " 170: 'will',\n",
       " 171: 'can',\n",
       " 172: 'were',\n",
       " 173: 'wild',\n",
       " 174: 'similar',\n",
       " 175: 'interactive',\n",
       " 176: 'and',\n",
       " 177: 'mountain',\n",
       " 178: 'ac',\n",
       " 179: 'computers',\n",
       " 180: 'have',\n",
       " 181: 'stdout',\n",
       " 182: 'process',\n",
       " 183: 'lines',\n",
       " 184: 'is',\n",
       " 185: 'received',\n",
       " 186: 'moved',\n",
       " 187: 'it',\n",
       " 188: 'an',\n",
       " 189: 'high',\n",
       " 190: 'single',\n",
       " 191: 'incremental',\n",
       " 192: 'at',\n",
       " 193: 'file',\n",
       " 194: 'in',\n",
       " 195: 'need',\n",
       " 196: 'domesticated',\n",
       " 197: 'any',\n",
       " 198: 'domestication',\n",
       " 199: 'omestic',\n",
       " 200: 'binary',\n",
       " 201: 'processors',\n",
       " 202: 'no',\n",
       " 203: 'rather',\n",
       " 204: 'legibility',\n",
       " 205: 'that',\n",
       " 206: 'when',\n",
       " 207: 'switch',\n",
       " 208: 'id',\n",
       " 209: 'tore',\n",
       " 210: 'also',\n",
       " 211: 'other',\n",
       " 212: 'arguments',\n",
       " 213: 'adjacent',\n",
       " 214: 'online',\n",
       " 215: 'instead',\n",
       " 216: 'you',\n",
       " 217: 'ancestor',\n",
       " 218: 'offered',\n",
       " 219: 'eopard',\n",
       " 220: 'used',\n",
       " 221: 'chromosomes',\n",
       " 222: 'ountain',\n",
       " 223: 'closest',\n",
       " 224: 'information',\n",
       " 225: 'may',\n",
       " 226: 'symbol',\n",
       " 227: 'update',\n",
       " 228: 'ion',\n",
       " 229: 'wrong',\n",
       " 230: 'connected',\n",
       " 231: 'such',\n",
       " 232: 'on',\n",
       " 233: 'recent',\n",
       " 234: 'purchase',\n",
       " 235: 'genus',\n",
       " 236: 'kg',\n",
       " 237: 'organisms',\n",
       " 238: 'using',\n",
       " 239: 'starting',\n",
       " 240: 'clear',\n",
       " 241: 'stdin',\n",
       " 242: 'flow',\n",
       " 243: 'roughly',\n",
       " 244: 'so',\n",
       " 245: 'which',\n",
       " 246: 'without',\n",
       " 247: 'command',\n",
       " 248: 'place',\n",
       " 249: 'allow',\n",
       " 250: 'time',\n",
       " 251: 'redirected',\n",
       " 252: 'the',\n",
       " 253: 'typically',\n",
       " 254: 'left'}"
      ]
     },
     "execution_count": 9,
     "metadata": {},
     "output_type": "execute_result"
    }
   ],
   "source": [
    "words_dict = {}\n",
    "for i in range(0, len(unique_words)):\n",
    "    words_dict[i] = unique_words[i]\n",
    "words_dict"
   ]
  },
  {
   "cell_type": "code",
   "execution_count": 10,
   "metadata": {
    "collapsed": true
   },
   "outputs": [],
   "source": [
    "import numpy as np\n",
    "sentences_matrix = np.zeros((len(text_lines), len(unique_words)))"
   ]
  },
  {
   "cell_type": "code",
   "execution_count": 62,
   "metadata": {},
   "outputs": [
    {
     "data": {
      "text/plain": [
       "(22L, 254L)"
      ]
     },
     "execution_count": 62,
     "metadata": {},
     "output_type": "execute_result"
    }
   ],
   "source": [
    "sentences_matrix.shape"
   ]
  },
  {
   "cell_type": "code",
   "execution_count": 65,
   "metadata": {},
   "outputs": [
    {
     "data": {
      "text/plain": [
       "[0, 1, 2, 3, 4, 5, 6, 7, 8, 9, 10, 11, 12, 13, 14, 15, 16, 17, 18, 19, 20, 21]"
      ]
     },
     "execution_count": 65,
     "metadata": {},
     "output_type": "execute_result"
    }
   ],
   "source": [
    "range(sentences_matrix.shape[0])"
   ]
  },
  {
   "cell_type": "code",
   "execution_count": 11,
   "metadata": {
    "collapsed": true
   },
   "outputs": [],
   "source": [
    "for i in range(sentences_matrix.shape[0]):\n",
    "    for j in range(sentences_matrix.shape[1]):\n",
    "        sentences_matrix[i,j] = text_lines[i].split(\" \").count(words_dict[j])"
   ]
  },
  {
   "cell_type": "code",
   "execution_count": 12,
   "metadata": {
    "collapsed": true
   },
   "outputs": [],
   "source": [
    "import scipy"
   ]
  },
  {
   "cell_type": "code",
   "execution_count": 13,
   "metadata": {},
   "outputs": [
    {
     "data": {
      "text/plain": [
       "0.94444444444444442"
      ]
     },
     "execution_count": 13,
     "metadata": {},
     "output_type": "execute_result"
    }
   ],
   "source": [
    "import scipy.spatial.distance as distance\n",
    "distance.cosine(sentences_matrix[0], sentences_matrix[1])"
   ]
  },
  {
   "cell_type": "code",
   "execution_count": 104,
   "metadata": {},
   "outputs": [
    {
     "name": "stdout",
     "output_type": "stream",
     "text": [
      "sentence# 0 cosine = -2.22044604925e-16\n",
      "sentence# 1 cosine = 0.944444444444\n",
      "sentence# 2 cosine = 0.819421220371\n",
      "sentence# 3 cosine = 0.882148869802\n",
      "sentence# 4 cosine = 0.80132014644\n",
      "sentence# 5 cosine = 0.933773382147\n",
      "sentence# 6 cosine = 0.692271272552\n",
      "sentence# 7 cosine = 0.908712907082\n",
      "sentence# 8 cosine = 0.869441758033\n",
      "sentence# 9 cosine = 0.939807073457\n",
      "sentence# 10 cosine = 0.80635083269\n",
      "sentence# 11 cosine = 0.859971991597\n",
      "sentence# 12 cosine = 0.819421220371\n",
      "sentence# 13 cosine = 0.833333333333\n",
      "sentence# 14 cosine = 0.817425814165\n",
      "sentence# 15 cosine = 0.929985995799\n",
      "sentence# 16 cosine = 0.769059892324\n",
      "sentence# 17 cosine = 0.937005921165\n",
      "sentence# 18 cosine = 0.92546440075\n",
      "sentence# 19 cosine = 0.863917236512\n",
      "sentence# 20 cosine = 0.789957987396\n",
      "sentence# 21 cosine = 0.759807769292\n"
     ]
    }
   ],
   "source": [
    "ans = []\n",
    "for i in range(sentences_matrix.shape[0]):\n",
    "    current_distance = distance.cosine(sentences_matrix[0], sentences_matrix[i])\n",
    "    print(\"sentence# \" + str(i) + \" cosine = \" + str(current_distance))\n",
    "    ans.append(current_distance)"
   ]
  },
  {
   "cell_type": "code",
   "execution_count": 105,
   "metadata": {},
   "outputs": [
    {
     "name": "stdout",
     "output_type": "stream",
     "text": [
      "0.944444444444\n",
      "1\n",
      "0.939807073457\n",
      "9\n"
     ]
    }
   ],
   "source": [
    "print (max(ans))\n",
    "print (ans.index(max(ans)))\n",
    "ans[ans.index(max(ans))] = 0\n",
    "print (max(ans))\n",
    "print (ans.index(max(ans)))"
   ]
  },
  {
   "cell_type": "code",
   "execution_count": 107,
   "metadata": {},
   "outputs": [
    {
     "name": "stdout",
     "output_type": "stream",
     "text": [
      "in comparison to dogs, cats have not undergone major changes during the domestication process.\n",
      "as cat simply catenates streams of bytes, it can be also used to concatenate binary files, where it will just concatenate sequence of bytes.\n",
      "in terms of legibility, a sequence of commands starting with cat and connected by pipes has a clear left-to-right flow of information.\n"
     ]
    }
   ],
   "source": [
    "print(text_lines[0])\n",
    "print(text_lines[1])\n",
    "print(text_lines[9])"
   ]
  },
  {
   "cell_type": "code",
   "execution_count": 112,
   "metadata": {},
   "outputs": [
    {
     "name": "stdout",
     "output_type": "stream",
     "text": [
      "sentence# 1 cosine = 0.944444444444\n",
      "sentence# 2 cosine = 0.819421220371\n",
      "sentence# 3 cosine = 0.882148869802\n",
      "sentence# 4 cosine = 0.80132014644\n",
      "sentence# 5 cosine = 0.933773382147\n",
      "sentence# 6 cosine = 0.692271272552\n",
      "sentence# 7 cosine = 0.908712907082\n",
      "sentence# 8 cosine = 0.869441758033\n",
      "sentence# 9 cosine = 0.939807073457\n",
      "sentence# 10 cosine = 0.80635083269\n",
      "sentence# 11 cosine = 0.859971991597\n",
      "sentence# 12 cosine = 0.819421220371\n",
      "sentence# 13 cosine = 0.833333333333\n",
      "sentence# 14 cosine = 0.817425814165\n",
      "sentence# 15 cosine = 0.929985995799\n",
      "sentence# 16 cosine = 0.769059892324\n",
      "sentence# 17 cosine = 0.937005921165\n",
      "sentence# 18 cosine = 0.92546440075\n",
      "sentence# 19 cosine = 0.863917236512\n",
      "sentence# 20 cosine = 0.789957987396\n",
      "sentence# 21 cosine = 0.759807769292\n"
     ]
    }
   ],
   "source": [
    "ans2 = []\n",
    "for i in range(1, sentences_matrix.shape[0]):\n",
    "    current_distance = distance.cosine(sentences_matrix[0], sentences_matrix[i])\n",
    "    print(\"sentence# \" + str(i) + \" cosine = \" + str(current_distance))\n",
    "    ans2.append(current_distance)"
   ]
  },
  {
   "cell_type": "code",
   "execution_count": 113,
   "metadata": {},
   "outputs": [
    {
     "name": "stdout",
     "output_type": "stream",
     "text": [
      "0.692271272552\n",
      "6\n",
      "0.759807769292\n",
      "21\n"
     ]
    }
   ],
   "source": [
    "print (min(ans))\n",
    "print (ans.index(min(ans)))\n",
    "ans[ans.index(min(ans))] = 100\n",
    "print (min(ans))\n",
    "print (ans.index(min(ans)))\n",
    "ans[ans.index(min(ans))] = 100"
   ]
  },
  {
   "cell_type": "code",
   "execution_count": 117,
   "metadata": {},
   "outputs": [
    {
     "name": "stdout",
     "output_type": "stream",
     "text": [
      "in comparison to dogs, cats have not undergone major changes during the domestication process.\n",
      "domestic cats are similar in size to the other members of the genus felis, typically weighing between 4 and 5 kg (8.8 and 11.0 lb).\n",
      "the fifth major update to mac os x, leopard, contains such a mountain of features - more than 300 by apple's count.\n"
     ]
    }
   ],
   "source": [
    "print(text_lines[0])\n",
    "print(text_lines[6])\n",
    "print(text_lines[21])"
   ]
  },
  {
   "cell_type": "code",
   "execution_count": 118,
   "metadata": {},
   "outputs": [
    {
     "data": {
      "text/plain": [
       "['in comparison to dogs, cats have not undergone major changes during the domestication process.',\n",
       " 'as cat simply catenates streams of bytes, it can be also used to concatenate binary files, where it will just concatenate sequence of bytes.',\n",
       " 'a common interactive use of cat for a single file is to output the content of a file to standard output.',\n",
       " 'cats can hear sounds too faint or too high in frequency for human ears, such as those made by mice and other small animals.',\n",
       " 'in one, people deliberately tamed cats in a process of artificial selection, as they were useful predators of vermin.',\n",
       " 'the domesticated cat and its closest wild ancestor are both diploid organisms that possess 38 chromosomes and roughly 20,000 genes.',\n",
       " 'domestic cats are similar in size to the other members of the genus felis, typically weighing between 4 and 5 kg (8.8 and 11.0 lb).',\n",
       " 'however, if the output is piped or redirected, cat is unnecessary.',\n",
       " 'cat with one named file is safer where human error is a concern - one wrong use of the default redirection symbol \">\" instead of \"<\" (often adjacent on keyboards) may permanently delete the file you were just needing to read.',\n",
       " 'in terms of legibility, a sequence of commands starting with cat and connected by pipes has a clear left-to-right flow of information.',\n",
       " 'cat command is one of the basic commands that you learned when you started in the unix / linux world.',\n",
       " 'using cat command, the lines received from stdin can be redirected to a new file using redirection symbols.',\n",
       " 'when you type simply cat command without any arguments, it just receives the stdin content and displays it in the stdout.',\n",
       " 'leopard was released on october 26, 2007 as the successor of tiger (version 10.4), and is available in two editions.',\n",
       " 'according to apple, leopard contains over 300 changes and enhancements over its predecessor, mac os x tiger.',\n",
       " 'as of mid 2010, some apple computers have firmware factory installed which will no longer allow installation of mac os x leopard.',\n",
       " 'since apple moved to using intel processors in their computers, the osx86 community has developed and now also allows mac os x tiger and later releases to be installed on non-apple x86-based computers.',\n",
       " \"os x mountain lion was released on july 25, 2012 for purchase and download through apple's mac app store, as part of a switch to releasing os x versions online and every year.\",\n",
       " 'apple has released a small patch for the three most recent versions of safari running on os x yosemite, mavericks, and mountain lion.',\n",
       " 'the mountain lion release marks the second time apple has offered an incremental upgrade, rather than releasing a new cat entirely.',\n",
       " \"mac os x mountain lion installs in place, so you won't need to create a separate disk or run the installation off an external drive.\",\n",
       " \"the fifth major update to mac os x, leopard, contains such a mountain of features - more than 300 by apple's count.\"]"
      ]
     },
     "execution_count": 118,
     "metadata": {},
     "output_type": "execute_result"
    }
   ],
   "source": [
    "text_lines"
   ]
  }
 ],
 "metadata": {
  "kernelspec": {
   "display_name": "Python 2",
   "language": "python",
   "name": "python2"
  },
  "language_info": {
   "codemirror_mode": {
    "name": "ipython",
    "version": 2
   },
   "file_extension": ".py",
   "mimetype": "text/x-python",
   "name": "python",
   "nbconvert_exporter": "python",
   "pygments_lexer": "ipython2",
   "version": "2.7.13"
  }
 },
 "nbformat": 4,
 "nbformat_minor": 2
}
