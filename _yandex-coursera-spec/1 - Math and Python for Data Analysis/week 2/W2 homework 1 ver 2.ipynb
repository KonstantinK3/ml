{
 "cells": [
  {
   "cell_type": "code",
   "execution_count": 14,
   "metadata": {},
   "outputs": [
    {
     "data": {
      "text/plain": [
       "'in comparison to dogs, cats have not undergone major changes during the domestication process.'"
      ]
     },
     "execution_count": 14,
     "metadata": {},
     "output_type": "execute_result"
    }
   ],
   "source": [
    "filename = 'sentences.txt'\n",
    "text_lines=[]\n",
    "with open(filename) as f:\n",
    "    for line in f:\n",
    "        l =  line.strip().lower()\n",
    "        text_lines.append(l)\n",
    "text_lines[0]"
   ]
  },
  {
   "cell_type": "code",
   "execution_count": 15,
   "metadata": {},
   "outputs": [
    {
     "data": {
      "text/plain": [
       "22"
      ]
     },
     "execution_count": 15,
     "metadata": {},
     "output_type": "execute_result"
    }
   ],
   "source": [
    "len(text_lines)"
   ]
  },
  {
   "cell_type": "code",
   "execution_count": 25,
   "metadata": {
    "collapsed": true
   },
   "outputs": [],
   "source": [
    "with open(filename) as f:\n",
    "    text_raw = f.read().lower()"
   ]
  },
  {
   "cell_type": "code",
   "execution_count": 26,
   "metadata": {},
   "outputs": [],
   "source": [
    "import re\n",
    "text_words = re.split('[^a-z]', text_raw)"
   ]
  },
  {
   "cell_type": "code",
   "execution_count": 27,
   "metadata": {},
   "outputs": [
    {
     "data": {
      "text/plain": [
       "484"
      ]
     },
     "execution_count": 27,
     "metadata": {},
     "output_type": "execute_result"
    }
   ],
   "source": [
    "text_words = [i for i in text_words if i != \"\"]\n",
    "len(text_words)"
   ]
  },
  {
   "cell_type": "code",
   "execution_count": 28,
   "metadata": {},
   "outputs": [],
   "source": [
    "unique_words = list(set(text_words))"
   ]
  },
  {
   "cell_type": "code",
   "execution_count": 29,
   "metadata": {},
   "outputs": [
    {
     "data": {
      "text/plain": [
       "254"
      ]
     },
     "execution_count": 29,
     "metadata": {},
     "output_type": "execute_result"
    }
   ],
   "source": [
    "len(unique_words)"
   ]
  },
  {
   "cell_type": "code",
   "execution_count": 31,
   "metadata": {},
   "outputs": [
    {
     "data": {
      "text/plain": [
       "{0: 'displays',\n",
       " 1: 'osx',\n",
       " 2: 'selection',\n",
       " 3: 'safari',\n",
       " 4: 'just',\n",
       " 5: 'developed',\n",
       " 6: 'over',\n",
       " 7: 'vermin',\n",
       " 8: 'domestic',\n",
       " 9: 'named',\n",
       " 10: 'installed',\n",
       " 11: 'symbols',\n",
       " 12: 'through',\n",
       " 13: 'human',\n",
       " 14: 'world',\n",
       " 15: 'disk',\n",
       " 16: 'its',\n",
       " 17: 'fifth',\n",
       " 18: 'features',\n",
       " 19: 'tamed',\n",
       " 20: 'upgrade',\n",
       " 21: 'lb',\n",
       " 22: 'drive',\n",
       " 23: 'to',\n",
       " 24: 'won',\n",
       " 25: 'deliberately',\n",
       " 26: 'marks',\n",
       " 27: 'has',\n",
       " 28: 'predecessor',\n",
       " 29: 'non',\n",
       " 30: 'which',\n",
       " 31: 'read',\n",
       " 32: 'october',\n",
       " 33: 'every',\n",
       " 34: 'os',\n",
       " 35: 'they',\n",
       " 36: 'not',\n",
       " 37: 'during',\n",
       " 38: 'now',\n",
       " 39: 'possess',\n",
       " 40: 'intel',\n",
       " 41: 'keyboards',\n",
       " 42: 'bytes',\n",
       " 43: 'unnecessary',\n",
       " 44: 'patch',\n",
       " 45: 'predators',\n",
       " 46: 'small',\n",
       " 47: 'output',\n",
       " 48: 'entirely',\n",
       " 49: 'where',\n",
       " 50: 'ears',\n",
       " 51: 'available',\n",
       " 52: 'on',\n",
       " 53: 'often',\n",
       " 54: 'sequence',\n",
       " 55: 'some',\n",
       " 56: 'lion',\n",
       " 57: 'frequency',\n",
       " 58: 'are',\n",
       " 59: 'year',\n",
       " 60: 'download',\n",
       " 61: 'terms',\n",
       " 62: 'concern',\n",
       " 63: 'error',\n",
       " 64: 'for',\n",
       " 65: 'pipes',\n",
       " 66: 'since',\n",
       " 67: 'factory',\n",
       " 68: 'artificial',\n",
       " 69: 'content',\n",
       " 70: 'version',\n",
       " 71: 'run',\n",
       " 72: 'between',\n",
       " 73: 'new',\n",
       " 74: 'learned',\n",
       " 75: 'three',\n",
       " 76: 'piped',\n",
       " 77: 'common',\n",
       " 78: 'concatenate',\n",
       " 79: 'be',\n",
       " 80: 'weighing',\n",
       " 81: 'genes',\n",
       " 82: 'use',\n",
       " 83: 'standard',\n",
       " 84: 'release',\n",
       " 85: 'diploid',\n",
       " 86: 'members',\n",
       " 87: 'x',\n",
       " 88: 'based',\n",
       " 89: 'safer',\n",
       " 90: 'by',\n",
       " 91: 'both',\n",
       " 92: 'commands',\n",
       " 93: 'installation',\n",
       " 94: 'installs',\n",
       " 95: 'of',\n",
       " 96: 'needing',\n",
       " 97: 'allows',\n",
       " 98: 'according',\n",
       " 99: 'july',\n",
       " 100: 'later',\n",
       " 101: 'mac',\n",
       " 102: 's',\n",
       " 103: 'streams',\n",
       " 104: 'receives',\n",
       " 105: 'successor',\n",
       " 106: 'catenates',\n",
       " 107: 'changes',\n",
       " 108: 'or',\n",
       " 109: 'felis',\n",
       " 110: 'major',\n",
       " 111: 'faint',\n",
       " 112: 'useful',\n",
       " 113: 'apple',\n",
       " 114: 'app',\n",
       " 115: 'community',\n",
       " 116: 'one',\n",
       " 117: 'running',\n",
       " 118: 'unix',\n",
       " 119: 'right',\n",
       " 120: 'simply',\n",
       " 121: 'linux',\n",
       " 122: 'sounds',\n",
       " 123: 'size',\n",
       " 124: 'undergone',\n",
       " 125: 'delete',\n",
       " 126: 'from',\n",
       " 127: 'enhancements',\n",
       " 128: 'second',\n",
       " 129: 'their',\n",
       " 130: 'create',\n",
       " 131: 'people',\n",
       " 132: 'two',\n",
       " 133: 't',\n",
       " 134: 'redirection',\n",
       " 135: 'however',\n",
       " 136: 'cats',\n",
       " 137: 'too',\n",
       " 138: 'basic',\n",
       " 139: 'permanently',\n",
       " 140: 'type',\n",
       " 141: 'dogs',\n",
       " 142: 'store',\n",
       " 143: 'more',\n",
       " 144: 'files',\n",
       " 145: 'releases',\n",
       " 146: 'that',\n",
       " 147: 'started',\n",
       " 148: 'contains',\n",
       " 149: 'releasing',\n",
       " 150: 'tiger',\n",
       " 151: 'released',\n",
       " 152: 'part',\n",
       " 153: 'hear',\n",
       " 154: 'external',\n",
       " 155: 'editions',\n",
       " 156: 'off',\n",
       " 157: 'mice',\n",
       " 158: 'with',\n",
       " 159: 'than',\n",
       " 160: 'those',\n",
       " 161: 'longer',\n",
       " 162: 'count',\n",
       " 163: 'made',\n",
       " 164: 'animals',\n",
       " 165: 'mavericks',\n",
       " 166: 'versions',\n",
       " 167: 'default',\n",
       " 168: 'was',\n",
       " 169: 'single',\n",
       " 170: 'cat',\n",
       " 171: 'will',\n",
       " 172: 'can',\n",
       " 173: 'were',\n",
       " 174: 'wild',\n",
       " 175: 'similar',\n",
       " 176: 'interactive',\n",
       " 177: 'and',\n",
       " 178: 'mountain',\n",
       " 179: 'computers',\n",
       " 180: 'have',\n",
       " 181: 'stdout',\n",
       " 182: 'process',\n",
       " 183: 'lines',\n",
       " 184: 'is',\n",
       " 185: 'received',\n",
       " 186: 'moved',\n",
       " 187: 'it',\n",
       " 188: 'an',\n",
       " 189: 'high',\n",
       " 190: 'as',\n",
       " 191: 'incremental',\n",
       " 192: 'file',\n",
       " 193: 'in',\n",
       " 194: 'need',\n",
       " 195: 'domesticated',\n",
       " 196: 'any',\n",
       " 197: 'domestication',\n",
       " 198: 'if',\n",
       " 199: 'binary',\n",
       " 200: 'processors',\n",
       " 201: 'no',\n",
       " 202: 'rather',\n",
       " 203: 'legibility',\n",
       " 204: 'separate',\n",
       " 205: 'firmware',\n",
       " 206: 'when',\n",
       " 207: 'mid',\n",
       " 208: 'also',\n",
       " 209: 'other',\n",
       " 210: 'arguments',\n",
       " 211: 'adjacent',\n",
       " 212: 'online',\n",
       " 213: 'instead',\n",
       " 214: 'you',\n",
       " 215: 'ancestor',\n",
       " 216: 'offered',\n",
       " 217: 'used',\n",
       " 218: 'chromosomes',\n",
       " 219: 'closest',\n",
       " 220: 'information',\n",
       " 221: 'may',\n",
       " 222: 'symbol',\n",
       " 223: 'leopard',\n",
       " 224: 'update',\n",
       " 225: 'most',\n",
       " 226: 'wrong',\n",
       " 227: 'connected',\n",
       " 228: 'yosemite',\n",
       " 229: 'such',\n",
       " 230: 'comparison',\n",
       " 231: 'recent',\n",
       " 232: 'a',\n",
       " 233: 'purchase',\n",
       " 234: 'genus',\n",
       " 235: 'kg',\n",
       " 236: 'organisms',\n",
       " 237: 'using',\n",
       " 238: 'starting',\n",
       " 239: 'clear',\n",
       " 240: 'stdin',\n",
       " 241: 'flow',\n",
       " 242: 'roughly',\n",
       " 243: 'so',\n",
       " 244: 'switch',\n",
       " 245: 'without',\n",
       " 246: 'command',\n",
       " 247: 'place',\n",
       " 248: 'allow',\n",
       " 249: 'time',\n",
       " 250: 'redirected',\n",
       " 251: 'the',\n",
       " 252: 'typically',\n",
       " 253: 'left'}"
      ]
     },
     "execution_count": 31,
     "metadata": {},
     "output_type": "execute_result"
    }
   ],
   "source": [
    "words_dict = {}\n",
    "for i in range(0, len(unique_words)):\n",
    "    words_dict[i] = unique_words[i]\n",
    "words_dict"
   ]
  },
  {
   "cell_type": "code",
   "execution_count": 32,
   "metadata": {
    "collapsed": true
   },
   "outputs": [],
   "source": [
    "import numpy as np\n",
    "sentences_matrix = np.zeros((len(text_lines), len(unique_words)))"
   ]
  },
  {
   "cell_type": "code",
   "execution_count": 34,
   "metadata": {},
   "outputs": [
    {
     "data": {
      "text/plain": [
       "(22L, 254L)"
      ]
     },
     "execution_count": 34,
     "metadata": {},
     "output_type": "execute_result"
    }
   ],
   "source": [
    "sentences_matrix.shape"
   ]
  },
  {
   "cell_type": "markdown",
   "metadata": {},
   "source": [
    "запись в матрицу кол-ва каждого вида слов "
   ]
  },
  {
   "cell_type": "code",
   "execution_count": 67,
   "metadata": {},
   "outputs": [],
   "source": [
    "for i in range(sentences_matrix.shape[0]):\n",
    "    # i - номер предложения в матрице\n",
    "    line_words = re.split('[^a-z]', text_lines[i])\n",
    "    line_words = [x for x in line_words if x!=\"\"]\n",
    "    for j in range(sentences_matrix.shape[1]):\n",
    "        # j - номер слова в словаре\n",
    "        sentences_matrix[i,j] = line_words.count(words_dict[j])"
   ]
  },
  {
   "cell_type": "markdown",
   "metadata": {},
   "source": [
    "проверка - соотнесение кол-ва слов в предложении и записи в матрицу"
   ]
  },
  {
   "cell_type": "code",
   "execution_count": 71,
   "metadata": {},
   "outputs": [
    {
     "name": "stdout",
     "output_type": "stream",
     "text": [
      " 14.0 14\n",
      "24.0 24\n",
      "21.0 21\n",
      "24.0 24\n",
      "19.0 19\n",
      "18.0 18\n",
      "21.0 21\n",
      "11.0 11\n",
      "38.0 38\n",
      "24.0 24\n",
      "19.0 19\n",
      "18.0 18\n",
      "21.0 21\n",
      "17.0 17\n",
      "16.0 16\n",
      "21.0 21\n",
      "35.0 35\n",
      "32.0 32\n",
      "23.0 23\n",
      "21.0 21\n",
      "26.0 26\n",
      "21.0 21\n"
     ]
    }
   ],
   "source": [
    "for i in range(sentences_matrix.shape[0]):\n",
    "    line_words = re.split('[^a-z]', text_lines[i])\n",
    "    line_words = [x for x in line_words if x!=\"\"]\n",
    "    print sum(sentences_matrix[i, :]), len(line_words)"
   ]
  },
  {
   "cell_type": "markdown",
   "metadata": {},
   "source": [
    "так выглядит предложение в матрице"
   ]
  },
  {
   "cell_type": "code",
   "execution_count": 73,
   "metadata": {},
   "outputs": [
    {
     "data": {
      "text/plain": [
       "array([ 0.,  0.,  0.,  0.,  1.,  0.,  0.,  0.,  0.,  0.,  0.,  0.,  0.,\n",
       "        0.,  0.,  0.,  0.,  0.,  0.,  0.,  0.,  0.,  0.,  1.,  0.,  0.,\n",
       "        0.,  0.,  0.,  0.,  0.,  0.,  0.,  0.,  0.,  0.,  0.,  0.,  0.,\n",
       "        0.,  0.,  0.,  2.,  0.,  0.,  0.,  0.,  0.,  0.,  1.,  0.,  0.,\n",
       "        0.,  0.,  1.,  0.,  0.,  0.,  0.,  0.,  0.,  0.,  0.,  0.,  0.,\n",
       "        0.,  0.,  0.,  0.,  0.,  0.,  0.,  0.,  0.,  0.,  0.,  0.,  0.,\n",
       "        2.,  1.,  0.,  0.,  0.,  0.,  0.,  0.,  0.,  0.,  0.,  0.,  0.,\n",
       "        0.,  0.,  0.,  0.,  2.,  0.,  0.,  0.,  0.,  0.,  0.,  0.,  1.,\n",
       "        0.,  0.,  1.,  0.,  0.,  0.,  0.,  0.,  0.,  0.,  0.,  0.,  0.,\n",
       "        0.,  0.,  0.,  1.,  0.,  0.,  0.,  0.,  0.,  0.,  0.,  0.,  0.,\n",
       "        0.,  0.,  0.,  0.,  0.,  0.,  0.,  0.,  0.,  0.,  0.,  0.,  0.,\n",
       "        0.,  1.,  0.,  0.,  0.,  0.,  0.,  0.,  0.,  0.,  0.,  0.,  0.,\n",
       "        0.,  0.,  0.,  0.,  0.,  0.,  0.,  0.,  0.,  0.,  0.,  0.,  0.,\n",
       "        0.,  1.,  1.,  1.,  0.,  0.,  0.,  0.,  0.,  0.,  0.,  0.,  0.,\n",
       "        0.,  0.,  0.,  0.,  0.,  2.,  0.,  0.,  1.,  0.,  0.,  0.,  0.,\n",
       "        0.,  0.,  0.,  0.,  1.,  0.,  0.,  0.,  0.,  0.,  0.,  0.,  0.,\n",
       "        1.,  0.,  0.,  0.,  0.,  0.,  0.,  0.,  0.,  1.,  0.,  0.,  0.,\n",
       "        0.,  0.,  0.,  0.,  0.,  0.,  0.,  0.,  0.,  0.,  0.,  0.,  0.,\n",
       "        0.,  0.,  0.,  0.,  0.,  0.,  0.,  0.,  0.,  0.,  0.,  0.,  0.,\n",
       "        0.,  0.,  0.,  0.,  0.,  0.,  0.])"
      ]
     },
     "execution_count": 73,
     "metadata": {},
     "output_type": "execute_result"
    }
   ],
   "source": [
    "sentences_matrix[1,:]"
   ]
  },
  {
   "cell_type": "code",
   "execution_count": 77,
   "metadata": {},
   "outputs": [],
   "source": [
    "import scipy\n",
    "import scipy.spatial.distance as distance"
   ]
  },
  {
   "cell_type": "code",
   "execution_count": 79,
   "metadata": {},
   "outputs": [
    {
     "name": "stdout",
     "output_type": "stream",
     "text": [
      "sentence# 0 cosine = 0.0\n",
      "sentence# 1 cosine = 0.952754440874\n",
      "sentence# 2 cosine = 0.864473814564\n",
      "sentence# 3 cosine = 0.895171516328\n",
      "sentence# 4 cosine = 0.77708871497\n",
      "sentence# 5 cosine = 0.940238569533\n",
      "sentence# 6 cosine = 0.732738758088\n",
      "sentence# 7 cosine = 0.925875068334\n",
      "sentence# 8 cosine = 0.884272487528\n",
      "sentence# 9 cosine = 0.905508881748\n",
      "sentence# 10 cosine = 0.832816536227\n",
      "sentence# 11 cosine = 0.880477139067\n",
      "sentence# 12 cosine = 0.839643254853\n",
      "sentence# 13 cosine = 0.87035925529\n",
      "sentence# 14 cosine = 0.87401184233\n",
      "sentence# 15 cosine = 0.944272178742\n",
      "sentence# 16 cosine = 0.840636185422\n",
      "sentence# 17 cosine = 0.956644501524\n",
      "sentence# 18 cosine = 0.944272178742\n",
      "sentence# 19 cosine = 0.888544357485\n",
      "sentence# 20 cosine = 0.842757274492\n",
      "sentence# 21 cosine = 0.825036446944\n"
     ]
    }
   ],
   "source": [
    "ans = {}\n",
    "for i in range(sentences_matrix.shape[0]):\n",
    "    current_distance = distance.cosine(sentences_matrix[0], sentences_matrix[i])\n",
    "    print(\"sentence# \" + str(i) + \" cosine = \" + str(current_distance))\n",
    "    ans[i] = current_distance"
   ]
  },
  {
   "cell_type": "code",
   "execution_count": 80,
   "metadata": {},
   "outputs": [
    {
     "data": {
      "text/plain": [
       "{0: 0.0,\n",
       " 1: 0.95275444087384664,\n",
       " 2: 0.86447381456421235,\n",
       " 3: 0.89517151632780823,\n",
       " 4: 0.77708871496985887,\n",
       " 5: 0.94023856953328033,\n",
       " 6: 0.7327387580875756,\n",
       " 7: 0.92587506833388988,\n",
       " 8: 0.88427248752843102,\n",
       " 9: 0.90550888174769317,\n",
       " 10: 0.83281653622739416,\n",
       " 11: 0.88047713906656067,\n",
       " 12: 0.83964325485254543,\n",
       " 13: 0.87035925528956715,\n",
       " 14: 0.87401184233025764,\n",
       " 15: 0.94427217874246472,\n",
       " 16: 0.84063618542208085,\n",
       " 17: 0.95664450152379399,\n",
       " 18: 0.94427217874246472,\n",
       " 19: 0.88854435748492944,\n",
       " 20: 0.84275727449171223,\n",
       " 21: 0.82503644694405864}"
      ]
     },
     "execution_count": 80,
     "metadata": {},
     "output_type": "execute_result"
    }
   ],
   "source": [
    "ans"
   ]
  },
  {
   "cell_type": "code",
   "execution_count": 87,
   "metadata": {},
   "outputs": [
    {
     "data": {
      "text/plain": [
       "(0, 0.0)"
      ]
     },
     "execution_count": 87,
     "metadata": {},
     "output_type": "execute_result"
    }
   ],
   "source": [
    "key1 = min(ans.items(), key=lambda x: x[1]) \n",
    "key1"
   ]
  },
  {
   "cell_type": "code",
   "execution_count": 88,
   "metadata": {
    "collapsed": true
   },
   "outputs": [],
   "source": [
    "ans[key1[0]] = 100"
   ]
  },
  {
   "cell_type": "code",
   "execution_count": 89,
   "metadata": {},
   "outputs": [
    {
     "data": {
      "text/plain": [
       "(6, 0.7327387580875756)"
      ]
     },
     "execution_count": 89,
     "metadata": {},
     "output_type": "execute_result"
    }
   ],
   "source": [
    "key2 = min(ans.items(), key=lambda x: x[1]) \n",
    "key2"
   ]
  },
  {
   "cell_type": "code",
   "execution_count": 90,
   "metadata": {},
   "outputs": [],
   "source": [
    "ans[key2[0]] = 100"
   ]
  },
  {
   "cell_type": "code",
   "execution_count": 91,
   "metadata": {},
   "outputs": [
    {
     "data": {
      "text/plain": [
       "(4, 0.77708871496985887)"
      ]
     },
     "execution_count": 91,
     "metadata": {},
     "output_type": "execute_result"
    }
   ],
   "source": [
    "key3 = min(ans.items(), key=lambda x: x[1]) \n",
    "key3"
   ]
  },
  {
   "cell_type": "code",
   "execution_count": 92,
   "metadata": {},
   "outputs": [
    {
     "data": {
      "text/plain": [
       "'domestic cats are similar in size to the other members of the genus felis, typically weighing between 4 and 5 kg (8.8 and 11.0 lb).'"
      ]
     },
     "execution_count": 92,
     "metadata": {},
     "output_type": "execute_result"
    }
   ],
   "source": [
    "text_lines[6]"
   ]
  },
  {
   "cell_type": "code",
   "execution_count": 93,
   "metadata": {},
   "outputs": [
    {
     "data": {
      "text/plain": [
       "'in one, people deliberately tamed cats in a process of artificial selection, as they were useful predators of vermin.'"
      ]
     },
     "execution_count": 93,
     "metadata": {},
     "output_type": "execute_result"
    }
   ],
   "source": [
    "text_lines[4]"
   ]
  },
  {
   "cell_type": "code",
   "execution_count": null,
   "metadata": {
    "collapsed": true
   },
   "outputs": [],
   "source": []
  },
  {
   "cell_type": "code",
   "execution_count": null,
   "metadata": {
    "collapsed": true
   },
   "outputs": [],
   "source": []
  },
  {
   "cell_type": "code",
   "execution_count": 39,
   "metadata": {},
   "outputs": [
    {
     "data": {
      "text/plain": [
       "['in comparison to dogs, cats have not undergone major changes during the domestication process.',\n",
       " 'as cat simply catenates streams of bytes, it can be also used to concatenate binary files, where it will just concatenate sequence of bytes.',\n",
       " 'a common interactive use of cat for a single file is to output the content of a file to standard output.',\n",
       " 'cats can hear sounds too faint or too high in frequency for human ears, such as those made by mice and other small animals.',\n",
       " 'in one, people deliberately tamed cats in a process of artificial selection, as they were useful predators of vermin.',\n",
       " 'the domesticated cat and its closest wild ancestor are both diploid organisms that possess 38 chromosomes and roughly 20,000 genes.',\n",
       " 'domestic cats are similar in size to the other members of the genus felis, typically weighing between 4 and 5 kg (8.8 and 11.0 lb).',\n",
       " 'however, if the output is piped or redirected, cat is unnecessary.',\n",
       " 'cat with one named file is safer where human error is a concern - one wrong use of the default redirection symbol \">\" instead of \"<\" (often adjacent on keyboards) may permanently delete the file you were just needing to read.',\n",
       " 'in terms of legibility, a sequence of commands starting with cat and connected by pipes has a clear left-to-right flow of information.',\n",
       " 'cat command is one of the basic commands that you learned when you started in the unix / linux world.',\n",
       " 'using cat command, the lines received from stdin can be redirected to a new file using redirection symbols.',\n",
       " 'when you type simply cat command without any arguments, it just receives the stdin content and displays it in the stdout.',\n",
       " 'leopard was released on october 26, 2007 as the successor of tiger (version 10.4), and is available in two editions.',\n",
       " 'according to apple, leopard contains over 300 changes and enhancements over its predecessor, mac os x tiger.',\n",
       " 'as of mid 2010, some apple computers have firmware factory installed which will no longer allow installation of mac os x leopard.',\n",
       " 'since apple moved to using intel processors in their computers, the osx86 community has developed and now also allows mac os x tiger and later releases to be installed on non-apple x86-based computers.',\n",
       " \"os x mountain lion was released on july 25, 2012 for purchase and download through apple's mac app store, as part of a switch to releasing os x versions online and every year.\",\n",
       " 'apple has released a small patch for the three most recent versions of safari running on os x yosemite, mavericks, and mountain lion.',\n",
       " 'the mountain lion release marks the second time apple has offered an incremental upgrade, rather than releasing a new cat entirely.',\n",
       " \"mac os x mountain lion installs in place, so you won't need to create a separate disk or run the installation off an external drive.\",\n",
       " \"the fifth major update to mac os x, leopard, contains such a mountain of features - more than 300 by apple's count.\"]"
      ]
     },
     "execution_count": 39,
     "metadata": {},
     "output_type": "execute_result"
    }
   ],
   "source": [
    "text_lines"
   ]
  },
  {
   "cell_type": "code",
   "execution_count": null,
   "metadata": {
    "collapsed": true
   },
   "outputs": [],
   "source": []
  }
 ],
 "metadata": {
  "kernelspec": {
   "display_name": "Python 2",
   "language": "python",
   "name": "python2"
  },
  "language_info": {
   "codemirror_mode": {
    "name": "ipython",
    "version": 2
   },
   "file_extension": ".py",
   "mimetype": "text/x-python",
   "name": "python",
   "nbconvert_exporter": "python",
   "pygments_lexer": "ipython2",
   "version": "2.7.13"
  }
 },
 "nbformat": 4,
 "nbformat_minor": 2
}
