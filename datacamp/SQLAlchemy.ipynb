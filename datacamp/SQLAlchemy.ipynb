{
 "cells": [
  {
   "cell_type": "markdown",
   "metadata": {},
   "source": [
    "#### создание engine"
   ]
  },
  {
   "cell_type": "code",
   "execution_count": 46,
   "metadata": {},
   "outputs": [
    {
     "name": "stdout",
     "output_type": "stream",
     "text": [
      "['census', 'state_fact']\n"
     ]
    }
   ],
   "source": [
    "# Import create_engine\n",
    "from sqlalchemy import create_engine\n",
    "\n",
    "# Create an engine that connects to the census.sqlite file: engine\n",
    "engine = create_engine('sqlite:///census.sqlite')\n",
    "\n",
    "# Print table names\n",
    "print(engine.table_names())"
   ]
  },
  {
   "cell_type": "markdown",
   "metadata": {},
   "source": [
    "#### создание отражения таблицы"
   ]
  },
  {
   "cell_type": "code",
   "execution_count": 3,
   "metadata": {},
   "outputs": [
    {
     "name": "stdout",
     "output_type": "stream",
     "text": [
      "Table('census', MetaData(bind=None), Column('state', VARCHAR(length=30), table=<census>), Column('sex', VARCHAR(length=1), table=<census>), Column('age', INTEGER(), table=<census>), Column('pop2000', INTEGER(), table=<census>), Column('pop2008', INTEGER(), table=<census>), schema=None)\n"
     ]
    }
   ],
   "source": [
    "# Import Table\n",
    "from sqlalchemy import Table, MetaData\n",
    "metadata = MetaData()\n",
    "\n",
    "# Reflect census table from the engine: census\n",
    "census = Table('census', metadata, autoload=True, autoload_with=engine)\n",
    "\n",
    "# Print census table metadata\n",
    "print(repr(census))"
   ]
  },
  {
   "cell_type": "markdown",
   "metadata": {},
   "source": [
    "#### названия столбцов"
   ]
  },
  {
   "cell_type": "code",
   "execution_count": 4,
   "metadata": {},
   "outputs": [
    {
     "name": "stdout",
     "output_type": "stream",
     "text": [
      "['state', 'sex', 'age', 'pop2000', 'pop2008']\n",
      "Table('census', MetaData(bind=None), Column('state', VARCHAR(length=30), table=<census>), Column('sex', VARCHAR(length=1), table=<census>), Column('age', INTEGER(), table=<census>), Column('pop2000', INTEGER(), table=<census>), Column('pop2008', INTEGER(), table=<census>), schema=None)\n"
     ]
    }
   ],
   "source": [
    "# Print the column names\n",
    "print(census.columns.keys())\n",
    "\n",
    "# Print full table metadata\n",
    "print(repr(metadata.tables['census']))"
   ]
  },
  {
   "cell_type": "markdown",
   "metadata": {
    "collapsed": true
   },
   "source": [
    "#### создание запроса в SQL"
   ]
  },
  {
   "cell_type": "code",
   "execution_count": 9,
   "metadata": {},
   "outputs": [
    {
     "name": "stdout",
     "output_type": "stream",
     "text": [
      "('Illinois', 'M', 0, 89600, 95012)\n"
     ]
    }
   ],
   "source": [
    "connection = engine.connect()\n",
    "\n",
    "# Build select statement for census table: stmt\n",
    "stmt = 'SELECT * FROM census'\n",
    "\n",
    "# Execute the statement and fetch the results: results\n",
    "results = connection.execute(stmt).fetchall()\n",
    "\n",
    "# Print Results\n",
    "print(results[0])"
   ]
  },
  {
   "cell_type": "markdown",
   "metadata": {
    "collapsed": true
   },
   "source": [
    "#### Создание запроса при помощи select"
   ]
  },
  {
   "cell_type": "code",
   "execution_count": 11,
   "metadata": {},
   "outputs": [
    {
     "name": "stdout",
     "output_type": "stream",
     "text": [
      "SELECT census.state, census.sex, census.age, census.pop2000, census.pop2008 \n",
      "FROM census\n",
      "('Illinois', 'M', 0, 89600, 95012)\n"
     ]
    }
   ],
   "source": [
    "# Import select\n",
    "from sqlalchemy import select\n",
    "\n",
    "# Reflect census table via engine: census\n",
    "census = Table('census', metadata, autoload=True, autoload_with=engine)\n",
    "\n",
    "# Build select statement for census table: stmt\n",
    "stmt = select([census])\n",
    "\n",
    "# Print the emitted statement to see the SQL emitted\n",
    "print(stmt)\n",
    "\n",
    "# Execute the statement and print the results\n",
    "print(connection.execute(stmt).fetchall()[0])"
   ]
  },
  {
   "cell_type": "code",
   "execution_count": 12,
   "metadata": {},
   "outputs": [
    {
     "name": "stdout",
     "output_type": "stream",
     "text": [
      "('Illinois', 'M', 0, 89600, 95012)\n",
      "Illinois\n",
      "Illinois\n"
     ]
    }
   ],
   "source": [
    "# Get the first row of the results by using an index: first_row\n",
    "first_row = results[0]\n",
    "\n",
    "# Print the first row of the results\n",
    "print(first_row)\n",
    "\n",
    "# Print the first column of the first row by using an index\n",
    "print(first_row[0])\n",
    "\n",
    "# Print the 'state' column of the first row by using its name\n",
    "print(first_row['state'])"
   ]
  },
  {
   "cell_type": "markdown",
   "metadata": {
    "collapsed": true
   },
   "source": [
    "#### Выбор WHERE"
   ]
  },
  {
   "cell_type": "code",
   "execution_count": 13,
   "metadata": {},
   "outputs": [
    {
     "name": "stdout",
     "output_type": "stream",
     "text": [
      "0 M 128088\n",
      "1 M 125649\n",
      "2 M 121615\n",
      "3 M 120580\n",
      "4 M 122482\n",
      "5 M 121205\n",
      "6 M 120089\n",
      "7 M 122355\n",
      "8 M 118653\n",
      "9 M 117369\n",
      "10 M 118810\n",
      "11 M 121121\n",
      "12 M 126338\n",
      "13 M 128713\n",
      "14 M 129812\n",
      "15 M 134463\n",
      "16 M 136569\n",
      "17 M 140114\n",
      "18 M 156892\n",
      "19 M 147556\n",
      "20 M 146611\n",
      "21 M 141932\n",
      "22 M 138557\n",
      "23 M 136150\n",
      "24 M 132383\n",
      "25 M 141850\n",
      "26 M 129603\n",
      "27 M 131419\n",
      "28 M 127224\n",
      "29 M 122449\n",
      "30 M 126404\n",
      "31 M 126124\n",
      "32 M 123362\n",
      "33 M 126486\n",
      "34 M 120030\n",
      "35 M 123017\n",
      "36 M 127076\n",
      "37 M 136270\n",
      "38 M 144715\n",
      "39 M 135027\n",
      "40 M 135355\n",
      "41 M 132905\n",
      "42 M 140025\n",
      "43 M 151555\n",
      "44 M 149030\n",
      "45 M 148147\n",
      "46 M 146692\n",
      "47 M 147648\n",
      "48 M 155155\n",
      "49 M 144287\n",
      "50 M 143466\n",
      "51 M 139630\n",
      "52 M 133939\n",
      "53 M 136723\n",
      "54 M 125953\n",
      "55 M 122478\n",
      "56 M 118070\n",
      "57 M 115823\n",
      "58 M 117177\n",
      "59 M 108293\n",
      "60 M 106825\n",
      "61 M 113681\n",
      "62 M 83763\n",
      "63 M 81226\n",
      "64 M 76961\n",
      "65 M 82242\n",
      "66 M 70423\n",
      "67 M 64117\n",
      "68 M 63657\n",
      "69 M 58801\n",
      "70 M 57609\n",
      "71 M 53231\n",
      "72 M 51132\n",
      "73 M 50696\n",
      "74 M 44822\n",
      "75 M 43592\n",
      "76 M 41900\n",
      "77 M 40417\n",
      "78 M 40241\n",
      "79 M 35941\n",
      "80 M 34659\n",
      "81 M 32022\n",
      "82 M 28890\n",
      "83 M 27217\n",
      "84 M 23879\n",
      "85 M 124478\n",
      "0 F 122194\n",
      "1 F 119661\n",
      "2 F 116413\n",
      "3 F 114877\n",
      "4 F 116936\n",
      "5 F 116051\n",
      "6 F 115186\n",
      "7 F 116951\n",
      "8 F 113279\n",
      "9 F 111919\n",
      "10 F 113891\n",
      "11 F 115607\n",
      "12 F 120156\n",
      "13 F 123797\n",
      "14 F 124343\n",
      "15 F 127635\n",
      "16 F 130769\n",
      "17 F 134311\n",
      "18 F 150772\n",
      "19 F 142871\n",
      "20 F 141831\n",
      "21 F 142302\n",
      "22 F 138703\n",
      "23 F 138084\n",
      "24 F 135339\n",
      "25 F 141601\n",
      "26 F 130002\n",
      "27 F 129600\n",
      "28 F 129868\n",
      "29 F 119821\n",
      "30 F 125047\n",
      "31 F 127486\n",
      "32 F 123742\n",
      "33 F 126908\n",
      "34 F 121824\n",
      "35 F 124485\n",
      "36 F 130377\n",
      "37 F 140890\n",
      "38 F 148408\n",
      "39 F 137936\n",
      "40 F 138561\n",
      "41 F 139720\n",
      "42 F 145307\n",
      "43 F 154437\n",
      "44 F 154805\n",
      "45 F 153651\n",
      "46 F 151107\n",
      "47 F 154997\n",
      "48 F 158855\n",
      "49 F 151022\n",
      "50 F 149883\n",
      "51 F 146988\n",
      "52 F 142566\n",
      "53 F 144121\n",
      "54 F 135180\n",
      "55 F 132338\n",
      "56 F 127500\n",
      "57 F 126450\n",
      "58 F 128713\n",
      "59 F 121743\n",
      "60 F 119540\n",
      "61 F 126847\n",
      "62 F 96462\n",
      "63 F 94667\n",
      "64 F 90185\n",
      "65 F 97321\n",
      "66 F 83336\n",
      "67 F 77404\n",
      "68 F 77802\n",
      "69 F 71850\n",
      "70 F 71451\n",
      "71 F 66625\n",
      "72 F 65037\n",
      "73 F 65719\n",
      "74 F 58818\n",
      "75 F 58722\n",
      "76 F 57584\n",
      "77 F 56907\n",
      "78 F 58456\n",
      "79 F 54136\n",
      "80 F 52932\n",
      "81 F 50693\n",
      "82 F 48206\n",
      "83 F 47777\n",
      "84 F 43454\n",
      "85 F 273476\n"
     ]
    }
   ],
   "source": [
    "# Create a select query: stmt\n",
    "stmt = select([census])\n",
    "\n",
    "# Add a where clause to filter the results to only those for New York\n",
    "stmt = stmt.where(census.columns.state == 'New York')\n",
    "\n",
    "# Execute the query to retrieve all the data returned: results\n",
    "results = connection.execute(stmt).fetchall()\n",
    "\n",
    "# Loop over the results and print the age, sex, and pop2008\n",
    "for result in results:\n",
    "    print(result.age, result.sex, result.pop2008)"
   ]
  },
  {
   "cell_type": "markdown",
   "metadata": {},
   "source": [
    "#### Выбор по столбцу в массиве"
   ]
  },
  {
   "cell_type": "code",
   "execution_count": 15,
   "metadata": {},
   "outputs": [
    {
     "name": "stdout",
     "output_type": "stream",
     "text": [
      "Illinois 89600\n",
      "Illinois 88445\n",
      "Illinois 88729\n",
      "Illinois 88868\n",
      "Illinois 91947\n",
      "Illinois 93894\n",
      "Illinois 93676\n",
      "Illinois 94818\n",
      "Illinois 95035\n",
      "Illinois 96436\n",
      "Illinois 97280\n",
      "Illinois 94029\n",
      "Illinois 92402\n",
      "Illinois 89926\n",
      "Illinois 90717\n",
      "Illinois 92178\n",
      "Illinois 90587\n",
      "Illinois 92782\n",
      "Illinois 90997\n",
      "Illinois 89629\n",
      "Illinois 91040\n",
      "Illinois 85176\n",
      "Illinois 84372\n",
      "Illinois 85529\n",
      "Illinois 84549\n",
      "Illinois 87630\n",
      "Illinois 84205\n",
      "Illinois 87481\n",
      "Illinois 91586\n",
      "Illinois 95226\n",
      "Illinois 98572\n",
      "Illinois 91469\n",
      "Illinois 89813\n",
      "Illinois 89694\n",
      "Illinois 91474\n",
      "Illinois 97796\n",
      "Illinois 97688\n",
      "Illinois 97664\n",
      "Illinois 98705\n",
      "Illinois 100103\n",
      "Illinois 103045\n",
      "Illinois 98235\n",
      "Illinois 97946\n",
      "Illinois 96490\n",
      "Illinois 92713\n",
      "Illinois 93817\n",
      "Illinois 87706\n",
      "Illinois 85685\n",
      "Illinois 83445\n",
      "Illinois 81182\n",
      "Illinois 81005\n",
      "Illinois 75942\n",
      "Illinois 75896\n",
      "Illinois 78933\n",
      "Illinois 58953\n",
      "Illinois 57885\n",
      "Illinois 58143\n",
      "Illinois 60590\n",
      "Illinois 54120\n",
      "Illinois 49046\n",
      "Illinois 47509\n",
      "Illinois 45588\n",
      "Illinois 44604\n",
      "Illinois 41700\n",
      "Illinois 40316\n",
      "Illinois 39696\n",
      "Illinois 35784\n",
      "Illinois 35251\n",
      "Illinois 34729\n",
      "Illinois 34914\n",
      "Illinois 35307\n",
      "Illinois 33112\n",
      "Illinois 32673\n",
      "Illinois 31381\n",
      "Illinois 30103\n",
      "Illinois 29050\n",
      "Illinois 27274\n",
      "Illinois 25325\n",
      "Illinois 23794\n",
      "Illinois 21932\n",
      "Illinois 19729\n",
      "Illinois 17222\n",
      "Illinois 15811\n",
      "Illinois 13553\n",
      "Illinois 12073\n",
      "Illinois 53719\n",
      "Illinois 85910\n",
      "Illinois 84396\n",
      "Illinois 84764\n",
      "Illinois 85598\n",
      "Illinois 87729\n",
      "Illinois 89085\n",
      "Illinois 89608\n",
      "Illinois 89876\n",
      "Illinois 90982\n",
      "Illinois 91913\n",
      "Illinois 93569\n",
      "Illinois 89694\n",
      "Illinois 87574\n",
      "Illinois 85843\n",
      "Illinois 87057\n",
      "Illinois 86835\n",
      "Illinois 85249\n",
      "Illinois 86930\n",
      "Illinois 84902\n",
      "Illinois 85953\n",
      "Illinois 87124\n",
      "Illinois 82416\n",
      "Illinois 81888\n",
      "Illinois 83219\n",
      "Illinois 82301\n",
      "Illinois 84817\n",
      "Illinois 82888\n",
      "Illinois 85594\n",
      "Illinois 89682\n",
      "Illinois 94496\n",
      "Illinois 96361\n",
      "Illinois 90025\n",
      "Illinois 89414\n",
      "Illinois 89087\n",
      "Illinois 91233\n",
      "Illinois 98151\n",
      "Illinois 98588\n",
      "Illinois 99155\n",
      "Illinois 100045\n",
      "Illinois 102074\n",
      "Illinois 104762\n",
      "Illinois 99919\n",
      "Illinois 100474\n",
      "Illinois 98601\n",
      "Illinois 95485\n",
      "Illinois 95859\n",
      "Illinois 90902\n",
      "Illinois 88623\n",
      "Illinois 85539\n",
      "Illinois 84865\n",
      "Illinois 83791\n",
      "Illinois 80154\n",
      "Illinois 79736\n",
      "Illinois 83261\n",
      "Illinois 62200\n",
      "Illinois 61540\n",
      "Illinois 62191\n",
      "Illinois 65588\n",
      "Illinois 58373\n",
      "Illinois 53406\n",
      "Illinois 52517\n",
      "Illinois 50588\n",
      "Illinois 49457\n",
      "Illinois 46140\n",
      "Illinois 46040\n",
      "Illinois 45501\n",
      "Illinois 41990\n",
      "Illinois 42327\n",
      "Illinois 42526\n",
      "Illinois 43328\n",
      "Illinois 44539\n",
      "Illinois 41731\n",
      "Illinois 42175\n",
      "Illinois 42123\n",
      "Illinois 40681\n",
      "Illinois 40986\n",
      "Illinois 39676\n",
      "Illinois 37514\n",
      "Illinois 36875\n",
      "Illinois 34777\n",
      "Illinois 33171\n",
      "Illinois 29900\n",
      "Illinois 28488\n",
      "Illinois 26257\n",
      "Illinois 23947\n",
      "Illinois 140079\n",
      "Alabama 30479\n",
      "Alabama 29904\n",
      "Alabama 30065\n",
      "Alabama 29932\n",
      "Alabama 30319\n",
      "Alabama 31127\n",
      "Alabama 31466\n",
      "Alabama 32287\n",
      "Alabama 32497\n",
      "Alabama 33361\n",
      "Alabama 34488\n",
      "Alabama 32884\n",
      "Alabama 32417\n",
      "Alabama 32621\n",
      "Alabama 32644\n",
      "Alabama 33070\n",
      "Alabama 32544\n",
      "Alabama 32822\n",
      "Alabama 32881\n",
      "Alabama 33201\n",
      "Alabama 33175\n",
      "Alabama 31231\n",
      "Alabama 29859\n",
      "Alabama 29439\n",
      "Alabama 27663\n",
      "Alabama 28665\n",
      "Alabama 27853\n",
      "Alabama 28485\n",
      "Alabama 29964\n",
      "Alabama 31203\n",
      "Alabama 30971\n",
      "Alabama 29422\n",
      "Alabama 27952\n",
      "Alabama 28423\n",
      "Alabama 29791\n",
      "Alabama 32084\n",
      "Alabama 32652\n",
      "Alabama 32419\n",
      "Alabama 32784\n",
      "Alabama 33340\n",
      "Alabama 34262\n",
      "Alabama 32941\n",
      "Alabama 33566\n",
      "Alabama 33778\n",
      "Alabama 32627\n",
      "Alabama 32728\n",
      "Alabama 31404\n",
      "Alabama 30339\n",
      "Alabama 29491\n",
      "Alabama 29186\n",
      "Alabama 29429\n",
      "Alabama 29015\n",
      "Alabama 28811\n",
      "Alabama 29978\n",
      "Alabama 22420\n",
      "Alabama 22560\n",
      "Alabama 22803\n",
      "Alabama 23112\n",
      "Alabama 20387\n",
      "Alabama 19376\n",
      "Alabama 19321\n",
      "Alabama 18044\n",
      "Alabama 18131\n",
      "Alabama 16876\n",
      "Alabama 16850\n",
      "Alabama 16815\n",
      "Alabama 15424\n",
      "Alabama 15259\n",
      "Alabama 14753\n",
      "Alabama 14054\n",
      "Alabama 14042\n",
      "Alabama 12972\n",
      "Alabama 12931\n",
      "Alabama 12366\n",
      "Alabama 11317\n",
      "Alabama 10724\n",
      "Alabama 9941\n",
      "Alabama 9263\n",
      "Alabama 8651\n",
      "Alabama 7891\n",
      "Alabama 7515\n",
      "Alabama 5965\n",
      "Alabama 5188\n",
      "Alabama 4732\n",
      "Alabama 4066\n",
      "Alabama 18259\n",
      "Alabama 29131\n",
      "Alabama 28725\n",
      "Alabama 28883\n",
      "Alabama 28846\n",
      "Alabama 29052\n",
      "Alabama 29440\n",
      "Alabama 29869\n",
      "Alabama 30651\n",
      "Alabama 30905\n",
      "Alabama 31673\n",
      "Alabama 32403\n",
      "Alabama 31199\n",
      "Alabama 30636\n",
      "Alabama 30688\n",
      "Alabama 31173\n",
      "Alabama 31485\n",
      "Alabama 31117\n",
      "Alabama 31293\n",
      "Alabama 32194\n",
      "Alabama 34032\n",
      "Alabama 33875\n",
      "Alabama 32373\n",
      "Alabama 31089\n",
      "Alabama 29888\n",
      "Alabama 28464\n",
      "Alabama 29163\n",
      "Alabama 28733\n",
      "Alabama 29475\n",
      "Alabama 30669\n",
      "Alabama 32303\n",
      "Alabama 31894\n",
      "Alabama 29914\n",
      "Alabama 29441\n",
      "Alabama 29924\n",
      "Alabama 31383\n",
      "Alabama 33839\n",
      "Alabama 34156\n",
      "Alabama 34342\n",
      "Alabama 34792\n",
      "Alabama 35391\n",
      "Alabama 35758\n",
      "Alabama 35500\n",
      "Alabama 35663\n",
      "Alabama 35821\n",
      "Alabama 34222\n",
      "Alabama 34545\n",
      "Alabama 33798\n",
      "Alabama 32171\n",
      "Alabama 31609\n",
      "Alabama 30645\n",
      "Alabama 31146\n",
      "Alabama 30590\n",
      "Alabama 30340\n",
      "Alabama 31446\n",
      "Alabama 24228\n",
      "Alabama 24341\n",
      "Alabama 24369\n",
      "Alabama 25431\n",
      "Alabama 22554\n",
      "Alabama 21550\n",
      "Alabama 21353\n",
      "Alabama 20543\n",
      "Alabama 20652\n",
      "Alabama 19454\n",
      "Alabama 19452\n",
      "Alabama 19613\n",
      "Alabama 17959\n",
      "Alabama 18025\n",
      "Alabama 18023\n",
      "Alabama 17773\n",
      "Alabama 17865\n",
      "Alabama 16956\n",
      "Alabama 17348\n",
      "Alabama 16840\n",
      "Alabama 15992\n",
      "Alabama 15736\n",
      "Alabama 15057\n",
      "Alabama 14375\n",
      "Alabama 13748\n",
      "Alabama 13066\n",
      "Alabama 12789\n",
      "Alabama 10680\n",
      "Alabama 9453\n",
      "Alabama 9448\n",
      "Alabama 8418\n",
      "Alabama 49764\n"
     ]
    }
   ],
   "source": [
    "states = ['Illinois', 'Alabama']\n",
    "\n",
    "# Create a query for the census table: stmt\n",
    "stmt = select([census])\n",
    "\n",
    "# Append a where clause to match all the states in_ the list states\n",
    "stmt = stmt.where(census.columns.state.in_(states))\n",
    "\n",
    "# Loop over the ResultProxy and print the state and its population in 2000\n",
    "for result in connection.execute(stmt):\n",
    "    print(result.state, result.pop2000)"
   ]
  },
  {
   "cell_type": "markdown",
   "metadata": {},
   "source": [
    "#### AND"
   ]
  },
  {
   "cell_type": "code",
   "execution_count": 20,
   "metadata": {},
   "outputs": [
    {
     "name": "stdout",
     "output_type": "stream",
     "text": [
      "SELECT census.state, census.sex, census.age, census.pop2000, census.pop2008 \n",
      "FROM census \n",
      "WHERE census.state = :state_1 AND census.sex != :sex_1 AND census.age < :age_1\n",
      "0 F\n",
      "1 F\n",
      "2 F\n",
      "3 F\n",
      "4 F\n",
      "5 F\n",
      "6 F\n",
      "7 F\n",
      "8 F\n",
      "9 F\n"
     ]
    }
   ],
   "source": [
    "# Import and_\n",
    "from sqlalchemy import and_\n",
    "\n",
    "# Build a query for the census table: stmt\n",
    "stmt = select([census])\n",
    "\n",
    "# Append a where clause to select only non-male records from California using and_\n",
    "stmt = stmt.where(\n",
    "    # The state of California with a non-male sex\n",
    "    and_(census.columns.state == 'California',\n",
    "         census.columns.sex != 'M',\n",
    "         census.columns.age < 10\n",
    "         )\n",
    ")\n",
    "\n",
    "print(stmt)\n",
    "\n",
    "# Loop over the ResultProxy printing the age and sex\n",
    "for result in connection.execute(stmt):\n",
    "    print(result.age, result.sex)"
   ]
  },
  {
   "cell_type": "markdown",
   "metadata": {},
   "source": [
    "#### Сортировка"
   ]
  },
  {
   "cell_type": "code",
   "execution_count": 21,
   "metadata": {},
   "outputs": [
    {
     "name": "stdout",
     "output_type": "stream",
     "text": [
      "SELECT census.state \n",
      "FROM census ORDER BY census.state\n",
      "[('Alabama',), ('Alabama',), ('Alabama',), ('Alabama',), ('Alabama',), ('Alabama',), ('Alabama',), ('Alabama',), ('Alabama',), ('Alabama',)]\n"
     ]
    }
   ],
   "source": [
    "# Build a query to select the state column: stmt\n",
    "stmt = select([census.columns.state])\n",
    "\n",
    "# Order stmt by the state column\n",
    "stmt = stmt.order_by(census.columns.state)\n",
    "print(stmt)\n",
    "\n",
    "# Execute the query and store the results: results\n",
    "results = connection.execute(stmt).fetchall()\n",
    "\n",
    "# Print the first 10 results\n",
    "print(results[:10])"
   ]
  },
  {
   "cell_type": "markdown",
   "metadata": {},
   "source": [
    "#### Order Desc"
   ]
  },
  {
   "cell_type": "code",
   "execution_count": 23,
   "metadata": {},
   "outputs": [
    {
     "name": "stdout",
     "output_type": "stream",
     "text": [
      "SELECT census.state \n",
      "FROM census ORDER BY census.state DESC\n",
      "[('Wyoming',), ('Wyoming',), ('Wyoming',), ('Wyoming',), ('Wyoming',), ('Wyoming',), ('Wyoming',), ('Wyoming',), ('Wyoming',), ('Wyoming',)]\n"
     ]
    }
   ],
   "source": [
    "# Import desc\n",
    "from sqlalchemy import desc\n",
    "\n",
    "# Build a query to select the state column: stmt\n",
    "stmt = select([census.columns.state])\n",
    "\n",
    "# Order stmt by state in descending order: rev_stmt\n",
    "rev_stmt = stmt.order_by(desc(census.columns.state))\n",
    "print(rev_stmt)\n",
    "\n",
    "# Execute the query and store the results: rev_results\n",
    "rev_results = connection.execute(rev_stmt).fetchall()\n",
    "\n",
    "# Print the first 10 rev_results\n",
    "print(rev_results[:10])"
   ]
  },
  {
   "cell_type": "markdown",
   "metadata": {},
   "source": [
    "#### Ordering by Multiple Columns"
   ]
  },
  {
   "cell_type": "code",
   "execution_count": 25,
   "metadata": {},
   "outputs": [
    {
     "name": "stdout",
     "output_type": "stream",
     "text": [
      "SELECT census.state, census.age \n",
      "FROM census ORDER BY census.state, census.age DESC\n",
      "[('Alabama', 85), ('Alabama', 85), ('Alabama', 84), ('Alabama', 84), ('Alabama', 83), ('Alabama', 83), ('Alabama', 82), ('Alabama', 82), ('Alabama', 81), ('Alabama', 81), ('Alabama', 80), ('Alabama', 80), ('Alabama', 79), ('Alabama', 79), ('Alabama', 78), ('Alabama', 78), ('Alabama', 77), ('Alabama', 77), ('Alabama', 76), ('Alabama', 76)]\n"
     ]
    }
   ],
   "source": [
    "# Build a query to select state and age: stmt\n",
    "stmt = select([census.columns.state, census.columns.age])\n",
    "\n",
    "# Append order by to ascend by state and descend by age\n",
    "stmt = stmt.order_by(census.columns.state, desc(census.columns.age))\n",
    "print(stmt)\n",
    "\n",
    "# Execute the statement and store all the records: results\n",
    "results = connection.execute(stmt).fetchall()\n",
    "\n",
    "# Print the first 20 results\n",
    "print(results[:20])"
   ]
  },
  {
   "cell_type": "markdown",
   "metadata": {},
   "source": [
    "#### Counting Distinct Data - func"
   ]
  },
  {
   "cell_type": "code",
   "execution_count": 28,
   "metadata": {},
   "outputs": [
    {
     "name": "stdout",
     "output_type": "stream",
     "text": [
      "SELECT count(DISTINCT census.state) AS count_1 \n",
      "FROM census\n",
      "51\n"
     ]
    }
   ],
   "source": [
    "from sqlalchemy import func\n",
    "\n",
    "# Build a query to count the distinct states values: stmt\n",
    "stmt = select([func.count(census.columns.state.distinct())])\n",
    "print(stmt)\n",
    "\n",
    "# Execute the query and store the scalar result: distinct_state_count\n",
    "distinct_state_count = connection.execute(stmt).scalar()\n",
    "\n",
    "# Print the distinct_state_count\n",
    "print(distinct_state_count)"
   ]
  },
  {
   "cell_type": "markdown",
   "metadata": {},
   "source": [
    "#### Count records by state"
   ]
  },
  {
   "cell_type": "code",
   "execution_count": 30,
   "metadata": {},
   "outputs": [
    {
     "name": "stdout",
     "output_type": "stream",
     "text": [
      "SELECT census.state, count(census.age) AS count_1 \n",
      "FROM census GROUP BY census.state\n",
      "[('Alabama', 172), ('Alaska', 172), ('Arizona', 172), ('Arkansas', 172), ('California', 172), ('Colorado', 172), ('Connecticut', 172), ('Delaware', 172), ('District of Columbia', 172), ('Florida', 172), ('Georgia', 172), ('Hawaii', 172), ('Idaho', 172), ('Illinois', 172), ('Indiana', 172), ('Iowa', 172), ('Kansas', 172), ('Kentucky', 172), ('Louisiana', 172), ('Maine', 172), ('Maryland', 172), ('Massachusetts', 172), ('Michigan', 172), ('Minnesota', 172), ('Mississippi', 172), ('Missouri', 172), ('Montana', 172), ('Nebraska', 172), ('Nevada', 172), ('New Hampshire', 172), ('New Jersey', 172), ('New Mexico', 172), ('New York', 172), ('North Carolina', 172), ('North Dakota', 172), ('Ohio', 172), ('Oklahoma', 172), ('Oregon', 172), ('Pennsylvania', 172), ('Rhode Island', 172), ('South Carolina', 172), ('South Dakota', 172), ('Tennessee', 172), ('Texas', 172), ('Utah', 172), ('Vermont', 172), ('Virginia', 172), ('Washington', 172), ('West Virginia', 172), ('Wisconsin', 172), ('Wyoming', 172)]\n",
      "['state', 'count_1']\n"
     ]
    }
   ],
   "source": [
    "# Build a query to select the state and count of ages by state: stmt\n",
    "stmt = select([census.columns.state, func.count(census.columns.age)])\n",
    "\n",
    "# Group stmt by state\n",
    "stmt = stmt.group_by(census.columns.state)\n",
    "print(stmt)\n",
    "\n",
    "# Execute the statement and store all the records: results\n",
    "results = connection.execute(stmt).fetchall()\n",
    "\n",
    "# Print results\n",
    "print(results)\n",
    "\n",
    "# Print the keys/column names of the results returned\n",
    "print(results[0].keys())"
   ]
  },
  {
   "cell_type": "markdown",
   "metadata": {},
   "source": [
    "#### Determining the Population Sum by State"
   ]
  },
  {
   "cell_type": "code",
   "execution_count": 33,
   "metadata": {},
   "outputs": [
    {
     "name": "stdout",
     "output_type": "stream",
     "text": [
      "SELECT census.state, sum(census.pop2008) AS population \n",
      "FROM census GROUP BY census.state\n",
      " \n",
      "[('Alabama', 4649367), ('Alaska', 664546), ('Arizona', 6480767), ('Arkansas', 2848432), ('California', 36609002), ('Colorado', 4912947), ('Connecticut', 3493783), ('Delaware', 869221), ('District of Columbia', 588910), ('Florida', 18257662), ('Georgia', 9622508), ('Hawaii', 1250676), ('Idaho', 1518914), ('Illinois', 12867077), ('Indiana', 6373299), ('Iowa', 3000490), ('Kansas', 2782245), ('Kentucky', 4254964), ('Louisiana', 4395797), ('Maine', 1312972), ('Maryland', 5604174), ('Massachusetts', 6492024), ('Michigan', 9998854), ('Minnesota', 5215815), ('Mississippi', 2922355), ('Missouri', 5891974), ('Montana', 963802), ('Nebraska', 1776757), ('Nevada', 2579387), ('New Hampshire', 1314533), ('New Jersey', 8670204), ('New Mexico', 1974993), ('New York', 19465159), ('North Carolina', 9121606), ('North Dakota', 634282), ('Ohio', 11476782), ('Oklahoma', 3620620), ('Oregon', 3786824), ('Pennsylvania', 12440129), ('Rhode Island', 1046535), ('South Carolina', 4438870), ('South Dakota', 800997), ('Tennessee', 6202407), ('Texas', 24214127), ('Utah', 2730919), ('Vermont', 620602), ('Virginia', 7648902), ('Washington', 6502019), ('West Virginia', 1812879), ('Wisconsin', 5625013), ('Wyoming', 529490)]\n"
     ]
    }
   ],
   "source": [
    "# Import func\n",
    "from sqlalchemy import func\n",
    "\n",
    "# Build an expression to calculate the sum of pop2008 labeled as population\n",
    "pop2008_sum = func.sum(census.columns.pop2008).label('population')\n",
    "\n",
    "# Build a query to select the state and sum of pop2008: stmt\n",
    "stmt = select([census.columns.state, pop2008_sum])\n",
    "\n",
    "# Group stmt by state\n",
    "stmt = stmt.group_by(census.columns.state)\n",
    "print(stmt)\n",
    "print(' ')\n",
    "\n",
    "# Execute the statement and store all the records: results\n",
    "results = connection.execute(stmt).fetchall()\n",
    "\n",
    "# Print results\n",
    "\n",
    "print(results)"
   ]
  },
  {
   "cell_type": "markdown",
   "metadata": {},
   "source": [
    "#### SQL -> PD -> Graph"
   ]
  },
  {
   "cell_type": "code",
   "execution_count": 36,
   "metadata": {},
   "outputs": [
    {
     "data": {
      "image/png": "[encoded data removed]",
      "text/plain": [
       "<matplotlib.figure.Figure at 0x12b304e0>"
      ]
     },
     "metadata": {},
     "output_type": "display_data"
    }
   ],
   "source": [
    "%matplotlib inline\n",
    "import pandas as pd\n",
    "\n",
    "# Import Pyplot as plt from matplotlib\n",
    "import matplotlib.pyplot as plt\n",
    "\n",
    "# Create a DataFrame from the results: df\n",
    "df = pd.DataFrame(results)\n",
    "\n",
    "# Set Column names\n",
    "df.columns = results[0].keys()\n",
    "\n",
    "# Print the DataFrame\n",
    "#print(df)\n",
    "\n",
    "# Plot the DataFrame\n",
    "df.plot.bar()\n",
    "plt.show()"
   ]
  },
  {
   "cell_type": "markdown",
   "metadata": {},
   "source": [
    "#### Difference between two columns"
   ]
  },
  {
   "cell_type": "code",
   "execution_count": 38,
   "metadata": {},
   "outputs": [
    {
     "name": "stdout",
     "output_type": "stream",
     "text": [
      "SELECT census.state, census.pop2008 - census.pop2000 AS pop_change \n",
      "FROM census GROUP BY census.state ORDER BY pop_change DESC\n",
      " LIMIT :param_1\n",
      "California:105705\n",
      "Florida:100984\n",
      "Texas:51901\n",
      "New York:47098\n",
      "Pennsylvania:42387\n"
     ]
    }
   ],
   "source": [
    "# Build query to return state names by population difference from 2008 to 2000: stmt\n",
    "stmt = select([census.columns.state, (census.columns.pop2008-census.columns.pop2000).label('pop_change')])\n",
    "\n",
    "# Append group by for the state: stmt\n",
    "stmt = stmt.group_by(census.columns.state)\n",
    "\n",
    "# Append order by for pop_change descendingly: stmt\n",
    "stmt = stmt.order_by(desc('pop_change'))\n",
    "\n",
    "# Return only 5 results: stmt\n",
    "stmt = stmt.limit(5)\n",
    "print(stmt)\n",
    "\n",
    "# Use connection to execute the statement and fetch all results\n",
    "results = connection.execute(stmt).fetchall()\n",
    "\n",
    "# Print the state and population change for each record\n",
    "for result in results:\n",
    "    print('{}:{}'.format(result.state, result.pop_change))"
   ]
  },
  {
   "cell_type": "markdown",
   "metadata": {},
   "source": [
    "#### Determining the Overall Percentage of Females"
   ]
  },
  {
   "cell_type": "code",
   "execution_count": 39,
   "metadata": {},
   "outputs": [
    {
     "name": "stdout",
     "output_type": "stream",
     "text": [
      "51.0946743229\n"
     ]
    },
    {
     "name": "stderr",
     "output_type": "stream",
     "text": [
      "D:\\python\\Anaconda3\\lib\\site-packages\\sqlalchemy\\sql\\sqltypes.py:596: SAWarning: Dialect sqlite+pysqlite does *not* support Decimal objects natively, and SQLAlchemy must convert from floating point - rounding errors and other issues may occur. Please consider storing Decimal numbers as strings or integers on this platform for lossless storage.\n",
      "  'storage.' % (dialect.name, dialect.driver))\n"
     ]
    }
   ],
   "source": [
    "# import case, cast and Float from sqlalchemy\n",
    "from sqlalchemy import case, cast, Float\n",
    "\n",
    "# Build an expression to calculate female population in 2000\n",
    "female_pop2000 = func.sum(\n",
    "    case([\n",
    "        (census.columns.sex == 'F', census.columns.pop2000)\n",
    "    ], else_=0))\n",
    "\n",
    "# Cast an expression to calculate total population in 2000 to Float\n",
    "total_pop2000 = cast(func.sum(census.columns.pop2000), Float)\n",
    "\n",
    "# Build a query to calculate the percentage of females in 2000: stmt\n",
    "stmt = select([female_pop2000 / total_pop2000* 100])\n",
    "\n",
    "# Execute the query and store the scalar result: percent_female\n",
    "percent_female = connection.execute(stmt).scalar()\n",
    "\n",
    "# Print the percentage\n",
    "print(percent_female)"
   ]
  },
  {
   "cell_type": "markdown",
   "metadata": {},
   "source": [
    "#### Automatic Joins with an Established Relationship"
   ]
  },
  {
   "cell_type": "code",
   "execution_count": 41,
   "metadata": {},
   "outputs": [
    {
     "name": "stdout",
     "output_type": "stream",
     "text": [
      "pop2000 89600\n",
      "abbreviation IL\n"
     ]
    }
   ],
   "source": [
    "state_fact = Table('state_fact', metadata, autoload=True, autoload_with=engine)\n",
    "\n",
    "# Build a statement to join census and state_fact tables: stmt\n",
    "stmt = select([census.columns.pop2000, state_fact.columns.abbreviation])\n",
    "\n",
    "# Execute the statement and get the first result: result\n",
    "result = connection.execute(stmt).first()\n",
    "\n",
    "# Loop over the keys in the result object and print the key and value\n",
    "for key in result.keys():\n",
    "    print(key, getattr(result, key))"
   ]
  },
  {
   "cell_type": "markdown",
   "metadata": {},
   "source": [
    "#### Joins"
   ]
  },
  {
   "cell_type": "code",
   "execution_count": 42,
   "metadata": {},
   "outputs": [
    {
     "name": "stdout",
     "output_type": "stream",
     "text": [
      "state Illinois\n",
      "sex M\n",
      "age 0\n",
      "pop2000 89600\n",
      "pop2008 95012\n",
      "id 13\n",
      "name Illinois\n",
      "abbreviation IL\n",
      "country USA\n",
      "type state\n",
      "sort 10\n",
      "status current\n",
      "occupied occupied\n",
      "notes \n",
      "fips_state 17\n",
      "assoc_press Ill.\n",
      "standard_federal_region V\n",
      "census_region 2\n",
      "census_region_name Midwest\n",
      "census_division 3\n",
      "census_division_name East North Central\n",
      "circuit_court 7\n"
     ]
    }
   ],
   "source": [
    "# Build a statement to select the census and state_fact tables: stmt\n",
    "stmt = select([census, state_fact])\n",
    "\n",
    "# Add a select_from clause that wraps a join for the census and state_fact\n",
    "# tables where the census state column and state_fact name column match\n",
    "stmt = stmt.select_from(\n",
    "    census.join(state_fact, census.columns.state == state_fact.columns.name))\n",
    "\n",
    "# Execute the statement and get the first result: result\n",
    "result = connection.execute(stmt).first()\n",
    "\n",
    "# Loop over the keys in the result object and print the key and value\n",
    "for key in result.keys():\n",
    "    print(key, getattr(result, key))"
   ]
  },
  {
   "cell_type": "code",
   "execution_count": 43,
   "metadata": {},
   "outputs": [
    {
     "name": "stdout",
     "output_type": "stream",
     "text": [
      "('Alabama', 4649367, 'East South Central')\n",
      "('Alaska', 664546, 'Pacific')\n",
      "('Arizona', 6480767, 'Mountain')\n",
      "('Arkansas', 2848432, 'West South Central')\n",
      "('California', 36609002, 'Pacific')\n",
      "('Colorado', 4912947, 'Mountain')\n",
      "('Connecticut', 3493783, 'New England')\n",
      "('Delaware', 869221, 'South Atlantic')\n",
      "('Florida', 18257662, 'South Atlantic')\n",
      "('Georgia', 9622508, 'South Atlantic')\n",
      "('Hawaii', 1250676, 'Pacific')\n",
      "('Idaho', 1518914, 'Mountain')\n",
      "('Illinois', 12867077, 'East North Central')\n",
      "('Indiana', 6373299, 'East North Central')\n",
      "('Iowa', 3000490, 'West North Central')\n",
      "('Kansas', 2782245, 'West North Central')\n",
      "('Kentucky', 4254964, 'East South Central')\n",
      "('Louisiana', 4395797, 'West South Central')\n",
      "('Maine', 1312972, 'New England')\n",
      "('Maryland', 5604174, 'South Atlantic')\n",
      "('Massachusetts', 6492024, 'New England')\n",
      "('Michigan', 9998854, 'East North Central')\n",
      "('Minnesota', 5215815, 'West North Central')\n",
      "('Mississippi', 2922355, 'East South Central')\n",
      "('Missouri', 5891974, 'West North Central')\n",
      "('Montana', 963802, 'Mountain')\n",
      "('Nebraska', 1776757, 'West North Central')\n",
      "('Nevada', 2579387, 'Mountain')\n",
      "('New Hampshire', 1314533, 'New England')\n",
      "('New Jersey', 8670204, 'Mid-Atlantic')\n",
      "('New Mexico', 1974993, 'Mountain')\n",
      "('New York', 19465159, 'Mid-Atlantic')\n",
      "('North Carolina', 9121606, 'South Atlantic')\n",
      "('North Dakota', 634282, 'West North Central')\n",
      "('Ohio', 11476782, 'East North Central')\n",
      "('Oklahoma', 3620620, 'West South Central')\n",
      "('Oregon', 3786824, 'Pacific')\n",
      "('Pennsylvania', 12440129, 'Mid-Atlantic')\n",
      "('Rhode Island', 1046535, 'New England')\n",
      "('South Carolina', 4438870, 'South Atlantic')\n",
      "('South Dakota', 800997, 'West North Central')\n",
      "('Tennessee', 6202407, 'East South Central')\n",
      "('Texas', 24214127, 'West South Central')\n",
      "('Utah', 2730919, 'Mountain')\n",
      "('Vermont', 620602, 'New England')\n",
      "('Virginia', 7648902, 'South Atlantic')\n",
      "('Washington', 6502019, 'Pacific')\n",
      "('West Virginia', 1812879, 'South Atlantic')\n",
      "('Wisconsin', 5625013, 'East North Central')\n",
      "('Wyoming', 529490, 'Mountain')\n"
     ]
    }
   ],
   "source": [
    "# Build a statement to select the state, sum of 2008 population and census\n",
    "# division name: stmt\n",
    "stmt = select([\n",
    "    census.columns.state,\n",
    "    func.sum(census.columns.pop2008),\n",
    "    state_fact.columns.census_division_name\n",
    "])\n",
    "\n",
    "# Append select_from to join the census and state_fact tables by the census state and state_fact name columns\n",
    "stmt = stmt.select_from(\n",
    "    census.join(state_fact, census.columns.state == state_fact.columns.name)\n",
    ")\n",
    "\n",
    "# Append a group by for the state_fact name column\n",
    "stmt = stmt.group_by(state_fact.columns.name)\n",
    "\n",
    "# Execute the statement and get the results: results\n",
    "results = connection.execute(stmt).fetchall()\n",
    "\n",
    "# Loop over the the results object and print each record.\n",
    "for record in results:\n",
    "    print(record)\n"
   ]
  },
  {
   "cell_type": "markdown",
   "metadata": {},
   "source": [
    "#### use alias"
   ]
  },
  {
   "cell_type": "code",
   "execution_count": null,
   "metadata": {},
   "outputs": [],
   "source": [
    "# Make an alias of the employees table: managers\n",
    "managers = employees.alias()\n",
    "\n",
    "# Build a query to select manager's and their employees names: stmt\n",
    "stmt = select(\n",
    "    [managers.columns.name.label('manager'),\n",
    "     employees.columns.name.label('employee')]\n",
    ")\n",
    "\n",
    "# Match managers id with employees mgr: stmt\n",
    "stmt = stmt.where(managers.columns.id == employees.columns.mgr)\n",
    "\n",
    "# Order the statement by the managers name: stmt\n",
    "stmt = stmt.order_by(managers.columns.name)\n",
    "\n",
    "# Execute statement: results\n",
    "results = connection.execute(stmt).fetchall()"
   ]
  },
  {
   "cell_type": "markdown",
   "metadata": {},
   "source": [
    "#### Leveraging Functions and Group_bys with Hierarchical Data"
   ]
  },
  {
   "cell_type": "code",
   "execution_count": null,
   "metadata": {
    "collapsed": true
   },
   "outputs": [],
   "source": [
    "# Make an alias of the employees table: managers\n",
    "managers = employees.alias('managers')\n",
    "\n",
    "# Build a query to select managers and counts of their employees: stmt\n",
    "stmt = select([managers.columns.name, func.count(employees.columns.id)])\n",
    "\n",
    "# Append a where clause that ensures the manager id and employee mgr are equal\n",
    "stmt = stmt.where(managers.columns.id == employees.columns.mgr)\n",
    "\n",
    "# Group by Managers Name\n",
    "stmt = stmt.group_by(managers.columns.name)\n",
    "\n",
    "# Execute statement: results\n",
    "results = connection.execute(stmt).fetchall()\n",
    "\n",
    "# print manager\n",
    "for record in results:\n",
    "    print(record)"
   ]
  },
  {
   "cell_type": "markdown",
   "metadata": {},
   "source": [
    "#### Records by blocks"
   ]
  },
  {
   "cell_type": "code",
   "execution_count": null,
   "metadata": {
    "collapsed": true
   },
   "outputs": [],
   "source": [
    "# Start a while loop checking for more results\n",
    "while more_results:\n",
    "    # Fetch the first 50 results from the ResultProxy: partial_results\n",
    "    partial_results = results_proxy.fetchmany(50)\n",
    "\n",
    "    # if empty list, set more_results to False\n",
    "    if partial_results == []:\n",
    "        more_results = False\n",
    "\n",
    "    # Loop over the fetched records and increment the count for the state\n",
    "    for row in partial_results:\n",
    "        if row.state in state_count:\n",
    "            state_count[row.state] += 1\n",
    "        else:\n",
    "            state_count[row.state] = 1\n",
    "\n",
    "# Close the ResultProxy, and thus the connection\n",
    "results_proxy.close()\n",
    "\n",
    "# Print the count by state\n",
    "print(state_count)"
   ]
  },
  {
   "cell_type": "markdown",
   "metadata": {},
   "source": [
    "#### Create tables"
   ]
  },
  {
   "cell_type": "code",
   "execution_count": null,
   "metadata": {
    "collapsed": true
   },
   "outputs": [],
   "source": [
    "# Import Table, Column, String, Integer, Float, Boolean from sqlalchemy\n",
    "from sqlalchemy import Table, Column, String, Integer, Float, Boolean\n",
    "\n",
    "# Define a new table with a name, count, amount, and valid column: data\n",
    "data = Table('data', metadata,\n",
    "             Column('name', String(255)),\n",
    "             Column('count', Integer()),\n",
    "             Column('amount', Float()),\n",
    "             Column('valid', Boolean())\n",
    ")\n",
    "\n",
    "# Use the metadata to create the table\n",
    "metadata.create_all(engine)\n",
    "\n",
    "# Print table details\n",
    "print(repr(data))"
   ]
  },
  {
   "cell_type": "markdown",
   "metadata": {},
   "source": [
    "#### constraints, defaults"
   ]
  },
  {
   "cell_type": "code",
   "execution_count": null,
   "metadata": {
    "collapsed": true
   },
   "outputs": [],
   "source": [
    "# Import Table, Column, String, Integer, Float, Boolean from sqlalchemy\n",
    "from sqlalchemy import Table, Column, String, Integer, Float, Boolean\n",
    "\n",
    "# Define a new table with a name, count, amount, and valid column: data\n",
    "data = Table('data', metadata,\n",
    "             Column('name', String(255), unique=True),\n",
    "             Column('count', Integer(), default=1),\n",
    "             Column('amount', Float()),\n",
    "             Column('valid', Boolean(), default=False)\n",
    ")\n",
    "\n",
    "# Use the metadata to create the table\n",
    "metadata.create_all(engine)\n",
    "\n",
    "# Print the table details\n",
    "print(repr(metadata.tables['data']))"
   ]
  },
  {
   "cell_type": "markdown",
   "metadata": {},
   "source": [
    "#### insert row and many rows"
   ]
  },
  {
   "cell_type": "code",
   "execution_count": null,
   "metadata": {
    "collapsed": true
   },
   "outputs": [],
   "source": [
    "# Import insert and select from sqlalchemy\n",
    "from sqlalchemy import insert, select\n",
    "\n",
    "# Build an insert statement to insert a record into the data table: stmt\n",
    "stmt = insert(data).values(name=\"Anna\", count=1, amount=1000.00, valid=True)\n",
    "\n",
    "# Execute the statement via the connection: results\n",
    "results = connection.execute(stmt)\n",
    "\n",
    "# Print result rowcount\n",
    "print(results.rowcount)\n",
    "\n",
    "# Build a select statement to validate the insert\n",
    "stmt = select([data]).where(data.columns.name == 'Anna')\n",
    "\n",
    "# Print the result of executing the query.\n",
    "print(connection.execute(stmt).first())"
   ]
  },
  {
   "cell_type": "code",
   "execution_count": null,
   "metadata": {
    "collapsed": true
   },
   "outputs": [],
   "source": [
    "# Build a list of dictionaries: values_list\n",
    "values_list = [\n",
    "    {'name': 'Anna', 'count': 1, 'amount': 1000.00, 'valid': True},\n",
    "    {'name': 'Taylor', 'count': 1, 'amount': 750.00, 'valid': False}\n",
    "]\n",
    "\n",
    "# Build an insert statement for the data table: stmt\n",
    "stmt = insert(data)\n",
    "\n",
    "# Execute stmt with the values_list: results\n",
    "results = connection.execute(stmt, values_list)\n",
    "\n",
    "# Print rowcount\n",
    "print(results.rowcount)"
   ]
  },
  {
   "cell_type": "markdown",
   "metadata": {},
   "source": [
    "#### csv to table"
   ]
  },
  {
   "cell_type": "code",
   "execution_count": null,
   "metadata": {
    "collapsed": true
   },
   "outputs": [],
   "source": [
    "# Create a insert statement for census: stmt\n",
    "stmt = insert(census)\n",
    "\n",
    "# Create an empty list and zeroed row count: values_list, total_rowcount\n",
    "values_list = []\n",
    "total_rowcount = 0\n",
    "\n",
    "# Enumerate the rows of csv_reader\n",
    "for idx, row in enumerate(csv_reader):\n",
    "    #create data and append to values_list\n",
    "    data = {'state': row[0], 'sex': row[1], 'age': row[2], 'pop2000': row[3],\n",
    "            'pop2008': row[4]}\n",
    "    values_list.append(data)\n",
    "\n",
    "    # Check to see if divisible by 51\n",
    "    if idx % 51 == 0:\n",
    "        results = connection.execute(stmt, values_list)\n",
    "        total_rowcount += results.rowcount\n",
    "        values_list = []\n",
    "\n",
    "# Print total rowcount\n",
    "print(total_rowcount)"
   ]
  },
  {
   "cell_type": "markdown",
   "metadata": {},
   "source": [
    "#### Update"
   ]
  },
  {
   "cell_type": "code",
   "execution_count": null,
   "metadata": {
    "collapsed": true
   },
   "outputs": [],
   "source": [
    "# Build a select statement: select_stmt\n",
    "select_stmt = select([state_fact]).where(state_fact.columns.name == 'New York')\n",
    "\n",
    "# Print the results of executing the select_stmt\n",
    "print(connection.execute(select_stmt).fetchall())\n",
    "\n",
    "# Build a statement to update the fips_state to 36: stmt\n",
    "stmt = update(state_fact).values(fips_state=36)\n",
    "\n",
    "# Append a where clause to limit it to records for New York state\n",
    "stmt = stmt.where(state_fact.columns.name == 'New York')\n",
    "\n",
    "# Execute the statement: results\n",
    "results = connection.execute(stmt)\n",
    "\n",
    "# Print rowcount\n",
    "print(results.rowcount)\n",
    "\n",
    "# Execute the select_stmt again to view the changes\n",
    "print(connection.execute(select_stmt).fetchall())"
   ]
  },
  {
   "cell_type": "code",
   "execution_count": null,
   "metadata": {
    "collapsed": true
   },
   "outputs": [],
   "source": [
    "# Build a statement to update the notes to 'The Wild West': stmt\n",
    "stmt = update(state_fact).values(notes='The Wild West')\n",
    "\n",
    "# Append a where clause to match the West census region records\n",
    "stmt = stmt.where(state_fact.columns.census_region_name == 'West')\n",
    "\n",
    "# Execute the statement: results\n",
    "results = connection.execute(stmt)\n",
    "\n",
    "# Print rowcount\n",
    "print(results.rowcount)"
   ]
  },
  {
   "cell_type": "code",
   "execution_count": null,
   "metadata": {
    "collapsed": true
   },
   "outputs": [],
   "source": [
    "# Build a statement to select name from state_fact: stmt\n",
    "fips_stmt = select([state_fact.columns.name])\n",
    "\n",
    "# Append a where clause to Match the fips_state to flat_census fips_code\n",
    "fips_stmt = fips_stmt.where(\n",
    "    state_fact.columns.fips_state == flat_census.columns.fips_code)\n",
    "\n",
    "# Build an update statement to set the name to fips_stmt: update_stmt\n",
    "update_stmt = update(flat_census).values(state_name=fips_stmt)\n",
    "\n",
    "# Execute update_stmt: results\n",
    "results = connection.execute(update_stmt)\n",
    "\n",
    "# Print rowcount\n",
    "print(results.rowcount)"
   ]
  },
  {
   "cell_type": "markdown",
   "metadata": {},
   "source": [
    "#### Remove"
   ]
  },
  {
   "cell_type": "code",
   "execution_count": null,
   "metadata": {
    "collapsed": true
   },
   "outputs": [],
   "source": [
    "# Import delete, select\n",
    "from sqlalchemy import delete, select\n",
    "\n",
    "# Build a statement to empty the census table: stmt\n",
    "stmt = delete(census)\n",
    "\n",
    "# Execute the statement: results\n",
    "results = connection.execute(stmt)\n",
    "\n",
    "# Print affected rowcount\n",
    "print(results.rowcount)\n",
    "\n",
    "# Build a statement to select all records from the census table\n",
    "stmt = select([census])\n",
    "\n",
    "# Print the results of executing the statement to verify there are no rows\n",
    "print(connection.execute(stmt).fetchall())"
   ]
  },
  {
   "cell_type": "code",
   "execution_count": null,
   "metadata": {
    "collapsed": true
   },
   "outputs": [],
   "source": [
    "# Build a statement to count records using the sex column for Men (M) age 36: stmt\n",
    "stmt = select([func.count(census.columns.sex)]).where(\n",
    "    and_(census.columns.sex == 'M',\n",
    "         census.columns.age == 36)\n",
    ")\n",
    "\n",
    "# Execute the select statement and use the scalar() fetch method to save the record count\n",
    "to_delete = connection.execute(stmt).scalar()\n",
    "\n",
    "# Build a statement to delete records for Men (M) age 36: stmt\n",
    "stmt_del = delete(census)\n",
    "\n",
    "# Append a where clause to target man age 36\n",
    "stmt_del = stmt_del.where(\n",
    "    and_(census.columns.sex == 'M',\n",
    "         census.columns.age == 36)\n",
    ")\n",
    "\n",
    "# Execute the statement: results\n",
    "results = connection.execute(stmt_del)\n",
    "\n",
    "# Print affected rowcount and to_delete record count, make sure they match\n",
    "print(results.rowcount, to_delete)"
   ]
  },
  {
   "cell_type": "code",
   "execution_count": null,
   "metadata": {
    "collapsed": true
   },
   "outputs": [],
   "source": [
    "# Drop the state_fact tables\n",
    "state_fact.drop(engine)\n",
    "\n",
    "# Check to see if state_fact exists\n",
    "print(state_fact.exists(engine))\n",
    "\n",
    "# Drop all tables\n",
    "metadata.drop_all(engine)\n",
    "\n",
    "# Check to see if census exists\n",
    "print(census.exists(engine))"
   ]
  },
  {
   "cell_type": "code",
   "execution_count": null,
   "metadata": {
    "collapsed": true
   },
   "outputs": [],
   "source": []
  },
  {
   "cell_type": "code",
   "execution_count": null,
   "metadata": {
    "collapsed": true
   },
   "outputs": [],
   "source": []
  },
  {
   "cell_type": "code",
   "execution_count": null,
   "metadata": {
    "collapsed": true
   },
   "outputs": [],
   "source": []
  },
  {
   "cell_type": "code",
   "execution_count": null,
   "metadata": {
    "collapsed": true
   },
   "outputs": [],
   "source": []
  }
 ],
 "metadata": {
  "kernelspec": {
   "display_name": "Python 3",
   "language": "python",
   "name": "python3"
  },
  "language_info": {
   "codemirror_mode": {
    "name": "ipython",
    "version": 3
   },
   "file_extension": ".py",
   "mimetype": "text/x-python",
   "name": "python",
   "nbconvert_exporter": "python",
   "pygments_lexer": "ipython3",
   "version": "3.6.1"
  }
 },
 "nbformat": 4,
 "nbformat_minor": 2
}
