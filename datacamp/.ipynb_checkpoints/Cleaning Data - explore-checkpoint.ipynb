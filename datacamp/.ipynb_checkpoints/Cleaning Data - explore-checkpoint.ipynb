{
 "cells": [
  {
   "cell_type": "markdown",
   "metadata": {},
   "source": [
    "Для первоначального исследования:\n",
    "\n",
    "- df.head()\n",
    "- df.tail()\n",
    "- df.columns\n",
    "- df.shape\n",
    "- df.info()\n",
    "\n",
    "пропуски, пробелы, object"
   ]
  },
  {
   "cell_type": "code",
   "execution_count": 30,
   "metadata": {},
   "outputs": [
    {
     "name": "stderr",
     "output_type": "stream",
     "text": [
      "D:\\python\\Anaconda3\\lib\\site-packages\\IPython\\core\\interactiveshell.py:2717: DtypeWarning: Columns (16) have mixed types. Specify dtype option on import or set low_memory=False.\n",
      "  interactivity=interactivity, compiler=compiler, result=result)\n"
     ]
    }
   ],
   "source": [
    "# Import pandas\n",
    "import pandas as pd\n",
    "\n",
    "# Read the file into a DataFrame: df\n",
    "df = pd.read_csv('./data/dob_job_application_filings_subset.csv')"
   ]
  },
  {
   "cell_type": "code",
   "execution_count": 31,
   "metadata": {},
   "outputs": [],
   "source": [
    "df_subset = df.loc[: , ['Job #', 'Doc #', 'Borough', 'Initial Cost', 'Total Est. Fee',\n",
    "       'Existing Zoning Sqft', 'Proposed Zoning Sqft',\n",
    "       'Enlargement SQ Footage', 'Street Frontage', 'ExistingNo. of Stories',\n",
    "       'Proposed No. of Stories', 'Existing Height', 'Proposed Height']]"
   ]
  },
  {
   "cell_type": "code",
   "execution_count": 32,
   "metadata": {},
   "outputs": [
    {
     "name": "stdout",
     "output_type": "stream",
     "text": [
      "<class 'pandas.core.frame.DataFrame'>\n",
      "RangeIndex: 12846 entries, 0 to 12845\n",
      "Data columns (total 13 columns):\n",
      "Job #                      12846 non-null int64\n",
      "Doc #                      12846 non-null int64\n",
      "Borough                    12846 non-null object\n",
      "Initial Cost               12846 non-null object\n",
      "Total Est. Fee             12846 non-null object\n",
      "Existing Zoning Sqft       12846 non-null int64\n",
      "Proposed Zoning Sqft       12846 non-null int64\n",
      "Enlargement SQ Footage     12846 non-null int64\n",
      "Street Frontage            12846 non-null int64\n",
      "ExistingNo. of Stories     12846 non-null int64\n",
      "Proposed No. of Stories    12846 non-null int64\n",
      "Existing Height            12846 non-null int64\n",
      "Proposed Height            12846 non-null int64\n",
      "dtypes: int64(10), object(3)\n",
      "memory usage: 1.3+ MB\n"
     ]
    }
   ],
   "source": [
    "df_subset.info()"
   ]
  },
  {
   "cell_type": "code",
   "execution_count": 33,
   "metadata": {},
   "outputs": [
    {
     "data": {
      "text/html": [
       "<div>\n",
       "<style>\n",
       "    .dataframe thead tr:only-child th {\n",
       "        text-align: right;\n",
       "    }\n",
       "\n",
       "    .dataframe thead th {\n",
       "        text-align: left;\n",
       "    }\n",
       "\n",
       "    .dataframe tbody tr th {\n",
       "        vertical-align: top;\n",
       "    }\n",
       "</style>\n",
       "<table border=\"1\" class=\"dataframe\">\n",
       "  <thead>\n",
       "    <tr style=\"text-align: right;\">\n",
       "      <th></th>\n",
       "      <th>Job #</th>\n",
       "      <th>Doc #</th>\n",
       "      <th>Borough</th>\n",
       "      <th>Initial Cost</th>\n",
       "      <th>Total Est. Fee</th>\n",
       "      <th>Existing Zoning Sqft</th>\n",
       "      <th>Proposed Zoning Sqft</th>\n",
       "      <th>Enlargement SQ Footage</th>\n",
       "      <th>Street Frontage</th>\n",
       "      <th>ExistingNo. of Stories</th>\n",
       "      <th>Proposed No. of Stories</th>\n",
       "      <th>Existing Height</th>\n",
       "      <th>Proposed Height</th>\n",
       "    </tr>\n",
       "  </thead>\n",
       "  <tbody>\n",
       "    <tr>\n",
       "      <th>0</th>\n",
       "      <td>121577873</td>\n",
       "      <td>2</td>\n",
       "      <td>MANHATTAN</td>\n",
       "      <td>$75000.00</td>\n",
       "      <td>$986.00</td>\n",
       "      <td>0</td>\n",
       "      <td>0</td>\n",
       "      <td>0</td>\n",
       "      <td>0</td>\n",
       "      <td>0</td>\n",
       "      <td>0</td>\n",
       "      <td>0</td>\n",
       "      <td>0</td>\n",
       "    </tr>\n",
       "    <tr>\n",
       "      <th>1</th>\n",
       "      <td>520129502</td>\n",
       "      <td>1</td>\n",
       "      <td>STATEN ISLAND</td>\n",
       "      <td>$0.00</td>\n",
       "      <td>$1144.00</td>\n",
       "      <td>0</td>\n",
       "      <td>0</td>\n",
       "      <td>0</td>\n",
       "      <td>143</td>\n",
       "      <td>0</td>\n",
       "      <td>0</td>\n",
       "      <td>0</td>\n",
       "      <td>0</td>\n",
       "    </tr>\n",
       "    <tr>\n",
       "      <th>2</th>\n",
       "      <td>121601560</td>\n",
       "      <td>1</td>\n",
       "      <td>MANHATTAN</td>\n",
       "      <td>$30000.00</td>\n",
       "      <td>$522.50</td>\n",
       "      <td>0</td>\n",
       "      <td>0</td>\n",
       "      <td>0</td>\n",
       "      <td>0</td>\n",
       "      <td>5</td>\n",
       "      <td>5</td>\n",
       "      <td>54</td>\n",
       "      <td>54</td>\n",
       "    </tr>\n",
       "    <tr>\n",
       "      <th>3</th>\n",
       "      <td>121601203</td>\n",
       "      <td>1</td>\n",
       "      <td>MANHATTAN</td>\n",
       "      <td>$1500.00</td>\n",
       "      <td>$225.00</td>\n",
       "      <td>0</td>\n",
       "      <td>0</td>\n",
       "      <td>0</td>\n",
       "      <td>0</td>\n",
       "      <td>12</td>\n",
       "      <td>12</td>\n",
       "      <td>120</td>\n",
       "      <td>120</td>\n",
       "    </tr>\n",
       "    <tr>\n",
       "      <th>4</th>\n",
       "      <td>121601338</td>\n",
       "      <td>1</td>\n",
       "      <td>MANHATTAN</td>\n",
       "      <td>$19500.00</td>\n",
       "      <td>$389.50</td>\n",
       "      <td>0</td>\n",
       "      <td>0</td>\n",
       "      <td>0</td>\n",
       "      <td>0</td>\n",
       "      <td>6</td>\n",
       "      <td>6</td>\n",
       "      <td>64</td>\n",
       "      <td>64</td>\n",
       "    </tr>\n",
       "  </tbody>\n",
       "</table>\n",
       "</div>"
      ],
      "text/plain": [
       "       Job #  Doc #        Borough Initial Cost Total Est. Fee  \\\n",
       "0  121577873      2      MANHATTAN    $75000.00        $986.00   \n",
       "1  520129502      1  STATEN ISLAND        $0.00       $1144.00   \n",
       "2  121601560      1      MANHATTAN    $30000.00        $522.50   \n",
       "3  121601203      1      MANHATTAN     $1500.00        $225.00   \n",
       "4  121601338      1      MANHATTAN    $19500.00        $389.50   \n",
       "\n",
       "   Existing Zoning Sqft  Proposed Zoning Sqft  Enlargement SQ Footage  \\\n",
       "0                     0                     0                       0   \n",
       "1                     0                     0                       0   \n",
       "2                     0                     0                       0   \n",
       "3                     0                     0                       0   \n",
       "4                     0                     0                       0   \n",
       "\n",
       "   Street Frontage  ExistingNo. of Stories  Proposed No. of Stories  \\\n",
       "0                0                       0                        0   \n",
       "1              143                       0                        0   \n",
       "2                0                       5                        5   \n",
       "3                0                      12                       12   \n",
       "4                0                       6                        6   \n",
       "\n",
       "   Existing Height  Proposed Height  \n",
       "0                0                0  \n",
       "1                0                0  \n",
       "2               54               54  \n",
       "3              120              120  \n",
       "4               64               64  "
      ]
     },
     "execution_count": 33,
     "metadata": {},
     "output_type": "execute_result"
    }
   ],
   "source": [
    "df_subset.head()"
   ]
  },
  {
   "cell_type": "markdown",
   "metadata": {},
   "source": [
    "необходимо избавиться от $ и перевести в числовой формат"
   ]
  },
  {
   "cell_type": "code",
   "execution_count": 39,
   "metadata": {},
   "outputs": [
    {
     "data": {
      "text/plain": [
       "MANHATTAN        6310\n",
       "BROOKLYN         2866\n",
       "QUEENS           2121\n",
       "BRONX             974\n",
       "STATEN ISLAND     575\n",
       "Name: Borough, dtype: int64"
      ]
     },
     "execution_count": 39,
     "metadata": {},
     "output_type": "execute_result"
    }
   ],
   "source": [
    "# подсчет уникальных значений, можно применять head()\n",
    "\n",
    "df.Borough.value_counts(dropna=False).head()"
   ]
  },
  {
   "cell_type": "code",
   "execution_count": 41,
   "metadata": {},
   "outputs": [
    {
     "data": {
      "text/html": [
       "<div>\n",
       "<style>\n",
       "    .dataframe thead tr:only-child th {\n",
       "        text-align: right;\n",
       "    }\n",
       "\n",
       "    .dataframe thead th {\n",
       "        text-align: left;\n",
       "    }\n",
       "\n",
       "    .dataframe tbody tr th {\n",
       "        vertical-align: top;\n",
       "    }\n",
       "</style>\n",
       "<table border=\"1\" class=\"dataframe\">\n",
       "  <thead>\n",
       "    <tr style=\"text-align: right;\">\n",
       "      <th></th>\n",
       "      <th>Job #</th>\n",
       "      <th>Doc #</th>\n",
       "      <th>Existing Zoning Sqft</th>\n",
       "      <th>Proposed Zoning Sqft</th>\n",
       "      <th>Enlargement SQ Footage</th>\n",
       "      <th>Street Frontage</th>\n",
       "      <th>ExistingNo. of Stories</th>\n",
       "      <th>Proposed No. of Stories</th>\n",
       "      <th>Existing Height</th>\n",
       "      <th>Proposed Height</th>\n",
       "    </tr>\n",
       "  </thead>\n",
       "  <tbody>\n",
       "    <tr>\n",
       "      <th>count</th>\n",
       "      <td>1.284600e+04</td>\n",
       "      <td>12846.000000</td>\n",
       "      <td>1.284600e+04</td>\n",
       "      <td>1.284600e+04</td>\n",
       "      <td>12846.000000</td>\n",
       "      <td>12846.000000</td>\n",
       "      <td>12846.000000</td>\n",
       "      <td>12846.000000</td>\n",
       "      <td>12846.000000</td>\n",
       "      <td>12846.000000</td>\n",
       "    </tr>\n",
       "    <tr>\n",
       "      <th>mean</th>\n",
       "      <td>2.426788e+08</td>\n",
       "      <td>1.162930</td>\n",
       "      <td>1.439973e+03</td>\n",
       "      <td>2.007286e+03</td>\n",
       "      <td>46.101432</td>\n",
       "      <td>3.069360</td>\n",
       "      <td>8.062354</td>\n",
       "      <td>8.144325</td>\n",
       "      <td>94.022809</td>\n",
       "      <td>94.917562</td>\n",
       "    </tr>\n",
       "    <tr>\n",
       "      <th>std</th>\n",
       "      <td>1.312507e+08</td>\n",
       "      <td>0.514937</td>\n",
       "      <td>3.860757e+04</td>\n",
       "      <td>4.081570e+04</td>\n",
       "      <td>784.216569</td>\n",
       "      <td>37.246034</td>\n",
       "      <td>11.874080</td>\n",
       "      <td>11.843492</td>\n",
       "      <td>146.917360</td>\n",
       "      <td>146.580666</td>\n",
       "    </tr>\n",
       "    <tr>\n",
       "      <th>min</th>\n",
       "      <td>1.036438e+08</td>\n",
       "      <td>1.000000</td>\n",
       "      <td>0.000000e+00</td>\n",
       "      <td>0.000000e+00</td>\n",
       "      <td>0.000000</td>\n",
       "      <td>0.000000</td>\n",
       "      <td>0.000000</td>\n",
       "      <td>0.000000</td>\n",
       "      <td>0.000000</td>\n",
       "      <td>0.000000</td>\n",
       "    </tr>\n",
       "    <tr>\n",
       "      <th>25%</th>\n",
       "      <td>1.216206e+08</td>\n",
       "      <td>1.000000</td>\n",
       "      <td>0.000000e+00</td>\n",
       "      <td>0.000000e+00</td>\n",
       "      <td>0.000000</td>\n",
       "      <td>0.000000</td>\n",
       "      <td>1.000000</td>\n",
       "      <td>2.000000</td>\n",
       "      <td>20.000000</td>\n",
       "      <td>21.000000</td>\n",
       "    </tr>\n",
       "    <tr>\n",
       "      <th>50%</th>\n",
       "      <td>2.202645e+08</td>\n",
       "      <td>1.000000</td>\n",
       "      <td>0.000000e+00</td>\n",
       "      <td>0.000000e+00</td>\n",
       "      <td>0.000000</td>\n",
       "      <td>0.000000</td>\n",
       "      <td>4.000000</td>\n",
       "      <td>4.000000</td>\n",
       "      <td>45.000000</td>\n",
       "      <td>45.000000</td>\n",
       "    </tr>\n",
       "    <tr>\n",
       "      <th>75%</th>\n",
       "      <td>3.208652e+08</td>\n",
       "      <td>1.000000</td>\n",
       "      <td>0.000000e+00</td>\n",
       "      <td>0.000000e+00</td>\n",
       "      <td>0.000000</td>\n",
       "      <td>0.000000</td>\n",
       "      <td>9.000000</td>\n",
       "      <td>9.000000</td>\n",
       "      <td>105.000000</td>\n",
       "      <td>107.000000</td>\n",
       "    </tr>\n",
       "    <tr>\n",
       "      <th>max</th>\n",
       "      <td>5.400246e+08</td>\n",
       "      <td>9.000000</td>\n",
       "      <td>2.873107e+06</td>\n",
       "      <td>2.873107e+06</td>\n",
       "      <td>50384.000000</td>\n",
       "      <td>3160.000000</td>\n",
       "      <td>102.000000</td>\n",
       "      <td>102.000000</td>\n",
       "      <td>4200.000000</td>\n",
       "      <td>4200.000000</td>\n",
       "    </tr>\n",
       "  </tbody>\n",
       "</table>\n",
       "</div>"
      ],
      "text/plain": [
       "              Job #         Doc #  Existing Zoning Sqft  Proposed Zoning Sqft  \\\n",
       "count  1.284600e+04  12846.000000          1.284600e+04          1.284600e+04   \n",
       "mean   2.426788e+08      1.162930          1.439973e+03          2.007286e+03   \n",
       "std    1.312507e+08      0.514937          3.860757e+04          4.081570e+04   \n",
       "min    1.036438e+08      1.000000          0.000000e+00          0.000000e+00   \n",
       "25%    1.216206e+08      1.000000          0.000000e+00          0.000000e+00   \n",
       "50%    2.202645e+08      1.000000          0.000000e+00          0.000000e+00   \n",
       "75%    3.208652e+08      1.000000          0.000000e+00          0.000000e+00   \n",
       "max    5.400246e+08      9.000000          2.873107e+06          2.873107e+06   \n",
       "\n",
       "       Enlargement SQ Footage  Street Frontage  ExistingNo. of Stories  \\\n",
       "count            12846.000000     12846.000000            12846.000000   \n",
       "mean                46.101432         3.069360                8.062354   \n",
       "std                784.216569        37.246034               11.874080   \n",
       "min                  0.000000         0.000000                0.000000   \n",
       "25%                  0.000000         0.000000                1.000000   \n",
       "50%                  0.000000         0.000000                4.000000   \n",
       "75%                  0.000000         0.000000                9.000000   \n",
       "max              50384.000000      3160.000000              102.000000   \n",
       "\n",
       "       Proposed No. of Stories  Existing Height  Proposed Height  \n",
       "count             12846.000000     12846.000000     12846.000000  \n",
       "mean                  8.144325        94.022809        94.917562  \n",
       "std                  11.843492       146.917360       146.580666  \n",
       "min                   0.000000         0.000000         0.000000  \n",
       "25%                   2.000000        20.000000        21.000000  \n",
       "50%                   4.000000        45.000000        45.000000  \n",
       "75%                   9.000000       105.000000       107.000000  \n",
       "max                 102.000000      4200.000000      4200.000000  "
      ]
     },
     "execution_count": 41,
     "metadata": {},
     "output_type": "execute_result"
    }
   ],
   "source": [
    "df_subset.describe()"
   ]
  },
  {
   "cell_type": "code",
   "execution_count": 42,
   "metadata": {},
   "outputs": [
    {
     "name": "stdout",
     "output_type": "stream",
     "text": [
      "MANHATTAN        6310\n",
      "BROOKLYN         2866\n",
      "QUEENS           2121\n",
      "BRONX             974\n",
      "STATEN ISLAND     575\n",
      "Name: Borough, dtype: int64\n"
     ]
    }
   ],
   "source": [
    "print(df_subset['Borough'].value_counts(dropna=False))"
   ]
  },
  {
   "cell_type": "code",
   "execution_count": 43,
   "metadata": {},
   "outputs": [
    {
     "name": "stdout",
     "output_type": "stream",
     "text": [
      "NY    12391\n",
      "NJ      241\n",
      "PA       38\n",
      "CA       20\n",
      "OH       19\n",
      "FL       17\n",
      "IL       17\n",
      "CT       16\n",
      "TX       13\n",
      "TN       10\n",
      "MD        7\n",
      "DC        7\n",
      "MA        6\n",
      "KS        6\n",
      "GA        6\n",
      "VA        5\n",
      "CO        4\n",
      "WI        3\n",
      "AZ        3\n",
      "SC        3\n",
      "MN        3\n",
      "NC        2\n",
      "RI        2\n",
      "UT        2\n",
      "WA        1\n",
      "IN        1\n",
      "MI        1\n",
      "VT        1\n",
      "NM        1\n",
      "Name: State, dtype: int64\n"
     ]
    }
   ],
   "source": [
    "print(df['State'].value_counts(dropna=False))"
   ]
  },
  {
   "cell_type": "code",
   "execution_count": 44,
   "metadata": {},
   "outputs": [
    {
     "name": "stdout",
     "output_type": "stream",
     "text": [
      "NOT APPLICABLE                              7806\n",
      "NaN                                         4205\n",
      "ON-SITE                                      519\n",
      "OFF-SITE                                     186\n",
      "USE UNDER 300 CU.YD                          130\n",
      "Name: Site Fill, dtype: int64\n"
     ]
    }
   ],
   "source": [
    "print(df['Site Fill'].value_counts(dropna=False))"
   ]
  },
  {
   "cell_type": "markdown",
   "metadata": {},
   "source": [
    "NaN необходимо убрать"
   ]
  },
  {
   "cell_type": "code",
   "execution_count": 47,
   "metadata": {},
   "outputs": [
    {
     "data": {
      "image/png": "[encoded data removed]",
      "text/plain": [
       "<matplotlib.figure.Figure at 0x132e2160>"
      ]
     },
     "metadata": {},
     "output_type": "display_data"
    }
   ],
   "source": [
    "%matplotlib inline\n",
    "\n",
    "# Import matplotlib.pyplot\n",
    "import matplotlib.pyplot as plt\n",
    "\n",
    "# Plot the histogram\n",
    "df['Existing Zoning Sqft'].plot(kind='hist', rot=70, logx=True, logy=True)\n",
    "\n",
    "# Display the histogram\n",
    "plt.show()"
   ]
  },
  {
   "cell_type": "code",
   "execution_count": 49,
   "metadata": {},
   "outputs": [
    {
     "data": {
      "image/png": "[encoded data removed]",
      "text/plain": [
       "<matplotlib.figure.Figure at 0x1314de48>"
      ]
     },
     "metadata": {},
     "output_type": "display_data"
    }
   ],
   "source": [
    "# Create the boxplot\n",
    "df.boxplot(column='Existing Zoning Sqft', by='Borough', rot=90)\n",
    "\n",
    "# Display the plot\n",
    "plt.show()"
   ]
  },
  {
   "cell_type": "code",
   "execution_count": null,
   "metadata": {},
   "outputs": [],
   "source": [
    "# Create and display the first scatter plot\n",
    "df.plot(kind='scatter', x='initial_cost', y='total_est_fee', rot=70)\n",
    "plt.show()\n",
    "\n",
    "# Create and display the second scatter plot\n",
    "df_subset.plot(kind='scatter', x='initial_cost', y='total_est_fee', rot=70)\n",
    "plt.show()"
   ]
  },
  {
   "cell_type": "code",
   "execution_count": null,
   "metadata": {
    "collapsed": true
   },
   "outputs": [],
   "source": []
  },
  {
   "cell_type": "code",
   "execution_count": null,
   "metadata": {
    "collapsed": true
   },
   "outputs": [],
   "source": []
  },
  {
   "cell_type": "code",
   "execution_count": null,
   "metadata": {
    "collapsed": true
   },
   "outputs": [],
   "source": []
  },
  {
   "cell_type": "code",
   "execution_count": null,
   "metadata": {
    "collapsed": true
   },
   "outputs": [],
   "source": []
  },
  {
   "cell_type": "code",
   "execution_count": null,
   "metadata": {
    "collapsed": true
   },
   "outputs": [],
   "source": []
  },
  {
   "cell_type": "code",
   "execution_count": null,
   "metadata": {
    "collapsed": true
   },
   "outputs": [],
   "source": []
  },
  {
   "cell_type": "code",
   "execution_count": null,
   "metadata": {
    "collapsed": true
   },
   "outputs": [],
   "source": []
  }
 ],
 "metadata": {
  "kernelspec": {
   "display_name": "Python 3",
   "language": "python",
   "name": "python3"
  },
  "language_info": {
   "codemirror_mode": {
    "name": "ipython",
    "version": 3
   },
   "file_extension": ".py",
   "mimetype": "text/x-python",
   "name": "python",
   "nbconvert_exporter": "python",
   "pygments_lexer": "ipython3",
   "version": "3.6.1"
  }
 },
 "nbformat": 4,
 "nbformat_minor": 2
}
