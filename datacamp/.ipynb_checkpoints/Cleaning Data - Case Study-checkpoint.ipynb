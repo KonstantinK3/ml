{
 "cells": [
  {
   "cell_type": "code",
   "execution_count": 10,
   "metadata": {
    "collapsed": false
   },
   "outputs": [
    {
     "data": {
      "text/html": [
       "<div>\n",
       "<table border=\"1\" class=\"dataframe\">\n",
       "  <thead>\n",
       "    <tr style=\"text-align: right;\">\n",
       "      <th></th>\n",
       "      <th>Unnamed: 0</th>\n",
       "      <th>1800</th>\n",
       "      <th>1801</th>\n",
       "      <th>1802</th>\n",
       "      <th>1803</th>\n",
       "      <th>1804</th>\n",
       "      <th>1805</th>\n",
       "      <th>1806</th>\n",
       "      <th>1807</th>\n",
       "      <th>1808</th>\n",
       "      <th>...</th>\n",
       "      <th>2008</th>\n",
       "      <th>2009</th>\n",
       "      <th>2010</th>\n",
       "      <th>2011</th>\n",
       "      <th>2012</th>\n",
       "      <th>2013</th>\n",
       "      <th>2014</th>\n",
       "      <th>2015</th>\n",
       "      <th>2016</th>\n",
       "      <th>Life expectancy</th>\n",
       "    </tr>\n",
       "  </thead>\n",
       "  <tbody>\n",
       "    <tr>\n",
       "      <th>0</th>\n",
       "      <td>0</td>\n",
       "      <td>NaN</td>\n",
       "      <td>NaN</td>\n",
       "      <td>NaN</td>\n",
       "      <td>NaN</td>\n",
       "      <td>NaN</td>\n",
       "      <td>NaN</td>\n",
       "      <td>NaN</td>\n",
       "      <td>NaN</td>\n",
       "      <td>NaN</td>\n",
       "      <td>...</td>\n",
       "      <td>NaN</td>\n",
       "      <td>NaN</td>\n",
       "      <td>NaN</td>\n",
       "      <td>NaN</td>\n",
       "      <td>NaN</td>\n",
       "      <td>NaN</td>\n",
       "      <td>NaN</td>\n",
       "      <td>NaN</td>\n",
       "      <td>NaN</td>\n",
       "      <td>Abkhazia</td>\n",
       "    </tr>\n",
       "    <tr>\n",
       "      <th>1</th>\n",
       "      <td>1</td>\n",
       "      <td>28.21</td>\n",
       "      <td>28.20</td>\n",
       "      <td>28.19</td>\n",
       "      <td>28.18</td>\n",
       "      <td>28.17</td>\n",
       "      <td>28.16</td>\n",
       "      <td>28.15</td>\n",
       "      <td>28.14</td>\n",
       "      <td>28.13</td>\n",
       "      <td>...</td>\n",
       "      <td>NaN</td>\n",
       "      <td>NaN</td>\n",
       "      <td>NaN</td>\n",
       "      <td>NaN</td>\n",
       "      <td>NaN</td>\n",
       "      <td>NaN</td>\n",
       "      <td>NaN</td>\n",
       "      <td>NaN</td>\n",
       "      <td>NaN</td>\n",
       "      <td>Afghanistan</td>\n",
       "    </tr>\n",
       "    <tr>\n",
       "      <th>2</th>\n",
       "      <td>2</td>\n",
       "      <td>NaN</td>\n",
       "      <td>NaN</td>\n",
       "      <td>NaN</td>\n",
       "      <td>NaN</td>\n",
       "      <td>NaN</td>\n",
       "      <td>NaN</td>\n",
       "      <td>NaN</td>\n",
       "      <td>NaN</td>\n",
       "      <td>NaN</td>\n",
       "      <td>...</td>\n",
       "      <td>NaN</td>\n",
       "      <td>NaN</td>\n",
       "      <td>NaN</td>\n",
       "      <td>NaN</td>\n",
       "      <td>NaN</td>\n",
       "      <td>NaN</td>\n",
       "      <td>NaN</td>\n",
       "      <td>NaN</td>\n",
       "      <td>NaN</td>\n",
       "      <td>Akrotiri and Dhekelia</td>\n",
       "    </tr>\n",
       "    <tr>\n",
       "      <th>3</th>\n",
       "      <td>3</td>\n",
       "      <td>35.40</td>\n",
       "      <td>35.40</td>\n",
       "      <td>35.40</td>\n",
       "      <td>35.40</td>\n",
       "      <td>35.40</td>\n",
       "      <td>35.40</td>\n",
       "      <td>35.40</td>\n",
       "      <td>35.40</td>\n",
       "      <td>35.40</td>\n",
       "      <td>...</td>\n",
       "      <td>NaN</td>\n",
       "      <td>NaN</td>\n",
       "      <td>NaN</td>\n",
       "      <td>NaN</td>\n",
       "      <td>NaN</td>\n",
       "      <td>NaN</td>\n",
       "      <td>NaN</td>\n",
       "      <td>NaN</td>\n",
       "      <td>NaN</td>\n",
       "      <td>Albania</td>\n",
       "    </tr>\n",
       "    <tr>\n",
       "      <th>4</th>\n",
       "      <td>4</td>\n",
       "      <td>28.82</td>\n",
       "      <td>28.82</td>\n",
       "      <td>28.82</td>\n",
       "      <td>28.82</td>\n",
       "      <td>28.82</td>\n",
       "      <td>28.82</td>\n",
       "      <td>28.82</td>\n",
       "      <td>28.82</td>\n",
       "      <td>28.82</td>\n",
       "      <td>...</td>\n",
       "      <td>NaN</td>\n",
       "      <td>NaN</td>\n",
       "      <td>NaN</td>\n",
       "      <td>NaN</td>\n",
       "      <td>NaN</td>\n",
       "      <td>NaN</td>\n",
       "      <td>NaN</td>\n",
       "      <td>NaN</td>\n",
       "      <td>NaN</td>\n",
       "      <td>Algeria</td>\n",
       "    </tr>\n",
       "  </tbody>\n",
       "</table>\n",
       "<p>5 rows × 219 columns</p>\n",
       "</div>"
      ],
      "text/plain": [
       "   Unnamed: 0   1800   1801   1802   1803   1804   1805   1806   1807   1808  \\\n",
       "0           0    NaN    NaN    NaN    NaN    NaN    NaN    NaN    NaN    NaN   \n",
       "1           1  28.21  28.20  28.19  28.18  28.17  28.16  28.15  28.14  28.13   \n",
       "2           2    NaN    NaN    NaN    NaN    NaN    NaN    NaN    NaN    NaN   \n",
       "3           3  35.40  35.40  35.40  35.40  35.40  35.40  35.40  35.40  35.40   \n",
       "4           4  28.82  28.82  28.82  28.82  28.82  28.82  28.82  28.82  28.82   \n",
       "\n",
       "           ...            2008  2009  2010  2011  2012  2013  2014  2015  \\\n",
       "0          ...             NaN   NaN   NaN   NaN   NaN   NaN   NaN   NaN   \n",
       "1          ...             NaN   NaN   NaN   NaN   NaN   NaN   NaN   NaN   \n",
       "2          ...             NaN   NaN   NaN   NaN   NaN   NaN   NaN   NaN   \n",
       "3          ...             NaN   NaN   NaN   NaN   NaN   NaN   NaN   NaN   \n",
       "4          ...             NaN   NaN   NaN   NaN   NaN   NaN   NaN   NaN   \n",
       "\n",
       "   2016        Life expectancy  \n",
       "0   NaN               Abkhazia  \n",
       "1   NaN            Afghanistan  \n",
       "2   NaN  Akrotiri and Dhekelia  \n",
       "3   NaN                Albania  \n",
       "4   NaN                Algeria  \n",
       "\n",
       "[5 rows x 219 columns]"
      ]
     },
     "execution_count": 10,
     "metadata": {},
     "output_type": "execute_result"
    }
   ],
   "source": [
    "import pandas as pd\n",
    "%matplotlib inline\n",
    "df = pd.read_csv(\"./data/gapminder.csv\")\n",
    "df.head()"
   ]
  },
  {
   "cell_type": "code",
   "execution_count": 2,
   "metadata": {
    "collapsed": false
   },
   "outputs": [
    {
     "name": "stdout",
     "output_type": "stream",
     "text": [
      "<class 'pandas.core.frame.DataFrame'>\n",
      "RangeIndex: 780 entries, 0 to 779\n",
      "Columns: 219 entries, Unnamed: 0 to Life expectancy\n",
      "dtypes: float64(217), int64(1), object(1)\n",
      "memory usage: 1.3+ MB\n"
     ]
    }
   ],
   "source": [
    "df.info()"
   ]
  },
  {
   "cell_type": "code",
   "execution_count": 3,
   "metadata": {
    "collapsed": false
   },
   "outputs": [
    {
     "data": {
      "text/plain": [
       "Index(['Unnamed: 0', '1800', '1801', '1802', '1803', '1804', '1805', '1806',\n",
       "       '1807', '1808',\n",
       "       ...\n",
       "       '2008', '2009', '2010', '2011', '2012', '2013', '2014', '2015', '2016',\n",
       "       'Life expectancy'],\n",
       "      dtype='object', length=219)"
      ]
     },
     "execution_count": 3,
     "metadata": {},
     "output_type": "execute_result"
    }
   ],
   "source": [
    "df.columns"
   ]
  },
  {
   "cell_type": "code",
   "execution_count": 4,
   "metadata": {
    "collapsed": false
   },
   "outputs": [
    {
     "data": {
      "text/html": [
       "<div>\n",
       "<table border=\"1\" class=\"dataframe\">\n",
       "  <thead>\n",
       "    <tr style=\"text-align: right;\">\n",
       "      <th></th>\n",
       "      <th>Unnamed: 0</th>\n",
       "      <th>1800</th>\n",
       "      <th>1801</th>\n",
       "      <th>1802</th>\n",
       "      <th>1803</th>\n",
       "      <th>1804</th>\n",
       "      <th>1805</th>\n",
       "      <th>1806</th>\n",
       "      <th>1807</th>\n",
       "      <th>1808</th>\n",
       "      <th>...</th>\n",
       "      <th>2007</th>\n",
       "      <th>2008</th>\n",
       "      <th>2009</th>\n",
       "      <th>2010</th>\n",
       "      <th>2011</th>\n",
       "      <th>2012</th>\n",
       "      <th>2013</th>\n",
       "      <th>2014</th>\n",
       "      <th>2015</th>\n",
       "      <th>2016</th>\n",
       "    </tr>\n",
       "  </thead>\n",
       "  <tbody>\n",
       "    <tr>\n",
       "      <th>count</th>\n",
       "      <td>780.000000</td>\n",
       "      <td>201.000000</td>\n",
       "      <td>201.000000</td>\n",
       "      <td>201.000000</td>\n",
       "      <td>201.000000</td>\n",
       "      <td>201.000000</td>\n",
       "      <td>201.000000</td>\n",
       "      <td>201.000000</td>\n",
       "      <td>201.000000</td>\n",
       "      <td>201.000000</td>\n",
       "      <td>...</td>\n",
       "      <td>208.000000</td>\n",
       "      <td>208.000000</td>\n",
       "      <td>208.000000</td>\n",
       "      <td>208.000000</td>\n",
       "      <td>208.000000</td>\n",
       "      <td>208.000000</td>\n",
       "      <td>208.000000</td>\n",
       "      <td>208.000000</td>\n",
       "      <td>208.00000</td>\n",
       "      <td>208.000000</td>\n",
       "    </tr>\n",
       "    <tr>\n",
       "      <th>mean</th>\n",
       "      <td>129.500000</td>\n",
       "      <td>31.486020</td>\n",
       "      <td>31.448905</td>\n",
       "      <td>31.463483</td>\n",
       "      <td>31.377413</td>\n",
       "      <td>31.446318</td>\n",
       "      <td>31.562537</td>\n",
       "      <td>31.615970</td>\n",
       "      <td>31.573134</td>\n",
       "      <td>31.376766</td>\n",
       "      <td>...</td>\n",
       "      <td>70.139712</td>\n",
       "      <td>70.447163</td>\n",
       "      <td>70.767740</td>\n",
       "      <td>70.969904</td>\n",
       "      <td>71.324375</td>\n",
       "      <td>71.663077</td>\n",
       "      <td>71.916106</td>\n",
       "      <td>72.088125</td>\n",
       "      <td>72.32101</td>\n",
       "      <td>72.556635</td>\n",
       "    </tr>\n",
       "    <tr>\n",
       "      <th>std</th>\n",
       "      <td>75.103138</td>\n",
       "      <td>3.763585</td>\n",
       "      <td>3.755739</td>\n",
       "      <td>3.878204</td>\n",
       "      <td>3.901966</td>\n",
       "      <td>3.877156</td>\n",
       "      <td>3.947957</td>\n",
       "      <td>4.039261</td>\n",
       "      <td>3.917339</td>\n",
       "      <td>4.017228</td>\n",
       "      <td>...</td>\n",
       "      <td>8.953255</td>\n",
       "      <td>8.800452</td>\n",
       "      <td>8.610341</td>\n",
       "      <td>8.898859</td>\n",
       "      <td>8.376540</td>\n",
       "      <td>8.217466</td>\n",
       "      <td>8.120852</td>\n",
       "      <td>8.074990</td>\n",
       "      <td>7.90202</td>\n",
       "      <td>7.738535</td>\n",
       "    </tr>\n",
       "    <tr>\n",
       "      <th>min</th>\n",
       "      <td>0.000000</td>\n",
       "      <td>23.390000</td>\n",
       "      <td>23.390000</td>\n",
       "      <td>23.390000</td>\n",
       "      <td>19.600000</td>\n",
       "      <td>23.390000</td>\n",
       "      <td>23.390000</td>\n",
       "      <td>23.390000</td>\n",
       "      <td>23.390000</td>\n",
       "      <td>12.480000</td>\n",
       "      <td>...</td>\n",
       "      <td>43.300000</td>\n",
       "      <td>44.500000</td>\n",
       "      <td>45.500000</td>\n",
       "      <td>32.200000</td>\n",
       "      <td>46.700000</td>\n",
       "      <td>46.100000</td>\n",
       "      <td>45.600000</td>\n",
       "      <td>45.400000</td>\n",
       "      <td>47.10000</td>\n",
       "      <td>48.860000</td>\n",
       "    </tr>\n",
       "    <tr>\n",
       "      <th>25%</th>\n",
       "      <td>64.750000</td>\n",
       "      <td>29.000000</td>\n",
       "      <td>28.950000</td>\n",
       "      <td>28.900000</td>\n",
       "      <td>28.900000</td>\n",
       "      <td>28.950000</td>\n",
       "      <td>29.000000</td>\n",
       "      <td>29.000000</td>\n",
       "      <td>29.000000</td>\n",
       "      <td>28.950000</td>\n",
       "      <td>...</td>\n",
       "      <td>64.825000</td>\n",
       "      <td>64.875000</td>\n",
       "      <td>65.225000</td>\n",
       "      <td>65.475000</td>\n",
       "      <td>65.600000</td>\n",
       "      <td>66.075000</td>\n",
       "      <td>66.475000</td>\n",
       "      <td>66.775000</td>\n",
       "      <td>67.05000</td>\n",
       "      <td>67.175000</td>\n",
       "    </tr>\n",
       "    <tr>\n",
       "      <th>50%</th>\n",
       "      <td>129.500000</td>\n",
       "      <td>31.800000</td>\n",
       "      <td>31.700000</td>\n",
       "      <td>31.600000</td>\n",
       "      <td>31.500000</td>\n",
       "      <td>31.600000</td>\n",
       "      <td>31.700000</td>\n",
       "      <td>31.800000</td>\n",
       "      <td>31.800000</td>\n",
       "      <td>31.600000</td>\n",
       "      <td>...</td>\n",
       "      <td>72.750000</td>\n",
       "      <td>73.000000</td>\n",
       "      <td>73.350000</td>\n",
       "      <td>73.700000</td>\n",
       "      <td>73.750000</td>\n",
       "      <td>74.050000</td>\n",
       "      <td>74.150000</td>\n",
       "      <td>74.300000</td>\n",
       "      <td>74.40000</td>\n",
       "      <td>74.500000</td>\n",
       "    </tr>\n",
       "    <tr>\n",
       "      <th>75%</th>\n",
       "      <td>194.250000</td>\n",
       "      <td>33.900000</td>\n",
       "      <td>33.900000</td>\n",
       "      <td>33.900000</td>\n",
       "      <td>33.800000</td>\n",
       "      <td>33.870000</td>\n",
       "      <td>33.900000</td>\n",
       "      <td>34.000000</td>\n",
       "      <td>34.000000</td>\n",
       "      <td>33.870000</td>\n",
       "      <td>...</td>\n",
       "      <td>76.925000</td>\n",
       "      <td>77.150000</td>\n",
       "      <td>77.425000</td>\n",
       "      <td>77.650000</td>\n",
       "      <td>77.825000</td>\n",
       "      <td>78.125000</td>\n",
       "      <td>78.300000</td>\n",
       "      <td>78.400000</td>\n",
       "      <td>78.50000</td>\n",
       "      <td>78.650000</td>\n",
       "    </tr>\n",
       "    <tr>\n",
       "      <th>max</th>\n",
       "      <td>259.000000</td>\n",
       "      <td>42.850000</td>\n",
       "      <td>40.300000</td>\n",
       "      <td>44.370000</td>\n",
       "      <td>44.840000</td>\n",
       "      <td>42.830000</td>\n",
       "      <td>44.270000</td>\n",
       "      <td>45.820000</td>\n",
       "      <td>43.560000</td>\n",
       "      <td>43.550000</td>\n",
       "      <td>...</td>\n",
       "      <td>84.500000</td>\n",
       "      <td>84.600000</td>\n",
       "      <td>84.600000</td>\n",
       "      <td>84.700000</td>\n",
       "      <td>84.700000</td>\n",
       "      <td>84.700000</td>\n",
       "      <td>84.800000</td>\n",
       "      <td>84.800000</td>\n",
       "      <td>84.80000</td>\n",
       "      <td>84.800000</td>\n",
       "    </tr>\n",
       "  </tbody>\n",
       "</table>\n",
       "<p>8 rows × 218 columns</p>\n",
       "</div>"
      ],
      "text/plain": [
       "       Unnamed: 0        1800        1801        1802        1803        1804  \\\n",
       "count  780.000000  201.000000  201.000000  201.000000  201.000000  201.000000   \n",
       "mean   129.500000   31.486020   31.448905   31.463483   31.377413   31.446318   \n",
       "std     75.103138    3.763585    3.755739    3.878204    3.901966    3.877156   \n",
       "min      0.000000   23.390000   23.390000   23.390000   19.600000   23.390000   \n",
       "25%     64.750000   29.000000   28.950000   28.900000   28.900000   28.950000   \n",
       "50%    129.500000   31.800000   31.700000   31.600000   31.500000   31.600000   \n",
       "75%    194.250000   33.900000   33.900000   33.900000   33.800000   33.870000   \n",
       "max    259.000000   42.850000   40.300000   44.370000   44.840000   42.830000   \n",
       "\n",
       "             1805        1806        1807        1808     ...            2007  \\\n",
       "count  201.000000  201.000000  201.000000  201.000000     ...      208.000000   \n",
       "mean    31.562537   31.615970   31.573134   31.376766     ...       70.139712   \n",
       "std      3.947957    4.039261    3.917339    4.017228     ...        8.953255   \n",
       "min     23.390000   23.390000   23.390000   12.480000     ...       43.300000   \n",
       "25%     29.000000   29.000000   29.000000   28.950000     ...       64.825000   \n",
       "50%     31.700000   31.800000   31.800000   31.600000     ...       72.750000   \n",
       "75%     33.900000   34.000000   34.000000   33.870000     ...       76.925000   \n",
       "max     44.270000   45.820000   43.560000   43.550000     ...       84.500000   \n",
       "\n",
       "             2008        2009        2010        2011        2012        2013  \\\n",
       "count  208.000000  208.000000  208.000000  208.000000  208.000000  208.000000   \n",
       "mean    70.447163   70.767740   70.969904   71.324375   71.663077   71.916106   \n",
       "std      8.800452    8.610341    8.898859    8.376540    8.217466    8.120852   \n",
       "min     44.500000   45.500000   32.200000   46.700000   46.100000   45.600000   \n",
       "25%     64.875000   65.225000   65.475000   65.600000   66.075000   66.475000   \n",
       "50%     73.000000   73.350000   73.700000   73.750000   74.050000   74.150000   \n",
       "75%     77.150000   77.425000   77.650000   77.825000   78.125000   78.300000   \n",
       "max     84.600000   84.600000   84.700000   84.700000   84.700000   84.800000   \n",
       "\n",
       "             2014       2015        2016  \n",
       "count  208.000000  208.00000  208.000000  \n",
       "mean    72.088125   72.32101   72.556635  \n",
       "std      8.074990    7.90202    7.738535  \n",
       "min     45.400000   47.10000   48.860000  \n",
       "25%     66.775000   67.05000   67.175000  \n",
       "50%     74.300000   74.40000   74.500000  \n",
       "75%     78.400000   78.50000   78.650000  \n",
       "max     84.800000   84.80000   84.800000  \n",
       "\n",
       "[8 rows x 218 columns]"
      ]
     },
     "execution_count": 4,
     "metadata": {},
     "output_type": "execute_result"
    }
   ],
   "source": [
    "df.describe()"
   ]
  },
  {
   "cell_type": "code",
   "execution_count": 8,
   "metadata": {
    "collapsed": false
   },
   "outputs": [],
   "source": [
    "# df['1800'].value_counts()"
   ]
  },
  {
   "cell_type": "code",
   "execution_count": 11,
   "metadata": {
    "collapsed": false
   },
   "outputs": [
    {
     "data": {
      "text/plain": [
       "<matplotlib.axes._subplots.AxesSubplot at 0x1ced29e01d0>"
      ]
     },
     "execution_count": 11,
     "metadata": {},
     "output_type": "execute_result"
    },
    {
     "data": {
      "image/png": "[encoded data removed]",
      "text/plain": [
       "<matplotlib.figure.Figure at 0x1ced29e0128>"
      ]
     },
     "metadata": {},
     "output_type": "display_data"
    }
   ],
   "source": [
    "df['1800'].plot('hist')"
   ]
  },
  {
   "cell_type": "code",
   "execution_count": 12,
   "metadata": {
    "collapsed": false
   },
   "outputs": [
    {
     "data": {
      "image/png": "[encoded data removed]",
      "text/plain": [
       "<matplotlib.figure.Figure at 0x1ced2ae1828>"
      ]
     },
     "metadata": {},
     "output_type": "display_data"
    }
   ],
   "source": [
    "# Import matplotlib.pyplot\n",
    "import matplotlib.pyplot as plt\n",
    "g1800s = pd.read_csv(\"./data/gapminder.csv\")\n",
    "\n",
    "# Create the scatter plot\n",
    "g1800s.plot(kind='scatter', x='1800', y='1899')\n",
    "\n",
    "# Specify axis labels\n",
    "plt.xlabel('Life Expectancy by Country in 1800')\n",
    "plt.ylabel('Life Expectancy by Country in 1899')\n",
    "\n",
    "# Specify axis limits\n",
    "plt.xlim(20, 55)\n",
    "plt.ylim(20, 55)\n",
    "\n",
    "# Display the plot\n",
    "plt.show()"
   ]
  },
  {
   "cell_type": "markdown",
   "metadata": {},
   "source": [
    "assertions"
   ]
  },
  {
   "cell_type": "code",
   "execution_count": 13,
   "metadata": {
    "collapsed": false
   },
   "outputs": [
    {
     "ename": "AssertionError",
     "evalue": "",
     "output_type": "error",
     "traceback": [
      "\u001b[0;31m---------------------------------------------------------------------------\u001b[0m",
      "\u001b[0;31mAssertionError\u001b[0m                            Traceback (most recent call last)",
      "\u001b[0;32m<ipython-input-13-4b664deee14c>\u001b[0m in \u001b[0;36m<module>\u001b[0;34m()\u001b[0m\n\u001b[1;32m     10\u001b[0m \u001b[1;33m\u001b[0m\u001b[0m\n\u001b[1;32m     11\u001b[0m \u001b[1;31m# Check whether the first column is 'Life expectancy'\u001b[0m\u001b[1;33m\u001b[0m\u001b[1;33m\u001b[0m\u001b[0m\n\u001b[0;32m---> 12\u001b[0;31m \u001b[1;32massert\u001b[0m \u001b[0mg1800s\u001b[0m\u001b[1;33m.\u001b[0m\u001b[0mcolumns\u001b[0m\u001b[1;33m[\u001b[0m\u001b[1;36m0\u001b[0m\u001b[1;33m]\u001b[0m \u001b[1;33m==\u001b[0m \u001b[1;34m'Life expectancy'\u001b[0m\u001b[1;33m\u001b[0m\u001b[0m\n\u001b[0m\u001b[1;32m     13\u001b[0m \u001b[1;33m\u001b[0m\u001b[0m\n\u001b[1;32m     14\u001b[0m \u001b[1;31m# Check whether the values in the row are valid\u001b[0m\u001b[1;33m\u001b[0m\u001b[1;33m\u001b[0m\u001b[0m\n",
      "\u001b[0;31mAssertionError\u001b[0m: "
     ]
    }
   ],
   "source": [
    "def check_null_or_valid(row_data):\n",
    "    \"\"\"Function that takes a row of data,\n",
    "    drops all missing values,\n",
    "    and checks if all remaining values are greater than or equal to 0\n",
    "    \"\"\"\n",
    "    no_na = row_data.dropna()[1:-1]\n",
    "    numeric = pd.to_numeric(no_na)\n",
    "    ge0 = numeric >= 0\n",
    "    return ge0\n",
    "\n",
    "# Check whether the first column is 'Life expectancy'\n",
    "assert g1800s.columns[0] == 'Life expectancy'\n",
    "\n",
    "# Check whether the values in the row are valid\n",
    "assert g1800s.iloc[:, 1:].apply(check_null_or_valid, axis=1).all().all()\n",
    "\n",
    "# Check that there is only one instance of each country\n",
    "assert g1800s['Life expectancy'].value_counts()[0] == 1"
   ]
  },
  {
   "cell_type": "code",
   "execution_count": 15,
   "metadata": {
    "collapsed": false
   },
   "outputs": [
    {
     "data": {
      "text/plain": [
       "Unnamed: 0           int64\n",
       "1800               float64\n",
       "1801               float64\n",
       "1802               float64\n",
       "1803               float64\n",
       "1804               float64\n",
       "1805               float64\n",
       "1806               float64\n",
       "1807               float64\n",
       "1808               float64\n",
       "1809               float64\n",
       "1810               float64\n",
       "1811               float64\n",
       "1812               float64\n",
       "1813               float64\n",
       "1814               float64\n",
       "1815               float64\n",
       "1816               float64\n",
       "1817               float64\n",
       "1818               float64\n",
       "1819               float64\n",
       "1820               float64\n",
       "1821               float64\n",
       "1822               float64\n",
       "1823               float64\n",
       "1824               float64\n",
       "1825               float64\n",
       "1826               float64\n",
       "1827               float64\n",
       "1828               float64\n",
       "                    ...   \n",
       "1988               float64\n",
       "1989               float64\n",
       "1990               float64\n",
       "1991               float64\n",
       "1992               float64\n",
       "1993               float64\n",
       "1994               float64\n",
       "1995               float64\n",
       "1996               float64\n",
       "1997               float64\n",
       "1998               float64\n",
       "1999               float64\n",
       "2000               float64\n",
       "2001               float64\n",
       "2002               float64\n",
       "2003               float64\n",
       "2004               float64\n",
       "2005               float64\n",
       "2006               float64\n",
       "2007               float64\n",
       "2008               float64\n",
       "2009               float64\n",
       "2010               float64\n",
       "2011               float64\n",
       "2012               float64\n",
       "2013               float64\n",
       "2014               float64\n",
       "2015               float64\n",
       "2016               float64\n",
       "Life expectancy     object\n",
       "dtype: object"
      ]
     },
     "execution_count": 15,
     "metadata": {},
     "output_type": "execute_result"
    }
   ],
   "source": [
    "g1800s.dtypes #типы по столбцам"
   ]
  },
  {
   "cell_type": "code",
   "execution_count": null,
   "metadata": {
    "collapsed": true
   },
   "outputs": [],
   "source": [
    "# Melt gapminder: gapminder_melt\n",
    "gapminder_melt = pd.melt(gapminder, id_vars='Life expectancy')\n",
    "\n",
    "# Rename the columns\n",
    "gapminder_melt.columns = ['country', 'year', 'life_expectancy']\n",
    "\n",
    "# Print the head of gapminder_melt\n",
    "print(gapminder_melt.head())"
   ]
  },
  {
   "cell_type": "code",
   "execution_count": null,
   "metadata": {
    "collapsed": true
   },
   "outputs": [],
   "source": [
    "# Convert the year column to numeric\n",
    "gapminder.year = pd.to_numeric(gapminder.year)\n",
    "\n",
    "# Test if country is of type object\n",
    "assert gapminder.country.dtypes == np.object\n",
    "\n",
    "# Test if year is of type int64\n",
    "assert gapminder.year.dtypes == np.int64\n",
    "\n",
    "# Test if life_expectancy is of type float64\n",
    "assert gapminder.life_expectancy.dtypes == np.float64"
   ]
  },
  {
   "cell_type": "code",
   "execution_count": null,
   "metadata": {
    "collapsed": true
   },
   "outputs": [],
   "source": [
    "# Create the series of countries: countries\n",
    "countries = gapminder['country']\n",
    "\n",
    "# Drop all the duplicates from countries\n",
    "countries = countries.drop_duplicates()\n",
    "\n",
    "# Write the regular expression: pattern\n",
    "pattern = '^[A-Za-z\\.\\s]*$'\n",
    "\n",
    "# Create the Boolean vector: mask\n",
    "mask = countries.str.contains(pattern)\n",
    "\n",
    "# Invert the mask: mask_inverse\n",
    "mask_inverse = ~mask"
   ]
  },
  {
   "cell_type": "code",
   "execution_count": null,
   "metadata": {
    "collapsed": true
   },
   "outputs": [],
   "source": [
    "# Assert that country does not contain any missing values\n",
    "assert pd.notnull(gapminder.country).all()\n",
    "\n",
    "# Assert that year does not contain any missing values\n",
    "assert pd.notnull(gapminder.year).all()\n",
    "\n",
    "# Drop the missing values\n",
    "gapminder = gapminder.dropna(how='any')\n",
    "\n",
    "# Print the shape of gapminder\n",
    "print(gapminder.shape)"
   ]
  },
  {
   "cell_type": "code",
   "execution_count": null,
   "metadata": {
    "collapsed": true
   },
   "outputs": [],
   "source": [
    "# Add first subplot\n",
    "plt.subplot(2, 1, 1) \n",
    "\n",
    "# Create a histogram of life_expectancy\n",
    "gapminder.life_expectancy.plot(kind='hist')\n",
    "\n",
    "# Group gapminder: gapminder_agg\n",
    "gapminder_agg = gapminder.groupby('year')['life_expectancy'].mean()\n",
    "\n",
    "# Print the head of gapminder_agg\n",
    "print(gapminder_agg.head())\n",
    "\n",
    "# Print the tail of gapminder_agg\n",
    "print(gapminder_agg.tail())"
   ]
  },
  {
   "cell_type": "code",
   "execution_count": null,
   "metadata": {
    "collapsed": true
   },
   "outputs": [],
   "source": []
  },
  {
   "cell_type": "code",
   "execution_count": null,
   "metadata": {
    "collapsed": true
   },
   "outputs": [],
   "source": []
  },
  {
   "cell_type": "code",
   "execution_count": null,
   "metadata": {
    "collapsed": true
   },
   "outputs": [],
   "source": []
  }
 ],
 "metadata": {
  "kernelspec": {
   "display_name": "Python 3",
   "language": "python",
   "name": "python3"
  },
  "language_info": {
   "codemirror_mode": {
    "name": "ipython",
    "version": 3
   },
   "file_extension": ".py",
   "mimetype": "text/x-python",
   "name": "python",
   "nbconvert_exporter": "python",
   "pygments_lexer": "ipython3",
   "version": "3.6.0"
  }
 },
 "nbformat": 4,
 "nbformat_minor": 2
}
