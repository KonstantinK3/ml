{
 "cells": [
  {
   "cell_type": "markdown",
   "metadata": {},
   "source": [
    "Импорт JSON из файла"
   ]
  },
  {
   "cell_type": "code",
   "execution_count": 9,
   "metadata": {},
   "outputs": [
    {
     "name": "stdout",
     "output_type": "stream",
     "text": [
      "<class 'dict'>\n",
      "arch: x86_64\n",
      "build: py36_0\n",
      "build_number: 0\n",
      "depends: ['python 3.6*']\n",
      "files: ['Lib/site-packages/alabaster-0.7.10-py3.6.egg-info/PKG-INFO', 'Lib/site-packages/alabaster-0.7.10-py3.6.egg-info/SOURCES.txt', 'Lib/site-packages/alabaster-0.7.10-py3.6.egg-info/dependency_links.txt', 'Lib/site-packages/alabaster-0.7.10-py3.6.egg-info/top_level.txt']\n",
      "installed_by: Anaconda3-4.4.0-Windows-x86_64\n",
      "license: BSD\n",
      "link: None\n",
      "md5: aa56a094f5de76f4a4b4053dc2975474\n"
     ]
    }
   ],
   "source": [
    "import json\n",
    "with open('example.json', 'r') as file:\n",
    "    json_data = json.load(file)\n",
    "print(type(json_data))\n",
    "for key, value in json_data.items():\n",
    "    print(key + \":\", value)"
   ]
  },
  {
   "cell_type": "markdown",
   "metadata": {},
   "source": [
    "запрос данных в JSON и декодирование"
   ]
  },
  {
   "cell_type": "code",
   "execution_count": 11,
   "metadata": {},
   "outputs": [
    {
     "name": "stdout",
     "output_type": "stream",
     "text": [
      "Title : Hackers\n",
      "Year : 1995\n",
      "Rated : PG-13\n",
      "Released : 15 Sep 1995\n",
      "Runtime : 107 min\n",
      "Genre : Comedy, Crime, Drama\n",
      "Director : Iain Softley\n",
      "Writer : Rafael Moreu\n",
      "Actors : Jonny Lee Miller, Angelina Jolie, Jesse Bradford, Matthew Lillard\n",
      "Plot : This movie is about hackers who are blamed for making a virus that will capsize 5 oil tankers.\n",
      "Language : English, Italian, Japanese, Russian\n",
      "Country : USA\n",
      "Awards : N/A\n",
      "Poster : https://images-na.ssl-images-amazon.com/images/M/MV5BODg0NjQ5ODQ3OF5BMl5BanBnXkFtZTcwNjU4MjkzNA@@._V1_SX300.jpg\n",
      "Ratings : [{'Source': 'Internet Movie Database', 'Value': '6.2/10'}, {'Source': 'Rotten Tomatoes', 'Value': '32%'}, {'Source': 'Metacritic', 'Value': '46/100'}]\n",
      "Metascore : 46\n",
      "imdbRating : 6.2\n",
      "imdbVotes : 58,647\n",
      "imdbID : tt0113243\n",
      "Type : movie\n",
      "DVD : 24 Apr 2001\n",
      "BoxOffice : N/A\n",
      "Production : MGM Home Entertainment\n",
      "Website : N/A\n",
      "Response : True\n"
     ]
    }
   ],
   "source": [
    "import requests\n",
    "url = 'http://www.omdbapi.com/?t=hackers&apikey=ff21610b'\n",
    "r = requests.get(url)\n",
    "json_data = r.json()\n",
    "for key, value in json_data.items():\n",
    "    print(key, \":\", value)"
   ]
  },
  {
   "cell_type": "code",
   "execution_count": null,
   "metadata": {
    "collapsed": true
   },
   "outputs": [],
   "source": []
  },
  {
   "cell_type": "code",
   "execution_count": null,
   "metadata": {
    "collapsed": true
   },
   "outputs": [],
   "source": []
  },
  {
   "cell_type": "code",
   "execution_count": null,
   "metadata": {
    "collapsed": true
   },
   "outputs": [],
   "source": []
  },
  {
   "cell_type": "code",
   "execution_count": null,
   "metadata": {
    "collapsed": true
   },
   "outputs": [],
   "source": []
  },
  {
   "cell_type": "code",
   "execution_count": null,
   "metadata": {
    "collapsed": true
   },
   "outputs": [],
   "source": []
  }
 ],
 "metadata": {
  "kernelspec": {
   "display_name": "Python 3",
   "language": "python",
   "name": "python3"
  },
  "language_info": {
   "codemirror_mode": {
    "name": "ipython",
    "version": 3
   },
   "file_extension": ".py",
   "mimetype": "text/x-python",
   "name": "python",
   "nbconvert_exporter": "python",
   "pygments_lexer": "ipython3",
   "version": "3.6.1"
  }
 },
 "nbformat": 4,
 "nbformat_minor": 2
}
